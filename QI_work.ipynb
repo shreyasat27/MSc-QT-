{
  "nbformat": 4,
  "nbformat_minor": 0,
  "metadata": {
    "colab": {
      "provenance": [],
      "authorship_tag": "ABX9TyMCHIK7TSc6VF6cdVBYTpVy",
      "include_colab_link": true
    },
    "kernelspec": {
      "name": "python3",
      "display_name": "Python 3"
    },
    "language_info": {
      "name": "python"
    }
  },
  "cells": [
    {
      "cell_type": "markdown",
      "metadata": {
        "id": "view-in-github",
        "colab_type": "text"
      },
      "source": [
        "<a href=\"https://colab.research.google.com/github/shreyasat27/MSc-QT-/blob/main/QI_work.ipynb\" target=\"_parent\"><img src=\"https://colab.research.google.com/assets/colab-badge.svg\" alt=\"Open In Colab\"/></a>"
      ]
    },
    {
      "cell_type": "code",
      "execution_count": 6,
      "metadata": {
        "colab": {
          "base_uri": "https://localhost:8080/"
        },
        "id": "sq9KADwGBfg3",
        "outputId": "691cd3ff-8dda-4cd6-e83e-ee3b67535eb0"
      },
      "outputs": [
        {
          "output_type": "stream",
          "name": "stdout",
          "text": [
            "Matrix C:\n",
            "[[ 0.          0.26726124]\n",
            " [ 0.53452248 -0.80178373]]\n",
            "\n",
            "Matrix U:\n",
            "[[ 0.22975292 -0.97324899]\n",
            " [-0.97324899 -0.22975292]]\n",
            "\n",
            "Singular Values (D matrix):\n",
            "[[0.98952384 0.        ]\n",
            " [0.         0.14436958]]\n",
            "\n",
            "Matrix V†:\n",
            "[[-0.52573111  0.85065081]\n",
            " [-0.85065081 -0.52573111]]\n",
            "\n",
            "Reconstructed C (U D V†):\n",
            "[[ 4.19054524e-17  2.67261242e-01]\n",
            " [ 5.34522484e-01 -8.01783726e-01]]\n"
          ]
        }
      ],
      "source": [
        "import numpy as np\n",
        "\n",
        "# Define a matrix C\n",
        "C = np.array([[0, 1/np.sqrt(14)],\n",
        "              [2/np.sqrt(14), -3/np.sqrt(14)]])\n",
        "\n",
        "# Perform Singular Value Decomposition\n",
        "U, singular_values, Vh = np.linalg.svd(C)\n",
        "\n",
        "# Construct the diagonal matrix D\n",
        "D = np.zeros_like(C, dtype=float)\n",
        "np.fill_diagonal(D, singular_values)\n",
        "\n",
        "# Reconstruct C from U, D, and Vh\n",
        "C_reconstructed = U @ D @ Vh\n",
        "\n",
        "# Display results\n",
        "print(\"Matrix C:\")\n",
        "print(C)\n",
        "print(\"\\nMatrix U:\")\n",
        "print(U)\n",
        "print(\"\\nSingular Values (D matrix):\")\n",
        "print(D)\n",
        "print(\"\\nMatrix V†:\")\n",
        "print(Vh)\n",
        "print(\"\\nReconstructed C (U D V†):\")\n",
        "print(C_reconstructed)\n"
      ]
    },
    {
      "cell_type": "code",
      "source": [
        "import math\n",
        "\n",
        "# Given coefficients\n",
        "a, b, c = 1, -1, 0.140625\n",
        "\n",
        "# Compute the discriminant\n",
        "D = b**2 - 4*a*c\n",
        "\n",
        "# Compute roots\n",
        "root1 = (-b + math.sqrt(D)) / (2 * a)\n",
        "root2 = (-b - math.sqrt(D)) / (2 * a)\n",
        "\n",
        "# Print results\n",
        "print(f\"Roots of the quadratic equation: {root1:.4f}, {root2:.4f}\")\n",
        "\n"
      ],
      "metadata": {
        "colab": {
          "base_uri": "https://localhost:8080/"
        },
        "id": "GmjSFt6i8ftQ",
        "outputId": "66473b24-fabb-46a8-c30d-0b9892b5af79"
      },
      "execution_count": 4,
      "outputs": [
        {
          "output_type": "stream",
          "name": "stdout",
          "text": [
            "Roots of the quadratic equation: 0.8307, 0.1693\n"
          ]
        }
      ]
    },
    {
      "cell_type": "code",
      "source": [
        "!pip install qutip"
      ],
      "metadata": {
        "colab": {
          "base_uri": "https://localhost:8080/"
        },
        "id": "SOcLlAl0_Olx",
        "outputId": "a35ca317-0ff9-402a-eaf7-2b04b8d9fcaa"
      },
      "execution_count": 5,
      "outputs": [
        {
          "output_type": "stream",
          "name": "stdout",
          "text": [
            "Collecting qutip\n",
            "  Downloading qutip-5.1.1-cp311-cp311-manylinux_2_17_x86_64.manylinux2014_x86_64.whl.metadata (9.2 kB)\n",
            "Requirement already satisfied: numpy>=1.22 in /usr/local/lib/python3.11/dist-packages (from qutip) (1.26.4)\n",
            "Requirement already satisfied: scipy>=1.9 in /usr/local/lib/python3.11/dist-packages (from qutip) (1.13.1)\n",
            "Requirement already satisfied: packaging in /usr/local/lib/python3.11/dist-packages (from qutip) (24.2)\n",
            "Downloading qutip-5.1.1-cp311-cp311-manylinux_2_17_x86_64.manylinux2014_x86_64.whl (30.1 MB)\n",
            "\u001b[2K   \u001b[90m━━━━━━━━━━━━━━━━━━━━━━━━━━━━━━━━━━━━━━━━\u001b[0m \u001b[32m30.1/30.1 MB\u001b[0m \u001b[31m35.0 MB/s\u001b[0m eta \u001b[36m0:00:00\u001b[0m\n",
            "\u001b[?25hInstalling collected packages: qutip\n",
            "Successfully installed qutip-5.1.1\n"
          ]
        }
      ]
    },
    {
      "cell_type": "code",
      "source": [
        "import numpy as np\n",
        "from qutip import *\n",
        "\n",
        "def is_pure_state(psi):\n",
        "    # Convert state vector to density matrix if it's a ket\n",
        "    if psi.type == 'ket':\n",
        "        rho = psi * psi.dag()  # Outer product to form density matrix\n",
        "    else:\n",
        "        rho = psi\n",
        "\n",
        "    # Compute purity Tr(rho^2)\n",
        "    purity = (rho * rho).tr()\n",
        "\n",
        "    return np.isclose(purity, 1), purity\n",
        "\n",
        "# Example 1: Pure state |0⟩\n",
        "psi_pure = basis(2, 0)\n",
        "print(is_pure_state(psi_pure))  # (True, 1.0)\n",
        "\n",
        "# Example 2: Mixed state ρ = 0.5|0⟩⟨0| + 0.5|1⟩⟨1|\n",
        "rho_mixed = 0.5 * basis(2, 0) * basis(2, 0).dag() + 0.5 * basis(2, 1) * basis(2, 1).dag()\n",
        "print(is_pure_state(rho_mixed))  # (False, 0.5)\n"
      ],
      "metadata": {
        "id": "_cHhproS_M6c"
      },
      "execution_count": null,
      "outputs": []
    }
  ]
}