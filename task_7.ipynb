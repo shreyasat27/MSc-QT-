{
  "nbformat": 4,
  "nbformat_minor": 0,
  "metadata": {
    "colab": {
      "provenance": [],
      "authorship_tag": "ABX9TyOHQQwqK4z1mPm2DlUFI5L4",
      "include_colab_link": true
    },
    "kernelspec": {
      "name": "python3",
      "display_name": "Python 3"
    },
    "language_info": {
      "name": "python"
    }
  },
  "cells": [
    {
      "cell_type": "markdown",
      "metadata": {
        "id": "view-in-github",
        "colab_type": "text"
      },
      "source": [
        "<a href=\"https://colab.research.google.com/github/shreyasat27/MSc-QT-/blob/main/task_7.ipynb\" target=\"_parent\"><img src=\"https://colab.research.google.com/assets/colab-badge.svg\" alt=\"Open In Colab\"/></a>"
      ]
    },
    {
      "cell_type": "code",
      "source": [
        "import sympy as sp\n",
        "import numpy as np\n",
        "sp.init_printing(use_unicode=True)\n",
        "\n",
        "# Define symbols\n",
        "\n",
        "E0, phi, t_sc, t_sf, epsilon, E_z, Eplus, Eminus, phiplus, phiminus = sp.symbols('E0 phi t_{sc} t_{sf} epsilon E_z E_+, E_-, phi_+, phi_-', real=True)\n",
        "\n",
        "\n",
        "# Express epsilon and t_sc in terms of phi_0\n",
        "#epsilon = E0 * sp.sin(phi)\n",
        "#t_sc = (E0 / 2) * sp.cos(phi)\n",
        "\n",
        "# Build the Hamiltonian matrix\n",
        "H0 = (E0 / 2) * sp.Matrix([[sp.sin(phi), sp.cos(phi)],\n",
        "                          [sp.cos(phi), -sp.sin(phi)]])\n",
        "\n",
        "P0 = sp.simplify(sp.Matrix([[sp.cos(sp.pi/4+phi/2),-sp.sin(sp.pi/4+phi/2)],[-sp.sin(sp.pi/4+phi/2),-sp.cos(sp.pi/4+phi/2)]]))\n",
        "\n"
      ],
      "metadata": {
        "id": "VzG3n77Z1jhw"
      },
      "execution_count": 31,
      "outputs": []
    },
    {
      "cell_type": "code",
      "source": [
        "H0"
      ],
      "metadata": {
        "colab": {
          "base_uri": "https://localhost:8080/",
          "height": 68
        },
        "id": "QH81jfofq07A",
        "outputId": "829d56db-0325-4933-a7ff-08435e67d3ba"
      },
      "execution_count": 32,
      "outputs": [
        {
          "output_type": "execute_result",
          "data": {
            "text/plain": [
              "⎡E₀⋅sin(φ)   E₀⋅cos(φ) ⎤\n",
              "⎢─────────   ───────── ⎥\n",
              "⎢    2           2     ⎥\n",
              "⎢                      ⎥\n",
              "⎢E₀⋅cos(φ)  -E₀⋅sin(φ) ⎥\n",
              "⎢─────────  ───────────⎥\n",
              "⎣    2           2     ⎦"
            ],
            "text/latex": "$\\displaystyle \\left[\\begin{matrix}\\frac{E_{0} \\sin{\\left(\\phi \\right)}}{2} & \\frac{E_{0} \\cos{\\left(\\phi \\right)}}{2}\\\\\\frac{E_{0} \\cos{\\left(\\phi \\right)}}{2} & - \\frac{E_{0} \\sin{\\left(\\phi \\right)}}{2}\\end{matrix}\\right]$"
          },
          "metadata": {},
          "execution_count": 32
        }
      ]
    },
    {
      "cell_type": "code",
      "source": [
        "P0"
      ],
      "metadata": {
        "colab": {
          "base_uri": "https://localhost:8080/",
          "height": 78
        },
        "id": "t6HZugQyq2K9",
        "outputId": "0b647998-fd7d-4e47-9e79-72a10cc2134c"
      },
      "execution_count": 33,
      "outputs": [
        {
          "output_type": "execute_result",
          "data": {
            "text/plain": [
              "⎡   ⎛φ   π⎞       ⎛φ   π⎞⎤\n",
              "⎢cos⎜─ + ─⎟   -sin⎜─ + ─⎟⎥\n",
              "⎢   ⎝2   4⎠       ⎝2   4⎠⎥\n",
              "⎢                        ⎥\n",
              "⎢    ⎛φ   π⎞      ⎛φ   π⎞⎥\n",
              "⎢-sin⎜─ + ─⎟  -cos⎜─ + ─⎟⎥\n",
              "⎣    ⎝2   4⎠      ⎝2   4⎠⎦"
            ],
            "text/latex": "$\\displaystyle \\left[\\begin{matrix}\\cos{\\left(\\frac{\\phi}{2} + \\frac{\\pi}{4} \\right)} & - \\sin{\\left(\\frac{\\phi}{2} + \\frac{\\pi}{4} \\right)}\\\\- \\sin{\\left(\\frac{\\phi}{2} + \\frac{\\pi}{4} \\right)} & - \\cos{\\left(\\frac{\\phi}{2} + \\frac{\\pi}{4} \\right)}\\end{matrix}\\right]$"
          },
          "metadata": {},
          "execution_count": 33
        }
      ]
    },
    {
      "cell_type": "code",
      "source": [
        "K = sp.simplify(sp.simplify(P0 @ H0 @ P0.transpose()))\n",
        "K"
      ],
      "metadata": {
        "colab": {
          "base_uri": "https://localhost:8080/",
          "height": 59
        },
        "id": "Nt4EPS3mrImJ",
        "outputId": "0c751d3b-4a64-41b8-9f00-863cf7323f9d"
      },
      "execution_count": 34,
      "outputs": [
        {
          "output_type": "execute_result",
          "data": {
            "text/plain": [
              "⎡-E₀     ⎤\n",
              "⎢────  0 ⎥\n",
              "⎢ 2      ⎥\n",
              "⎢        ⎥\n",
              "⎢      E₀⎥\n",
              "⎢ 0    ──⎥\n",
              "⎣      2 ⎦"
            ],
            "text/latex": "$\\displaystyle \\left[\\begin{matrix}- \\frac{E_{0}}{2} & 0\\\\0 & \\frac{E_{0}}{2}\\end{matrix}\\right]$"
          },
          "metadata": {},
          "execution_count": 34
        }
      ]
    },
    {
      "cell_type": "code",
      "source": [
        "H0 = sp.Matrix([[-epsilon/2 + E_z/2, 0, t_sc, t_sf], [0, -epsilon/2 -E_z/2 , -t_sf, t_sc], [t_sc, -t_sf, epsilon/2 + E_z/2, 0], [t_sf, t_sc, 0, epsilon/2 -E_z/2]])\n",
        "H0"
      ],
      "metadata": {
        "colab": {
          "base_uri": "https://localhost:8080/",
          "height": 102
        },
        "id": "2dqq5Yqlrl-Y",
        "outputId": "39ef23fa-1158-4ae3-baf0-b1254f258847"
      },
      "execution_count": 35,
      "outputs": [
        {
          "output_type": "execute_result",
          "data": {
            "text/plain": [
              "⎡E_z   ε                               ⎤\n",
              "⎢─── - ─      0      t_{sc}    t_{sf}  ⎥\n",
              "⎢ 2    2                               ⎥\n",
              "⎢                                      ⎥\n",
              "⎢           E_z   ε                    ⎥\n",
              "⎢   0     - ─── - ─  -t_{sf}   t_{sc}  ⎥\n",
              "⎢            2    2                    ⎥\n",
              "⎢                                      ⎥\n",
              "⎢                    E_z   ε           ⎥\n",
              "⎢t_{sc}    -t_{sf}   ─── + ─      0    ⎥\n",
              "⎢                     2    2           ⎥\n",
              "⎢                                      ⎥\n",
              "⎢                               E_z   ε⎥\n",
              "⎢t_{sf}    t_{sc}       0     - ─── + ─⎥\n",
              "⎣                                2    2⎦"
            ],
            "text/latex": "$\\displaystyle \\left[\\begin{matrix}\\frac{E_{z}}{2} - \\frac{\\epsilon}{2} & 0 & t_{sc} & t_{sf}\\\\0 & - \\frac{E_{z}}{2} - \\frac{\\epsilon}{2} & - t_{sf} & t_{sc}\\\\t_{sc} & - t_{sf} & \\frac{E_{z}}{2} + \\frac{\\epsilon}{2} & 0\\\\t_{sf} & t_{sc} & 0 & - \\frac{E_{z}}{2} + \\frac{\\epsilon}{2}\\end{matrix}\\right]$"
          },
          "metadata": {},
          "execution_count": 35
        }
      ]
    },
    {
      "cell_type": "code",
      "source": [
        "E0, phi0 = sp.symbols('E0, phi0', real=True)\n",
        "#epsilon = E0 * sp.sin(phi)\n",
        "#t_sc = (E0 / 2) * sp.cos(phi)\n",
        "\n",
        "H0subs = H0.subs({epsilon:E0*sp.sin(phi0), t_sc:E0/2*sp.cos(phi0)})\n",
        "H0subs\n",
        "\n"
      ],
      "metadata": {
        "colab": {
          "base_uri": "https://localhost:8080/",
          "height": 110
        },
        "id": "80cwxDoPr7Se",
        "outputId": "4a145e56-af5e-4bcd-9f22-10eb595340a2"
      },
      "execution_count": 36,
      "outputs": [
        {
          "output_type": "execute_result",
          "data": {
            "text/plain": [
              "⎡  E₀⋅sin(φ₀)   E_z                         E₀⋅cos(φ₀)                     ⎤\n",
              "⎢- ────────── + ───          0              ──────────          t_{sf}     ⎥\n",
              "⎢      2         2                              2                          ⎥\n",
              "⎢                                                                          ⎥\n",
              "⎢                      E₀⋅sin(φ₀)   E_z                       E₀⋅cos(φ₀)   ⎥\n",
              "⎢        0           - ────────── - ───      -t_{sf}          ──────────   ⎥\n",
              "⎢                          2         2                            2        ⎥\n",
              "⎢                                                                          ⎥\n",
              "⎢    E₀⋅cos(φ₀)                          E₀⋅sin(φ₀)   E_z                  ⎥\n",
              "⎢    ──────────           -t_{sf}        ────────── + ───         0        ⎥\n",
              "⎢        2                                   2         2                   ⎥\n",
              "⎢                                                                          ⎥\n",
              "⎢                        E₀⋅cos(φ₀)                        E₀⋅sin(φ₀)   E_z⎥\n",
              "⎢      t_{sf}            ──────────             0          ────────── - ───⎥\n",
              "⎣                            2                                 2         2 ⎦"
            ],
            "text/latex": "$\\displaystyle \\left[\\begin{matrix}- \\frac{E_{0} \\sin{\\left(\\phi_{0} \\right)}}{2} + \\frac{E_{z}}{2} & 0 & \\frac{E_{0} \\cos{\\left(\\phi_{0} \\right)}}{2} & t_{sf}\\\\0 & - \\frac{E_{0} \\sin{\\left(\\phi_{0} \\right)}}{2} - \\frac{E_{z}}{2} & - t_{sf} & \\frac{E_{0} \\cos{\\left(\\phi_{0} \\right)}}{2}\\\\\\frac{E_{0} \\cos{\\left(\\phi_{0} \\right)}}{2} & - t_{sf} & \\frac{E_{0} \\sin{\\left(\\phi_{0} \\right)}}{2} + \\frac{E_{z}}{2} & 0\\\\t_{sf} & \\frac{E_{0} \\cos{\\left(\\phi_{0} \\right)}}{2} & 0 & \\frac{E_{0} \\sin{\\left(\\phi_{0} \\right)}}{2} - \\frac{E_{z}}{2}\\end{matrix}\\right]$"
          },
          "metadata": {},
          "execution_count": 36
        }
      ]
    },
    {
      "cell_type": "code",
      "source": [
        "U0 = sp.simplify(\n",
        "    sp.Matrix([[sp.cos(sp.pi/4-phi0/2),0,-sp.sin(sp.pi/4-phi0/2),0],\n",
        "               [0,sp.cos(sp.pi/4-phi0/2),0,-sp.sin(sp.pi/4-phi0/2)],\n",
        "               [-sp.sin(sp.pi/4-phi0/2),0,-sp.cos(sp.pi/4-phi0/2),0],\n",
        "              [0,-sp.sin(sp.pi/4-phi0/2),0,-sp.cos(sp.pi/4-phi0/2)]]))\n",
        "\n",
        "H1 = sp.simplify(sp.simplify(U0 @ H0subs @ U0.transpose()))\n",
        "H1"
      ],
      "metadata": {
        "colab": {
          "base_uri": "https://localhost:8080/",
          "height": 102
        },
        "id": "BrxXEKtCsaOe",
        "outputId": "7fadcf22-43f6-47dc-f88a-70f07755f275"
      },
      "execution_count": 37,
      "outputs": [
        {
          "output_type": "execute_result",
          "data": {
            "text/plain": [
              "⎡  E₀   E_z                                ⎤\n",
              "⎢- ── + ───      0          0      -t_{sf} ⎥\n",
              "⎢  2     2                                 ⎥\n",
              "⎢                                          ⎥\n",
              "⎢              E₀   E_z                    ⎥\n",
              "⎢    0       - ── - ───   t_{sf}      0    ⎥\n",
              "⎢              2     2                     ⎥\n",
              "⎢                                          ⎥\n",
              "⎢                        E₀   E_z          ⎥\n",
              "⎢    0         t_{sf}    ── + ───     0    ⎥\n",
              "⎢                        2     2           ⎥\n",
              "⎢                                          ⎥\n",
              "⎢                                  E₀   E_z⎥\n",
              "⎢ -t_{sf}        0          0      ── - ───⎥\n",
              "⎣                                  2     2 ⎦"
            ],
            "text/latex": "$\\displaystyle \\left[\\begin{matrix}- \\frac{E_{0}}{2} + \\frac{E_{z}}{2} & 0 & 0 & - t_{sf}\\\\0 & - \\frac{E_{0}}{2} - \\frac{E_{z}}{2} & t_{sf} & 0\\\\0 & t_{sf} & \\frac{E_{0}}{2} + \\frac{E_{z}}{2} & 0\\\\- t_{sf} & 0 & 0 & \\frac{E_{0}}{2} - \\frac{E_{z}}{2}\\end{matrix}\\right]$"
          },
          "metadata": {},
          "execution_count": 37
        }
      ]
    },
    {
      "cell_type": "code",
      "source": [
        "U0"
      ],
      "metadata": {
        "colab": {
          "base_uri": "https://localhost:8080/",
          "height": 139
        },
        "id": "OwsWzm3fsng9",
        "outputId": "bebe9064-121d-4426-ba1d-52ea1b12edc0"
      },
      "execution_count": 38,
      "outputs": [
        {
          "output_type": "execute_result",
          "data": {
            "text/plain": [
              "⎡   ⎛φ₀   π⎞                     ⎛φ₀   π⎞              ⎤\n",
              "⎢sin⎜── + ─⎟        0        -cos⎜── + ─⎟       0      ⎥\n",
              "⎢   ⎝2    4⎠                     ⎝2    4⎠              ⎥\n",
              "⎢                                                      ⎥\n",
              "⎢                 ⎛φ₀   π⎞                     ⎛φ₀   π⎞⎥\n",
              "⎢     0        sin⎜── + ─⎟        0        -cos⎜── + ─⎟⎥\n",
              "⎢                 ⎝2    4⎠                     ⎝2    4⎠⎥\n",
              "⎢                                                      ⎥\n",
              "⎢    ⎛φ₀   π⎞                    ⎛φ₀   π⎞              ⎥\n",
              "⎢-cos⎜── + ─⎟       0        -sin⎜── + ─⎟       0      ⎥\n",
              "⎢    ⎝2    4⎠                    ⎝2    4⎠              ⎥\n",
              "⎢                                                      ⎥\n",
              "⎢                  ⎛φ₀   π⎞                    ⎛φ₀   π⎞⎥\n",
              "⎢     0        -cos⎜── + ─⎟       0        -sin⎜── + ─⎟⎥\n",
              "⎣                  ⎝2    4⎠                    ⎝2    4⎠⎦"
            ],
            "text/latex": "$\\displaystyle \\left[\\begin{matrix}\\sin{\\left(\\frac{\\phi_{0}}{2} + \\frac{\\pi}{4} \\right)} & 0 & - \\cos{\\left(\\frac{\\phi_{0}}{2} + \\frac{\\pi}{4} \\right)} & 0\\\\0 & \\sin{\\left(\\frac{\\phi_{0}}{2} + \\frac{\\pi}{4} \\right)} & 0 & - \\cos{\\left(\\frac{\\phi_{0}}{2} + \\frac{\\pi}{4} \\right)}\\\\- \\cos{\\left(\\frac{\\phi_{0}}{2} + \\frac{\\pi}{4} \\right)} & 0 & - \\sin{\\left(\\frac{\\phi_{0}}{2} + \\frac{\\pi}{4} \\right)} & 0\\\\0 & - \\cos{\\left(\\frac{\\phi_{0}}{2} + \\frac{\\pi}{4} \\right)} & 0 & - \\sin{\\left(\\frac{\\phi_{0}}{2} + \\frac{\\pi}{4} \\right)}\\end{matrix}\\right]$"
          },
          "metadata": {},
          "execution_count": 38
        }
      ]
    },
    {
      "cell_type": "code",
      "source": [
        "H1sub = sp.Matrix.zeros(4, 4)\n",
        "\n",
        "subglobal={E0/2-E_z/2:Eminus/2*sp.cos(phiminus), E0/2+E_z/2:Eplus/2*sp.cos(phiplus)}\n",
        "sub03={t_sf:Eminus/2*sp.sin(phiminus)}\n",
        "sub12={t_sf:Eplus/2*sp.sin(phiplus)}\n",
        "\n",
        "for i in range(4):\n",
        "    row_sub = sub03 if i in [0, 3] else sub12\n",
        "    for j in range(4):\n",
        "        H1sub[i, j] = H1[i, j].subs(row_sub)\n",
        "\n",
        "H1sub = H1sub.subs(subglobal)\n",
        "H1sub"
      ],
      "metadata": {
        "colab": {
          "base_uri": "https://localhost:8080/",
          "height": 110
        },
        "id": "1r14uUCSss8H",
        "outputId": "4a159fdb-e7a2-47e7-ab59-26e8f867b18f"
      },
      "execution_count": 39,
      "outputs": [
        {
          "output_type": "execute_result",
          "data": {
            "text/plain": [
              "⎡-E₋⋅cos(φ₋)                             -E₋⋅sin(φ₋) ⎤\n",
              "⎢────────────       0            0       ────────────⎥\n",
              "⎢     2                                       2      ⎥\n",
              "⎢                                                    ⎥\n",
              "⎢              -E₊⋅cos(φ₊)   E₊⋅sin(φ₊)              ⎥\n",
              "⎢     0        ────────────  ──────────       0      ⎥\n",
              "⎢                   2            2                   ⎥\n",
              "⎢                                                    ⎥\n",
              "⎢               E₊⋅sin(φ₊)   E₊⋅cos(φ₊)              ⎥\n",
              "⎢     0         ──────────   ──────────       0      ⎥\n",
              "⎢                   2            2                   ⎥\n",
              "⎢                                                    ⎥\n",
              "⎢-E₋⋅sin(φ₋)                              E₋⋅cos(φ₋) ⎥\n",
              "⎢────────────       0            0        ────────── ⎥\n",
              "⎣     2                                       2      ⎦"
            ],
            "text/latex": "$\\displaystyle \\left[\\begin{matrix}- \\frac{E_{-} \\cos{\\left(\\phi_{-} \\right)}}{2} & 0 & 0 & - \\frac{E_{-} \\sin{\\left(\\phi_{-} \\right)}}{2}\\\\0 & - \\frac{E_{+} \\cos{\\left(\\phi_{+} \\right)}}{2} & \\frac{E_{+} \\sin{\\left(\\phi_{+} \\right)}}{2} & 0\\\\0 & \\frac{E_{+} \\sin{\\left(\\phi_{+} \\right)}}{2} & \\frac{E_{+} \\cos{\\left(\\phi_{+} \\right)}}{2} & 0\\\\- \\frac{E_{-} \\sin{\\left(\\phi_{-} \\right)}}{2} & 0 & 0 & \\frac{E_{-} \\cos{\\left(\\phi_{-} \\right)}}{2}\\end{matrix}\\right]$"
          },
          "metadata": {},
          "execution_count": 39
        }
      ]
    },
    {
      "cell_type": "code",
      "source": [
        "U1 = sp.simplify(\n",
        "    sp.Matrix([[sp.cos(phiminus/2),0,0,sp.sin(phiminus/2)],\n",
        "               [0,sp.cos(phiplus/2),-sp.sin(phiplus/2),0],\n",
        "               [0,-sp.sin(phiplus/2),-sp.cos(phiplus/2),0],\n",
        "              [sp.sin(phiminus/2),0,0,-sp.cos(phiminus/2)]]))\n",
        "H2 = sp.simplify(sp.simplify(U1 @ H1sub @ U1.transpose()))\n",
        "H2"
      ],
      "metadata": {
        "colab": {
          "base_uri": "https://localhost:8080/",
          "height": 104
        },
        "id": "kanqlw6NtM8T",
        "outputId": "c138f4eb-b0ca-425c-a0d5-e4ab844c8ff7"
      },
      "execution_count": 40,
      "outputs": [
        {
          "output_type": "execute_result",
          "data": {
            "text/plain": [
              "⎡-E₋               ⎤\n",
              "⎢────   0    0   0 ⎥\n",
              "⎢ 2                ⎥\n",
              "⎢                  ⎥\n",
              "⎢      -E₊         ⎥\n",
              "⎢ 0    ────  0   0 ⎥\n",
              "⎢       2          ⎥\n",
              "⎢                  ⎥\n",
              "⎢            E₊    ⎥\n",
              "⎢ 0     0    ──  0 ⎥\n",
              "⎢            2     ⎥\n",
              "⎢                  ⎥\n",
              "⎢                E₋⎥\n",
              "⎢ 0     0    0   ──⎥\n",
              "⎣                2 ⎦"
            ],
            "text/latex": "$\\displaystyle \\left[\\begin{matrix}- \\frac{E_{-}}{2} & 0 & 0 & 0\\\\0 & - \\frac{E_{+}}{2} & 0 & 0\\\\0 & 0 & \\frac{E_{+}}{2} & 0\\\\0 & 0 & 0 & \\frac{E_{-}}{2}\\end{matrix}\\right]$"
          },
          "metadata": {},
          "execution_count": 40
        }
      ]
    },
    {
      "cell_type": "code",
      "source": [
        "U1"
      ],
      "metadata": {
        "colab": {
          "base_uri": "https://localhost:8080/",
          "height": 139
        },
        "id": "v_5foILmtVec",
        "outputId": "f9af89fd-b9d9-4332-cfd1-607ca6e3bf0e"
      },
      "execution_count": 41,
      "outputs": [
        {
          "output_type": "execute_result",
          "data": {
            "text/plain": [
              "⎡   ⎛φ₋⎞                         ⎛φ₋⎞ ⎤\n",
              "⎢cos⎜──⎟     0         0      sin⎜──⎟ ⎥\n",
              "⎢   ⎝2 ⎠                         ⎝2 ⎠ ⎥\n",
              "⎢                                     ⎥\n",
              "⎢            ⎛φ₊⎞       ⎛φ₊⎞          ⎥\n",
              "⎢   0     cos⎜──⎟   -sin⎜──⎟     0    ⎥\n",
              "⎢            ⎝2 ⎠       ⎝2 ⎠          ⎥\n",
              "⎢                                     ⎥\n",
              "⎢             ⎛φ₊⎞      ⎛φ₊⎞          ⎥\n",
              "⎢   0     -sin⎜──⎟  -cos⎜──⎟     0    ⎥\n",
              "⎢             ⎝2 ⎠      ⎝2 ⎠          ⎥\n",
              "⎢                                     ⎥\n",
              "⎢   ⎛φ₋⎞                          ⎛φ₋⎞⎥\n",
              "⎢sin⎜──⎟     0         0      -cos⎜──⎟⎥\n",
              "⎣   ⎝2 ⎠                          ⎝2 ⎠⎦"
            ],
            "text/latex": "$\\displaystyle \\left[\\begin{matrix}\\cos{\\left(\\frac{\\phi_{-}}{2} \\right)} & 0 & 0 & \\sin{\\left(\\frac{\\phi_{-}}{2} \\right)}\\\\0 & \\cos{\\left(\\frac{\\phi_{+}}{2} \\right)} & - \\sin{\\left(\\frac{\\phi_{+}}{2} \\right)} & 0\\\\0 & - \\sin{\\left(\\frac{\\phi_{+}}{2} \\right)} & - \\cos{\\left(\\frac{\\phi_{+}}{2} \\right)} & 0\\\\\\sin{\\left(\\frac{\\phi_{-}}{2} \\right)} & 0 & 0 & - \\cos{\\left(\\frac{\\phi_{-}}{2} \\right)}\\end{matrix}\\right]$"
          },
          "metadata": {},
          "execution_count": 41
        }
      ]
    },
    {
      "cell_type": "code",
      "source": [
        "U2 = sp.Matrix([[0,0,1,0],[0,0,0,1],[0,1,0,0],[1,0,0,0]])\n",
        "H3 = sp.simplify(sp.simplify(U2 @ H2 @ U2.transpose()))\n",
        "H3"
      ],
      "metadata": {
        "colab": {
          "base_uri": "https://localhost:8080/",
          "height": 104
        },
        "id": "Xu5ItNQBtYYn",
        "outputId": "0cc35f9c-d4d4-4d9b-fa73-fb03fac56189"
      },
      "execution_count": 43,
      "outputs": [
        {
          "output_type": "execute_result",
          "data": {
            "text/plain": [
              "⎡E₊                ⎤\n",
              "⎢──  0    0     0  ⎥\n",
              "⎢2                 ⎥\n",
              "⎢                  ⎥\n",
              "⎢    E₋            ⎥\n",
              "⎢0   ──   0     0  ⎥\n",
              "⎢    2             ⎥\n",
              "⎢                  ⎥\n",
              "⎢        -E₊       ⎥\n",
              "⎢0   0   ────   0  ⎥\n",
              "⎢         2        ⎥\n",
              "⎢                  ⎥\n",
              "⎢              -E₋ ⎥\n",
              "⎢0   0    0    ────⎥\n",
              "⎣               2  ⎦"
            ],
            "text/latex": "$\\displaystyle \\left[\\begin{matrix}\\frac{E_{+}}{2} & 0 & 0 & 0\\\\0 & \\frac{E_{-}}{2} & 0 & 0\\\\0 & 0 & - \\frac{E_{+}}{2} & 0\\\\0 & 0 & 0 & - \\frac{E_{-}}{2}\\end{matrix}\\right]$"
          },
          "metadata": {},
          "execution_count": 43
        }
      ]
    },
    {
      "cell_type": "code",
      "source": [
        "Ufull = sp.simplify(sp.simplify(U2 @ U1 @ U0))\n",
        "Ufull"
      ],
      "metadata": {
        "colab": {
          "base_uri": "https://localhost:8080/",
          "height": 139
        },
        "id": "BnsV5RVVthcb",
        "outputId": "2fbe8bbb-02f6-464f-f70d-5b33fdedc5cd"
      },
      "execution_count": 45,
      "outputs": [
        {
          "output_type": "execute_result",
          "data": {
            "text/plain": [
              "⎡   ⎛φ₊⎞    ⎛φ₀   π⎞      ⎛φ₊⎞    ⎛φ₀   π⎞     ⎛φ₀   π⎞    ⎛φ₊⎞      ⎛φ₊⎞    ⎛ ↪\n",
              "⎢cos⎜──⎟⋅cos⎜── + ─⎟  -sin⎜──⎟⋅sin⎜── + ─⎟  sin⎜── + ─⎟⋅cos⎜──⎟   sin⎜──⎟⋅cos⎜ ↪\n",
              "⎢   ⎝2 ⎠    ⎝2    4⎠      ⎝2 ⎠    ⎝2    4⎠     ⎝2    4⎠    ⎝2 ⎠      ⎝2 ⎠    ⎝ ↪\n",
              "⎢                                                                              ↪\n",
              "⎢   ⎛φ₋⎞    ⎛φ₀   π⎞     ⎛φ₋⎞    ⎛φ₀   π⎞       ⎛φ₋⎞    ⎛φ₀   π⎞     ⎛φ₀   π⎞  ↪\n",
              "⎢sin⎜──⎟⋅sin⎜── + ─⎟  cos⎜──⎟⋅cos⎜── + ─⎟   -sin⎜──⎟⋅cos⎜── + ─⎟  sin⎜── + ─⎟⋅ ↪\n",
              "⎢   ⎝2 ⎠    ⎝2    4⎠     ⎝2 ⎠    ⎝2    4⎠       ⎝2 ⎠    ⎝2    4⎠     ⎝2    4⎠  ↪\n",
              "⎢                                                                              ↪\n",
              "⎢   ⎛φ₊⎞    ⎛φ₀   π⎞     ⎛φ₀   π⎞    ⎛φ₊⎞      ⎛φ₊⎞    ⎛φ₀   π⎞       ⎛φ₊⎞     ↪\n",
              "⎢sin⎜──⎟⋅cos⎜── + ─⎟  sin⎜── + ─⎟⋅cos⎜──⎟   sin⎜──⎟⋅sin⎜── + ─⎟   -cos⎜──⎟⋅cos ↪\n",
              "⎢   ⎝2 ⎠    ⎝2    4⎠     ⎝2    4⎠    ⎝2 ⎠      ⎝2 ⎠    ⎝2    4⎠       ⎝2 ⎠     ↪\n",
              "⎢                                                                              ↪\n",
              "⎢   ⎛φ₀   π⎞    ⎛φ₋⎞      ⎛φ₋⎞    ⎛φ₀   π⎞      ⎛φ₋⎞    ⎛φ₀   π⎞      ⎛φ₋⎞     ↪\n",
              "⎢sin⎜── + ─⎟⋅cos⎜──⎟  -sin⎜──⎟⋅cos⎜── + ─⎟  -cos⎜──⎟⋅cos⎜── + ─⎟  -sin⎜──⎟⋅sin ↪\n",
              "⎣   ⎝2    4⎠    ⎝2 ⎠      ⎝2 ⎠    ⎝2    4⎠      ⎝2 ⎠    ⎝2    4⎠      ⎝2 ⎠     ↪\n",
              "\n",
              "↪ φ₀   π⎞ ⎤\n",
              "↪ ── + ─⎟ ⎥\n",
              "↪ 2    4⎠ ⎥\n",
              "↪         ⎥\n",
              "↪    ⎛φ₋⎞ ⎥\n",
              "↪ cos⎜──⎟ ⎥\n",
              "↪    ⎝2 ⎠ ⎥\n",
              "↪         ⎥\n",
              "↪ ⎛φ₀   π⎞⎥\n",
              "↪ ⎜── + ─⎟⎥\n",
              "↪ ⎝2    4⎠⎥\n",
              "↪         ⎥\n",
              "↪ ⎛φ₀   π⎞⎥\n",
              "↪ ⎜── + ─⎟⎥\n",
              "↪ ⎝2    4⎠⎦"
            ],
            "text/latex": "$\\displaystyle \\left[\\begin{matrix}\\cos{\\left(\\frac{\\phi_{+}}{2} \\right)} \\cos{\\left(\\frac{\\phi_{0}}{2} + \\frac{\\pi}{4} \\right)} & - \\sin{\\left(\\frac{\\phi_{+}}{2} \\right)} \\sin{\\left(\\frac{\\phi_{0}}{2} + \\frac{\\pi}{4} \\right)} & \\sin{\\left(\\frac{\\phi_{0}}{2} + \\frac{\\pi}{4} \\right)} \\cos{\\left(\\frac{\\phi_{+}}{2} \\right)} & \\sin{\\left(\\frac{\\phi_{+}}{2} \\right)} \\cos{\\left(\\frac{\\phi_{0}}{2} + \\frac{\\pi}{4} \\right)}\\\\\\sin{\\left(\\frac{\\phi_{-}}{2} \\right)} \\sin{\\left(\\frac{\\phi_{0}}{2} + \\frac{\\pi}{4} \\right)} & \\cos{\\left(\\frac{\\phi_{-}}{2} \\right)} \\cos{\\left(\\frac{\\phi_{0}}{2} + \\frac{\\pi}{4} \\right)} & - \\sin{\\left(\\frac{\\phi_{-}}{2} \\right)} \\cos{\\left(\\frac{\\phi_{0}}{2} + \\frac{\\pi}{4} \\right)} & \\sin{\\left(\\frac{\\phi_{0}}{2} + \\frac{\\pi}{4} \\right)} \\cos{\\left(\\frac{\\phi_{-}}{2} \\right)}\\\\\\sin{\\left(\\frac{\\phi_{+}}{2} \\right)} \\cos{\\left(\\frac{\\phi_{0}}{2} + \\frac{\\pi}{4} \\right)} & \\sin{\\left(\\frac{\\phi_{0}}{2} + \\frac{\\pi}{4} \\right)} \\cos{\\left(\\frac{\\phi_{+}}{2} \\right)} & \\sin{\\left(\\frac{\\phi_{+}}{2} \\right)} \\sin{\\left(\\frac{\\phi_{0}}{2} + \\frac{\\pi}{4} \\right)} & - \\cos{\\left(\\frac{\\phi_{+}}{2} \\right)} \\cos{\\left(\\frac{\\phi_{0}}{2} + \\frac{\\pi}{4} \\right)}\\\\\\sin{\\left(\\frac{\\phi_{0}}{2} + \\frac{\\pi}{4} \\right)} \\cos{\\left(\\frac{\\phi_{-}}{2} \\right)} & - \\sin{\\left(\\frac{\\phi_{-}}{2} \\right)} \\cos{\\left(\\frac{\\phi_{0}}{2} + \\frac{\\pi}{4} \\right)} & - \\cos{\\left(\\frac{\\phi_{-}}{2} \\right)} \\cos{\\left(\\frac{\\phi_{0}}{2} + \\frac{\\pi}{4} \\right)} & - \\sin{\\left(\\frac{\\phi_{-}}{2} \\right)} \\sin{\\left(\\frac{\\phi_{0}}{2} + \\frac{\\pi}{4} \\right)}\\end{matrix}\\right]$"
          },
          "metadata": {},
          "execution_count": 45
        }
      ]
    },
    {
      "cell_type": "code",
      "source": [
        "dipole0 = H0.subs({t_sc:0,t_sf:0,E_z:0,epsilon:1})\n",
        "dipole = sp.simplify(sp.simplify(Ufull @ dipole0 @ Ufull.transpose()))\n",
        "dipole"
      ],
      "metadata": {
        "colab": {
          "base_uri": "https://localhost:8080/",
          "height": 144
        },
        "id": "u-OztGedtmMp",
        "outputId": "cbaddddf-b627-4d86-d68e-4ebacfdb7e42"
      },
      "execution_count": 47,
      "outputs": [
        {
          "output_type": "execute_result",
          "data": {
            "text/plain": [
              "⎡                            ⎛φ₊   φ₋⎞                                         ↪\n",
              "⎢                         sin⎜── - ──⎟⋅cos(φ₀)                           -cos( ↪\n",
              "⎢   sin(φ₀)⋅cos(φ₊)          ⎝2    2 ⎠              sin(φ₀)⋅sin(φ₊)            ↪\n",
              "⎢   ───────────────       ────────────────────      ───────────────      ───── ↪\n",
              "⎢          2                       2                       2                   ↪\n",
              "⎢                                                                              ↪\n",
              "⎢    ⎛φ₊   φ₋⎞                                               ⎛φ₊   φ₋⎞         ↪\n",
              "⎢ sin⎜── - ──⎟⋅cos(φ₀)                           -cos(φ₀)⋅cos⎜── - ──⎟         ↪\n",
              "⎢    ⎝2    2 ⎠              sin(φ₀)⋅cos(φ₋)                  ⎝2    2 ⎠     -si ↪\n",
              "⎢ ────────────────────      ───────────────      ──────────────────────    ─── ↪\n",
              "⎢          2                       2                       2                   ↪\n",
              "⎢                                                                              ↪\n",
              "⎢                                    ⎛φ₊   φ₋⎞                               ⎛ ↪\n",
              "⎢                        -cos(φ₀)⋅cos⎜── - ──⎟                           -sin⎜ ↪\n",
              "⎢   sin(φ₀)⋅sin(φ₊)                  ⎝2    2 ⎠     -sin(φ₀)⋅cos(φ₊)          ⎝ ↪\n",
              "⎢   ───────────────      ──────────────────────    ─────────────────     ───── ↪\n",
              "⎢          2                       2                       2                   ↪\n",
              "⎢                                                                              ↪\n",
              "⎢            ⎛φ₊   φ₋⎞                               ⎛φ₊   φ₋⎞                 ↪\n",
              "⎢-cos(φ₀)⋅cos⎜── - ──⎟                           -sin⎜── - ──⎟⋅cos(φ₀)         ↪\n",
              "⎢            ⎝2    2 ⎠     -sin(φ₀)⋅sin(φ₋)          ⎝2    2 ⎠             -si ↪\n",
              "⎢──────────────────────    ─────────────────     ──────────────────────    ─── ↪\n",
              "⎣          2                       2                       2                   ↪\n",
              "\n",
              "↪        ⎛φ₊   φ₋⎞ ⎤\n",
              "↪ φ₀)⋅cos⎜── - ──⎟ ⎥\n",
              "↪        ⎝2    2 ⎠ ⎥\n",
              "↪ ─────────────────⎥\n",
              "↪      2           ⎥\n",
              "↪                  ⎥\n",
              "↪                  ⎥\n",
              "↪                  ⎥\n",
              "↪ n(φ₀)⋅sin(φ₋)    ⎥\n",
              "↪ ──────────────   ⎥\n",
              "↪      2           ⎥\n",
              "↪                  ⎥\n",
              "↪ φ₊   φ₋⎞         ⎥\n",
              "↪ ── - ──⎟⋅cos(φ₀) ⎥\n",
              "↪ 2    2 ⎠         ⎥\n",
              "↪ ─────────────────⎥\n",
              "↪      2           ⎥\n",
              "↪                  ⎥\n",
              "↪                  ⎥\n",
              "↪                  ⎥\n",
              "↪ n(φ₀)⋅cos(φ₋)    ⎥\n",
              "↪ ──────────────   ⎥\n",
              "↪      2           ⎦"
            ],
            "text/latex": "$\\displaystyle \\left[\\begin{matrix}\\frac{\\sin{\\left(\\phi_{0} \\right)} \\cos{\\left(\\phi_{+} \\right)}}{2} & \\frac{\\sin{\\left(\\frac{\\phi_{+}}{2} - \\frac{\\phi_{-}}{2} \\right)} \\cos{\\left(\\phi_{0} \\right)}}{2} & \\frac{\\sin{\\left(\\phi_{0} \\right)} \\sin{\\left(\\phi_{+} \\right)}}{2} & - \\frac{\\cos{\\left(\\phi_{0} \\right)} \\cos{\\left(\\frac{\\phi_{+}}{2} - \\frac{\\phi_{-}}{2} \\right)}}{2}\\\\\\frac{\\sin{\\left(\\frac{\\phi_{+}}{2} - \\frac{\\phi_{-}}{2} \\right)} \\cos{\\left(\\phi_{0} \\right)}}{2} & \\frac{\\sin{\\left(\\phi_{0} \\right)} \\cos{\\left(\\phi_{-} \\right)}}{2} & - \\frac{\\cos{\\left(\\phi_{0} \\right)} \\cos{\\left(\\frac{\\phi_{+}}{2} - \\frac{\\phi_{-}}{2} \\right)}}{2} & - \\frac{\\sin{\\left(\\phi_{0} \\right)} \\sin{\\left(\\phi_{-} \\right)}}{2}\\\\\\frac{\\sin{\\left(\\phi_{0} \\right)} \\sin{\\left(\\phi_{+} \\right)}}{2} & - \\frac{\\cos{\\left(\\phi_{0} \\right)} \\cos{\\left(\\frac{\\phi_{+}}{2} - \\frac{\\phi_{-}}{2} \\right)}}{2} & - \\frac{\\sin{\\left(\\phi_{0} \\right)} \\cos{\\left(\\phi_{+} \\right)}}{2} & - \\frac{\\sin{\\left(\\frac{\\phi_{+}}{2} - \\frac{\\phi_{-}}{2} \\right)} \\cos{\\left(\\phi_{0} \\right)}}{2}\\\\- \\frac{\\cos{\\left(\\phi_{0} \\right)} \\cos{\\left(\\frac{\\phi_{+}}{2} - \\frac{\\phi_{-}}{2} \\right)}}{2} & - \\frac{\\sin{\\left(\\phi_{0} \\right)} \\sin{\\left(\\phi_{-} \\right)}}{2} & - \\frac{\\sin{\\left(\\frac{\\phi_{+}}{2} - \\frac{\\phi_{-}}{2} \\right)} \\cos{\\left(\\phi_{0} \\right)}}{2} & - \\frac{\\sin{\\left(\\phi_{0} \\right)} \\cos{\\left(\\phi_{-} \\right)}}{2}\\end{matrix}\\right]$"
          },
          "metadata": {},
          "execution_count": 47
        }
      ]
    },
    {
      "cell_type": "code",
      "source": [
        "dipole.subs({phi0:0})"
      ],
      "metadata": {
        "colab": {
          "base_uri": "https://localhost:8080/",
          "height": 144
        },
        "id": "eeIgW25QtsQ7",
        "outputId": "812cbd9d-5c85-4201-c94a-a6f40ded9f38"
      },
      "execution_count": 49,
      "outputs": [
        {
          "output_type": "execute_result",
          "data": {
            "text/plain": [
              "⎡                    ⎛φ₊   φ₋⎞                       ⎛φ₊   φ₋⎞ ⎤\n",
              "⎢                 sin⎜── - ──⎟                   -cos⎜── - ──⎟ ⎥\n",
              "⎢                    ⎝2    2 ⎠                       ⎝2    2 ⎠ ⎥\n",
              "⎢      0          ────────────         0         ──────────────⎥\n",
              "⎢                      2                               2       ⎥\n",
              "⎢                                                              ⎥\n",
              "⎢    ⎛φ₊   φ₋⎞                       ⎛φ₊   φ₋⎞                 ⎥\n",
              "⎢ sin⎜── - ──⎟                   -cos⎜── - ──⎟                 ⎥\n",
              "⎢    ⎝2    2 ⎠                       ⎝2    2 ⎠                 ⎥\n",
              "⎢ ────────────         0         ──────────────        0       ⎥\n",
              "⎢      2                               2                       ⎥\n",
              "⎢                                                              ⎥\n",
              "⎢                    ⎛φ₊   φ₋⎞                       ⎛φ₊   φ₋⎞ ⎥\n",
              "⎢                -cos⎜── - ──⎟                   -sin⎜── - ──⎟ ⎥\n",
              "⎢                    ⎝2    2 ⎠                       ⎝2    2 ⎠ ⎥\n",
              "⎢      0         ──────────────        0         ──────────────⎥\n",
              "⎢                      2                               2       ⎥\n",
              "⎢                                                              ⎥\n",
              "⎢    ⎛φ₊   φ₋⎞                       ⎛φ₊   φ₋⎞                 ⎥\n",
              "⎢-cos⎜── - ──⎟                   -sin⎜── - ──⎟                 ⎥\n",
              "⎢    ⎝2    2 ⎠                       ⎝2    2 ⎠                 ⎥\n",
              "⎢──────────────        0         ──────────────        0       ⎥\n",
              "⎣      2                               2                       ⎦"
            ],
            "text/latex": "$\\displaystyle \\left[\\begin{matrix}0 & \\frac{\\sin{\\left(\\frac{\\phi_{+}}{2} - \\frac{\\phi_{-}}{2} \\right)}}{2} & 0 & - \\frac{\\cos{\\left(\\frac{\\phi_{+}}{2} - \\frac{\\phi_{-}}{2} \\right)}}{2}\\\\\\frac{\\sin{\\left(\\frac{\\phi_{+}}{2} - \\frac{\\phi_{-}}{2} \\right)}}{2} & 0 & - \\frac{\\cos{\\left(\\frac{\\phi_{+}}{2} - \\frac{\\phi_{-}}{2} \\right)}}{2} & 0\\\\0 & - \\frac{\\cos{\\left(\\frac{\\phi_{+}}{2} - \\frac{\\phi_{-}}{2} \\right)}}{2} & 0 & - \\frac{\\sin{\\left(\\frac{\\phi_{+}}{2} - \\frac{\\phi_{-}}{2} \\right)}}{2}\\\\- \\frac{\\cos{\\left(\\frac{\\phi_{+}}{2} - \\frac{\\phi_{-}}{2} \\right)}}{2} & 0 & - \\frac{\\sin{\\left(\\frac{\\phi_{+}}{2} - \\frac{\\phi_{-}}{2} \\right)}}{2} & 0\\end{matrix}\\right]$"
          },
          "metadata": {},
          "execution_count": 49
        }
      ]
    }
  ]
}