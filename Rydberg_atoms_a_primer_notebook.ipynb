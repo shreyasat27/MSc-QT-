{
  "cells": [
    {
      "cell_type": "markdown",
      "metadata": {
        "id": "view-in-github",
        "colab_type": "text"
      },
      "source": [
        "<a href=\"https://colab.research.google.com/github/shreyasat27/MSc-QT-/blob/main/Rydberg_atoms_a_primer_notebook.ipynb\" target=\"_parent\"><img src=\"https://colab.research.google.com/assets/colab-badge.svg\" alt=\"Open In Colab\"/></a>"
      ]
    },
    {
      "cell_type": "markdown",
      "metadata": {
        "id": "TtGe17JqvSAX"
      },
      "source": [
        "# An Introduction to Rydberg atoms with ARC"
      ]
    },
    {
      "cell_type": "markdown",
      "metadata": {
        "id": "wymEu984vSAc"
      },
      "source": [
        "Authors: Nikola Šibalić, Jonathan D. Pritchard, Charles S. Adams, Kevin J. Weatherill\n",
        "\n",
        "Updated 08/06/2017\n",
        "\n",
        "In this notebook:\n",
        "\n",
        "1. [Configure Notebook](#Configure-Notebook)\n",
        "2. [Rydberg atom energy levels](#Rydberg-Atom-Energy-Levels)\n",
        "3. [Rydberg atom wavefunctions](#Rydberg-atom-wavefunctions)\n",
        "4. [Matrix elements for atom interaction with electromagnetic radiation](#Matrix-Elements)\n",
        "5. [Rydberg lifetimes and black-body radiation induced transitions](#Rydberg-Atom-Lifetimes)\n",
        "6. [Creating highly excited states](#Creating-highly-excited-states)\n",
        "7. [Rydberg atom energy level modifications in DC electric fields (Stark shifts)](#Rydberg-Atom-Stark-Shifts)\n",
        "8. [Interaction between the two atoms excited to Rydberg states](#Rydberg-atom-interactions)\n",
        "    * [Calculation of C6 (perturbative)](#Dispersion-Coefficients)\n",
        "    * [Short range interactions and fitting C3, C6, Rvdw](#Short-range-interactions)\n",
        "    * [Resonant interactions - calculation of C3 for a given channel](#Resonant-interactions)\n",
        "    \n",
        "9. [Tuning the interactions with external fields (Förster resonance)](#Tuning-the-interaction-strength-with-electric-fields)\n",
        "10. [Atomic vapour properties](#General-atomic-properties)\n",
        "11. [Advanced Rydberg examples](#Advanced-Rydberg-examples)\n",
        "    * [Scalling of Rydberg blockade with principal quantum number](#Scalling-of-Rydberg-blockade-with-principal-quantum-number)\n",
        "    * [Calculation of Le Roy radius](#Calculation-of-Le-Roy-radius)\n",
        "    * [Off-resonant excitation](#Off-resonant-excitation)\n",
        "    * [Matrix elements for (admixed) states in electric field](#Calculation-of-dipole-matrix-elements-between-states-in-static-electric-field)\n",
        "12. [Advanced use of ARC package: interfacing and expansions](#Advanced-use-of-ARC-package:-interfacing-and-expansions)\n",
        "    * [Saving and retrieving calculations](#Saving-and-retrieving-calculations)\n",
        "    * [Export of data in .csv](Export-of-data-in-.csv)\n",
        "    * [Using calculated matrices and basis states in your own projects](#Using-calculated-matrices-and-basis-states-in-your-own-projects)"
      ]
    },
    {
      "cell_type": "markdown",
      "metadata": {
        "id": "8eaM71EvvSAd"
      },
      "source": [
        "### Configure Notebook\n",
        "This notebook uses ARC package (Alkali Rydberg Calculator) that can be downloaded from [GitHub](https://github.com/nikolasibalic/ARC-Alkali-Rydberg-Calculator). Once you download the package to your computer set *rootDir* for the package below, and run the first cell, before continuing with other examples."
      ]
    },
    {
      "cell_type": "code",
      "execution_count": null,
      "metadata": {
        "scrolled": true,
        "colab": {
          "base_uri": "https://localhost:8080/",
          "height": 216
        },
        "id": "HQTN-DuwvSAd",
        "outputId": "a369e3b5-b250-485b-bad6-6984abcaf0bc"
      },
      "outputs": [
        {
          "output_type": "error",
          "ename": "FileNotFoundError",
          "evalue": "[Errno 2] No such file or directory: '/Users/shreyasat/Desktop/ARC'",
          "traceback": [
            "\u001b[0;31m---------------------------------------------------------------------------\u001b[0m",
            "\u001b[0;31mFileNotFoundError\u001b[0m                         Traceback (most recent call last)",
            "\u001b[0;32m<ipython-input-5-e6f8f5cef5e0>\u001b[0m in \u001b[0;36m<cell line: 0>\u001b[0;34m()\u001b[0m\n\u001b[1;32m     11\u001b[0m \u001b[0mrootDir\u001b[0m \u001b[0;34m=\u001b[0m \u001b[0;34m'/Users/shreyasat/Desktop/ARC'\u001b[0m \u001b[0;31m# e.g. '/Users/shreyasat/Desktop/ARC-Alkali-Rydberg-Calculator'\u001b[0m\u001b[0;34m\u001b[0m\u001b[0;34m\u001b[0m\u001b[0m\n\u001b[1;32m     12\u001b[0m \u001b[0msys\u001b[0m\u001b[0;34m.\u001b[0m\u001b[0mpath\u001b[0m\u001b[0;34m.\u001b[0m\u001b[0mappend\u001b[0m\u001b[0;34m(\u001b[0m\u001b[0mrootDir\u001b[0m\u001b[0;34m)\u001b[0m\u001b[0;34m\u001b[0m\u001b[0;34m\u001b[0m\u001b[0m\n\u001b[0;32m---> 13\u001b[0;31m \u001b[0mos\u001b[0m\u001b[0;34m.\u001b[0m\u001b[0mchdir\u001b[0m\u001b[0;34m(\u001b[0m\u001b[0mrootDir\u001b[0m\u001b[0;34m)\u001b[0m\u001b[0;34m\u001b[0m\u001b[0;34m\u001b[0m\u001b[0m\n\u001b[0m\u001b[1;32m     14\u001b[0m \u001b[0;34m\u001b[0m\u001b[0m\n\u001b[1;32m     15\u001b[0m \u001b[0;32mfrom\u001b[0m \u001b[0marc\u001b[0m \u001b[0;32mimport\u001b[0m \u001b[0;34m*\u001b[0m                 \u001b[0;31m#Import ARC (Alkali Rydberg Calculator)\u001b[0m\u001b[0;34m\u001b[0m\u001b[0;34m\u001b[0m\u001b[0m\n",
            "\u001b[0;31mFileNotFoundError\u001b[0m: [Errno 2] No such file or directory: '/Users/shreyasat/Desktop/ARC'"
          ]
        }
      ],
      "source": [
        "# Configure the matplotlib graphics library and configure it to show\n",
        "\n",
        "# show figures inline in the notebook\n",
        "%matplotlib inline\n",
        "import matplotlib.pyplot as plt  # Import library for direct plotting functions\n",
        "import numpy as np               # Import Numerical Python\n",
        "from IPython.core.display import display, HTML #Import HTML for formatting output\n",
        "\n",
        "# Define path to ARC root directory (for loading data)\n",
        "import sys, os\n",
        "rootDir = '/Users/shreyasat/Desktop/ARC' # e.g. '/Users/shreyasat/Desktop/ARC-Alkali-Rydberg-Calculator'\n",
        "sys.path.append(rootDir)\n",
        "os.chdir(rootDir)\n",
        "\n",
        "from arc import *                 #Import ARC (Alkali Rydberg Calculator)"
      ]
    },
    {
      "cell_type": "markdown",
      "metadata": {
        "id": "eUBmM784vSAf"
      },
      "source": [
        "# Rydberg Atom Energy Levels\n",
        "\n",
        "Rydberg states are highly excited states of the outer valence electron where the properties can be scaled in terms of the principal quantum number, $n$. Originally observed in the spectral lines of hydrogen, the binding energy of the Rydberg series are given by\n",
        "\n",
        "\\begin{equation}\n",
        "E_{n\\ell j} = - \\frac{\\mathrm{Ry}}{(n-\\delta_{n\\ell j})^2},\n",
        "\\end{equation}\n",
        "\n",
        "where $n,\\ell,j$ are the quantum numbers, $\\mathrm{Ry}$ is the Rydberg constant and $\\delta_{n\\ell j}$ is the quantum defect. This defect describes the increase in binding energy for an alkali atom with respect to Hydrogen due to penetration and polarisation of the closed inner electron shells, which is most significant for the $\\ell=0$ states with highly elliptical orbits, and can be neglected for states with $\\ell>3$. The quantum defects are parameterised via\n",
        "\n",
        "\\begin{equation}\n",
        "\\delta_{n\\ell j} = \\delta_0 + \\frac{\\delta_2}{(n-\\delta_0)^2}+\\frac{\\delta_4}{(n-\\delta_0)^4}+ \\ldots,\n",
        "\\end{equation}\n",
        "\n",
        "with coefficients $\\delta_{0,2,...}$ taken from measured energy levels.\n",
        "\n",
        "The mass-corrected Rydberg constant is given by $\\mathrm{Ry}=\\mathrm{Ry}_\\infty\\times M/(M+m_e)$ where $m_e$ is the electron mass and $M$ is the atomic mass of the nucleus, with\n",
        "\n",
        "\\begin{equation}\n",
        "\\mathrm{Ry}_\\infty=\\frac{e^4m_e}{16\\pi^2\\epsilon_0^2\\hbar^2}.\n",
        "\\end{equation}\n",
        "\n",
        "To demonstrate the effect of quantum defects, the graph below shows the energy levels of Cesium highlighting the effect of the quantum defect between the different $\\ell$ manifolds."
      ]
    },
    {
      "cell_type": "code",
      "execution_count": null,
      "metadata": {
        "scrolled": false,
        "id": "u1QARmDovSAg"
      },
      "outputs": [],
      "source": [
        "#Load parameters for Caesium\n",
        "atom=Caesium()\n",
        "\n",
        "nmin=6  #Minimum n\n",
        "nmax=60 #Maximum n\n",
        "lmin=0  #Minimum l\n",
        "lmax=3  #Maxmium l\n",
        "\n",
        "#Plot Energy Levels of Cesium\n",
        "levels = LevelPlot(atom)\n",
        "levels.makeLevels(nmin,nmax,lmin,lmax)\n",
        "levels.drawLevels()\n",
        "levels.showPlot()\n",
        "# plot is interactive when called outside the IPython notebook (e.g. from Python program)"
      ]
    },
    {
      "cell_type": "code",
      "execution_count": null,
      "metadata": {
        "id": "Bi-f6fswvSAh"
      },
      "outputs": [],
      "source": [
        "n=np.arange(6,100,1)\n",
        "\n",
        "#Plot Quantum Defects of Cs\n",
        "fig, axes = plt.subplots(1, 1, figsize=(7,5))\n",
        "\n",
        "axes.plot(n,atom.getQuantumDefect(n,0,0.5),'.',label=\"$nS_{1/2}$\")\n",
        "axes.plot(n,atom.getQuantumDefect(n,1,1.5),'.',label=\"$nP_{3/2}$\")\n",
        "axes.plot(n,atom.getQuantumDefect(n,2,2.5),'.',label=\"$nD_{5/2}$\")\n",
        "axes.plot(n,atom.getQuantumDefect(n,3,3.5),'.',label=\"$nF_{7/2}$\")\n",
        "axes.legend(loc=0)\n",
        "axes.set_xlabel('$n$')\n",
        "axes.set_ylabel('Quantum Defect $\\delta_{n\\ell j}$')\n",
        "axes.set_title('Cs Quantum Defects')\n"
      ]
    },
    {
      "cell_type": "markdown",
      "metadata": {
        "collapsed": true,
        "id": "bcQErhCQvSAh"
      },
      "source": [
        "## Rydberg atom wavefunctions\n",
        "\n",
        "Rydberg atom wavefunctions can be obtained from Schrödinger's equation,\n",
        "\n",
        "\\begin{equation}\n",
        "\\left[-\\frac{1}{2\\mu}\\left(\\frac{\\mathrm{d}^2}{\\mathrm{d} r^2} +\\frac{2}{r}\\frac{\\mathrm{d}}{\\mathrm{d} r}\\right) + \\frac{\\ell(\\ell+1)}{2\\mu r^2} + V(r)\\right]R(r)= E_{n\\ell j}R(r),\n",
        "\\end{equation}\n",
        "\n",
        "with reduced mass $\\mu=Mm_e/(M+m_e)$ and $V(r)$ a model potential given by\n",
        "\n",
        "\\begin{equation}\n",
        "V(r) = -\\frac{Z_{n\\ell}(r)}{r}-\\frac{\\alpha_c}{2r^4}(1-e^{-(r/r_c)^6})+V_{\\rm so},\n",
        "\\end{equation}  \n",
        "\n",
        "which at long range gives a $-1/r$ Colomb potential and at short range accounts for the finite size of the core, with radial charge given by\n",
        "\n",
        "\\begin{equation}\n",
        "Z_{n\\ell}(r) = 1+(Z-1)e^{-a_1r}-r(a_3+a_4r)e^{-a_2r}.\n",
        "\\end{equation}\n",
        "\n",
        "Wavefunctions are calculated by numerical intergration of the model potential using parameters $a_{1..4},r_c$ and $\\alpha_c$ taken from [Marinescu et.al](https://doi.org/10.1103/PhysRevA.49.982). Potential includes spin-orbit interaction $V_{\\rm so}(r) = \\alpha ~\\mathbf{L}\\cdot\\mathbf{S}/(2r^3)$, where $\\alpha$ is fine structure constant.\n",
        "\n",
        "Rydberg atoms are large, with an average size $\\langle r \\rangle\\propto n^2ea_0$, which leads to extremely large dipole matrix elements making them ideal for exploitng strong long range interactions. To illustrate this point, the probabiltiy distribution $\\vert rR(r)\\vert^2$ for $nS_{1/2}$ atomic wavefunctions are plotted below for increasing $n$ which highlights the dramatic scaling with atoms approaching $1~\\mu$m in size for $n=100$ compared to $1~\\unicode{x212B}$ for the groundstate!"
      ]
    },
    {
      "cell_type": "code",
      "execution_count": null,
      "metadata": {
        "id": "GnWmUEwUvSAh"
      },
      "outputs": [],
      "source": [
        "atom=Caesium()\n",
        "pqn = [15,30,60] # principal quantum numbers of the states\n",
        "colors = [\"b\",\"r\",\"g\"]\n",
        "l = 0          # S state\n",
        "j = 0.5        # J = 1/2\n",
        "\n",
        "plotLegend = []\n",
        "for i in range(len(pqn)):\n",
        "    n = pqn[i]\n",
        "    step = 0.001\n",
        "    a1,b1 = atom.radialWavefunction(l,0.5,j,\\\n",
        "                                       atom.getEnergy(n, l, j)/27.211,\\\n",
        "                                       atom.alphaC**(1/3.0),\\\n",
        "                                       2.0*n*(n+15.0), step)\n",
        "    legendInfo, = plt.plot(a1,(b1)*(b1),\\\n",
        "                           \"-\",lw=2,color = colors[i], label = (\"n = %d\" % n) )\n",
        "    plotLegend.append(legendInfo)\n",
        "\n",
        "plt.legend(handles=plotLegend)\n",
        "plt.xlabel(r\"Distance from nucleus $r$ ($a_0$)\")\n",
        "plt.ylabel(r\"$\\vert rR(r)\\vert^2$\")\n",
        "plt.show()"
      ]
    },
    {
      "cell_type": "markdown",
      "metadata": {
        "id": "75Z1hZG0vSAh"
      },
      "source": [
        "## Matrix Elements\n",
        "\n",
        "#### Dipole Matrix Elements\n",
        "\n",
        "Relevant properties of the Rydberg states can be derived through evaluation of dipole matrix elements. Recalling the separability of the atomic wavefunctions into radial and spherical components $\\psi(r,\\theta,\\phi)=Y_{\\ell,m_\\ell}(\\theta,\\phi)R_{n\\ell}(r)$ in the uncoupled basis, the dipole matrix elements can be expressed as\n",
        "\n",
        "\\begin{equation}\n",
        "\\langle n,\\ell,m_\\ell\\vert r_q \\vert n',\\ell',m_\\ell' \\rangle = (-1)^{\\ell-m_\\ell}\\begin{pmatrix}\\ell&1&\\ell'\\\\-m_\\ell&q&m_\\ell'\\end{pmatrix}\\langle\\ell \\vert\\vert r\\vert\\vert\\ell'\\rangle,\n",
        "\\end{equation}\n",
        "\n",
        "where $q=-1,0,1$ corresponds to $\\sigma^+,\\pi$ and $\\sigma^-$ transitions respectively with the reduced matrix element\n",
        "\n",
        "\\begin{equation}\n",
        "\\langle\\ell\\vert\\vert r\\vert\\vert\\ell'\\rangle = (-1)^\\ell\\sqrt{(2\\ell+1)(2\\ell'+1)}\\begin{pmatrix}\\ell&1&\\ell\\\\0&0&0\\end{pmatrix}\\mathcal{R}_{n\\ell\\rightarrow n'\\ell'},\n",
        "\\end{equation}\n",
        "\n",
        "where round braces denote Wigner-$3j$ symbols and the radial matrix element is evaluated from\n",
        "\n",
        "\\begin{equation}\n",
        "\\mathcal{R}_{n\\ell\\rightarrow n'\\ell'} = \\int_{r_{\\rm i}}^{r_{\\rm o}} R_{n,\\ell}(r)rR_{n',\\ell'}(r)r^2\\mathrm{d} r.\n",
        "\\end{equation}\n",
        "\n",
        "For highly excited states the hyperfine-structure splitting becomes negligible, however the fine-structure splitting $\\hat{\\mathcal{H}}=\\beta \\bf\\hat{L}\\cdot\\hat{S}$ means the relevant basis is then fine structure basis ($j,m_j$) with matrix elements\n",
        "\n",
        "\\begin{equation}\n",
        "\\langle n,\\ell,j,m_j\\vert r_q \\vert n',\\ell',j',m_j' \\rangle = (-1)^{j-m_j}\\begin{pmatrix}j&1&j'\\\\-m_j&q&m_j'\\end{pmatrix}\\langle j \\vert\\vert r\\vert\\vert j'\\rangle,\n",
        "\\end{equation}\n",
        "\n",
        "and the reduced matrix element equal to\n",
        "\n",
        "\\begin{equation}\n",
        "\\langle j \\vert\\vert r\\vert\\vert j'\\rangle = (-1)^{\\ell+s+j'+1}\\delta_{s,s'}\\sqrt{(2j+1)(2j'+1)}\n",
        "\\begin{Bmatrix}j&1&j'\\\\\\ell'&s&\\ell\\end{Bmatrix}\\langle \\ell\\vert\\vert r\\vert\\vert\\ell'\\rangle,\n",
        "\\end{equation}\n",
        "\n",
        "where the curly braces denote a Wigner-$6j$ symbol.\n",
        "\n",
        "The cell below demonstrates how to extract the relevent matrix elements for different transitions and highlights the extremely large matrix elements of the Rydberg states for transitions to neighbouring states, which scale $\\propto n^2$ due to the large electron radius shown above. Thus whilst the alkali $D$ line transitions have elements of order $~e a_0$, the Rydberg states can have $>1000~e a_0$ making them ideally suited for exploiting strong, long range interactions as will be explored below.\n",
        "\n",
        "#### Quadrupole Matrix Elements\n",
        "\n",
        "For accurate interaction potentials at short range, it is necessary to also consider quadrupole matrix elements for the Rydberg atoms. getQuadrupoleMatrixElement\n",
        "\n",
        "\\begin{equation}\n",
        "\\mathcal{R}^Q_{n\\ell\\rightarrow n'\\ell'} = \\int_{r_{\\rm i}}^{r_{\\rm o}} R_{n',\\ell}(r)r^2R_{n,\\ell'}(r)r^2\\mathrm{d} r.\n",
        "\\end{equation}\n"
      ]
    },
    {
      "cell_type": "code",
      "execution_count": null,
      "metadata": {
        "id": "xFVoiFeevSAi"
      },
      "outputs": [],
      "source": [
        "#Cs D2 Transition 6S_{1/2}-->6P_{3/2}\n",
        "n1=6\n",
        "l1=0\n",
        "j1=0.5\n",
        "mj1=0.5\n",
        "n2=6\n",
        "l2=1\n",
        "j2=1.5\n",
        "mj2=1.5\n",
        "q=+1\n",
        "print(\"Cs D2 Transition 6S_{1/2}-->6P_{3/2}\")\n",
        "print(\"====================================\")\n",
        "#Radial Matrix element R_{nlj\\rightarrown'l'j'}\n",
        "print(\"R_{nlj-n'l'j'} = %.3f ea_0\" % atom.getRadialMatrixElement(n1,l1,j1,n2,l2,j2))\n",
        "#Reduced Matrix Element <l||er||l'>\n",
        "print(\"<l||er||l'> = = %.3f ea_0\" % atom.getReducedMatrixElementL(n1,l1,j1,n2,l2,j2))\n",
        "#Reduced Matrix Element <j||er||j'>\n",
        "print(\"<j||er||j'> = %.3f ea_0\" % atom.getReducedMatrixElementJ(n1,l1,j1,n2,l2,j2))\n",
        "#Angular Coupling\n",
        "print(\"<nljmj|er|n'l'j'mj'> = %.3f ea_0\\n\" %\\\n",
        "        atom.getDipoleMatrixElement(n1,l1,j1,mj1,n2,l2,j2,mj2,q))\n",
        "\n",
        "#Cs Rydberg Transition 60S_{1/2}-->60P_{3/2}\n",
        "n1=60\n",
        "l1=0\n",
        "j1=0.5\n",
        "mj1=0.5\n",
        "n2=60\n",
        "l2=1\n",
        "j2=1.5\n",
        "mj2=1.5\n",
        "q=+1\n",
        "\n",
        "print(\"Cs Rydberg Transition 60S_{1/2}-->60P_{3/2}\")\n",
        "print(\"===========================================\")\n",
        "#Radial Matrix element R_{nlj\\rightarrown'l'j'}\n",
        "print(\"R_{nlj-n'l'j'} = %.3f ea_0\" % atom.getRadialMatrixElement(n1,l1,j1,n2,l2,j2))\n",
        "#Reduced Matrix Element <l||er||l'>\n",
        "print(\"<l||er||l'> = = %.3f ea_0\" % atom.getReducedMatrixElementL(n1,l1,j1,n2,l2,j2))\n",
        "#Reduced Matrix Element <j||er||j'>\n",
        "print(\"<j||er||j'> = %.3f ea_0\" % atom.getReducedMatrixElementJ(n1,l1,j1,n2,l2,j2))\n",
        "#Angular Coupling\n",
        "print(\"<nljmj|er|n'l'j'mj'> = %.3f ea_0\\n\" % \\\n",
        "        atom.getDipoleMatrixElement(n1,l1,j1,mj1,n2,l2,j2,mj2,q))"
      ]
    },
    {
      "cell_type": "markdown",
      "metadata": {
        "id": "RNOtD2NVvSAi"
      },
      "source": [
        "For low-lying states, Numerov integration is usually not accurate enough in estimating dipole matrix element. Package also has a .csv table for each element, that can be manually expanded if needed, with various literature values for dipole matrix elements. These values are either obtained experimentally, or by more advanced theoretical calculations. If value is existing in the literature, package will by default use the literature value with the smallest error estimate."
      ]
    },
    {
      "cell_type": "code",
      "execution_count": null,
      "metadata": {
        "id": "im82SdFwvSAi"
      },
      "outputs": [],
      "source": [
        "atom = Caesium()\n",
        "hasLiteratureValue,dme, info = atom.getLiteratureDME(6,1,1.5,7,0,0.5)\n",
        "if hasLiteratureValue:\n",
        "    print(\"%.2f ea_0\" % dme)\n",
        "    # additional information about the source\n",
        "    s = \"experiment\"\n",
        "    if info[0]==1:\n",
        "        s = \"theory\"\n",
        "    print(\" source = %s\\n errorEstimate = %.2f\\n comment = %s\\n reference = %s\\n doi = %s\" % \\\n",
        "        (s,info[1],info[2],info[3],info[4]))"
      ]
    },
    {
      "cell_type": "markdown",
      "metadata": {
        "id": "oDmodg1xvSAi"
      },
      "source": [
        "## Rydberg Atom Lifetimes\n",
        "\n",
        "Rydberg atoms have suprisingly long radiative lifetimes. For example lifetimes of $nS$ states are of the order of $10~\\mu$s, for $n\\sim30$. Lifetimes $\\tau$ of $n$ states, with small orbital angular momenutum $\\ell$ like $S$ or $P$ states, scales as $\\tau\\propto n_*^3$ where $n_*=n-\\delta$ is the effective principal quantum number. Of all possible $\\ell$ states, circular states $\\ell=n-1$ have longest lifetimes, that scales as $\\tau \\propto n_*^5$."
      ]
    },
    {
      "cell_type": "code",
      "execution_count": null,
      "metadata": {
        "id": "VQQuAWbyvSAi"
      },
      "outputs": [],
      "source": [
        "atom = Rubidium()\n",
        "print(\"%.2e s\" % (atom.getStateLifetime(30,0,0.5)) )"
      ]
    },
    {
      "cell_type": "markdown",
      "metadata": {
        "collapsed": false,
        "id": "-qY04wfavSAj"
      },
      "source": [
        "\n",
        "\n",
        "The radiative lifetime is calculated from the Einstein-A coefficients as $1/\\tau_0=\\sum_{n'\\ell'}A_{n\\ell\\rightarrow n'\\ell'}$, with the summation over all dipole coupled states with energy $E_{n'\\ell'}<E_{n\\ell}$ and the A-coefficient calculated as\n",
        "\n",
        "\\begin{equation}\n",
        "A_{n\\ell\\rightarrow n'\\ell'}=\\frac{4\\omega_{nn'}^3}{3c^3}\\frac{\\ell_\\mathrm{max}}{2\\ell+1}\\mathcal{R}^2_{n\\ell\\rightarrow n'\\ell'}.\n",
        "\\end{equation}\n",
        "\n",
        "Here the prefactor of $\\omega_{nn'}^3$ means that although the dipole matrix element for transitions to nearby $n$ states is much larger than that for transitions to the ground state (e.g. Cs $\\langle 60 S_{1/2}|er| 60 P_{3/2}\\rangle = 4114 ~ea_0$ compared to $\\langle 6 S_{1/2}|er| 60 P_{3/2}\\rangle = 0.0038 ~ea_0$), the A-coefficients for these two transitions are $1.9\\mathrm{s}^{-1}$ and $224\\mathrm{s}^{-1}$ respectively, resulting in the lowest energy transitions being the dominant decay pathways for radiative decay from the Rydberg states.\n",
        "\n",
        "At finite temperature, the black-body excitation spectrum causes a reduction in the lifetime due to driving transitions in the GHz and THz region to neighbouring Rydberg states both above and below the energy of the original Rydberg state. The black body loss is given by\n",
        "\n",
        "\\begin{equation}\n",
        "\\frac{1}{\\tau_\\mathrm{BBR}}=\\displaystyle\\sum_{n'\\ell'} \\frac{A_{n\\ell\\rightarrow n'\\ell'}}{\\exp(\\omega_{nn'}/k_\\mathrm{B}T)-1},\n",
        "\\end{equation}\n",
        "\n",
        "with the effective lifetime $1/\\tau_\\mathrm{eff}=1/\\tau_0+1/\\tau_\\mathrm{BBR}$.\n",
        "\n",
        "The figure below demonstrates the finite temperature effects by showing the strength of the diffent decay pathways for the $30S_{1/2}$ state in Rb at 300K showing the contribution from radiative decay (red columns) and black-body induced transitions (green). The effective lifetime is reduced by around a factor of 2 at room temperature compared to the natural lifetime."
      ]
    },
    {
      "cell_type": "code",
      "execution_count": null,
      "metadata": {
        "id": "v4e8TJH7vSAj"
      },
      "outputs": [],
      "source": [
        "atom = Rubidium()\n",
        "\n",
        "pqn = []\n",
        "y = []\n",
        "ybb = []\n",
        "\n",
        "for n in xrange(5,40):\n",
        "    pqn.append(n)\n",
        "    noBBR = atom.getTransitionRate(30, 0, 0.5, n, 1, 0.5, temperature=0.1)\\\n",
        "            +atom.getTransitionRate(30, 0, 0.5, n, 1, 1.5, temperature=0.1)\n",
        "    withBBR =  atom.getTransitionRate(30, 0, 0.5, n, 1, 0.5, temperature=300.0)\\\n",
        "            +atom.getTransitionRate(30, 0, 0.5, n, 1, 1.5, temperature=300.0)\n",
        "    y.append(noBBR)\n",
        "    ybb.append(withBBR-noBBR)\n",
        "\n",
        "pqn=np.array(pqn)\n",
        "y = np.array(y)\n",
        "ybb = np.array(ybb)\n",
        "\n",
        "width = 0.4\n",
        "plt.bar(pqn-width/2.,y,width=width,color=\"r\")\n",
        "plt.bar(pqn+width/2.,ybb,width=width,color=\"g\")\n",
        "plt.xlabel(\"Principal quantum number, $n$\")\n",
        "plt.ylabel(r\"Transition rate (s${}^{-1}$)\")\n",
        "plt.title(\"Transition from 30 $S_{1/2}$ to $n$ $P_{1/2,3/2}$\")\n",
        "plt.legend((\"Spontaneous decays\",\"Black-body induced transitions\"),fontsize=10)\n",
        "plt.xlim(4,40)\n",
        "plt.show()\n",
        "\n",
        "display(HTML(\"Lifetime (0 K) &tau;<sub>0</sub> = %.2f &mu;s\" % \\\n",
        "             (atom.getStateLifetime(30,0,0.5) *1.e6)))\n",
        "display(HTML(\"Lifetime (300 K) &tau;<sub>eff</sub> = %.2f &mu;s\" % \\\n",
        "             (atom.getStateLifetime(30,0,0.5,temperature=300.,includeLevelsUpTo=39) *1.e6)))"
      ]
    },
    {
      "cell_type": "markdown",
      "metadata": {
        "id": "qCsjkY28vSAj"
      },
      "source": [
        "This plot can be compared with Fig. 1 in Ref. [I. I. Beterov et. al, PRA **79**, 052504(2009)](https://doi.org/10.1103/PhysRevA.79.052504). Similarly, we can reproduce black-body induced state depopulation rates (see Fig. 2 in the same reference):"
      ]
    },
    {
      "cell_type": "code",
      "execution_count": null,
      "metadata": {
        "id": "J1k4G2N7vSAj"
      },
      "outputs": [],
      "source": [
        "atom = Rubidium()\n",
        "stateL = 1; stateJ = 1.5 # P_{1/2} states\n",
        "BBRdepopulationRate = []\n",
        "nList = np.arange(6,80)\n",
        "for n in nList:\n",
        "    noBBR = 1./atom.getStateLifetime(n,stateL,stateJ,temperature=0)\n",
        "    withBBR = 1./atom.getStateLifetime(n,stateL,stateJ,temperature=300,includeLevelsUpTo=n+10)\n",
        "    BBRdepopulationRate.append(withBBR-noBBR)\n",
        "ax = plt.subplot(111)\n",
        "ax.plot(nList,BBRdepopulationRate,\"r.:\")\n",
        "ax.set_xlabel(r\"Principal quantum number, $n$\")\n",
        "ax.set_ylabel(r\"BBR induced depopulation rate (s$^{-1}$)\")\n",
        "plt.show()"
      ]
    },
    {
      "cell_type": "markdown",
      "metadata": {
        "id": "XXvdk5VtvSAj"
      },
      "source": [
        "Comparing lifetimes for different principal quantum numbers $n$ and orbital angular momentum states $l$, we see that lifetimes for $nP$ scale as $\\propto n_*^3$, and lifetimes for circular states $n,l=n-1$ scale as $\\propto n_*^5$"
      ]
    },
    {
      "cell_type": "code",
      "execution_count": null,
      "metadata": {
        "id": "dV27bteuvSAj"
      },
      "outputs": [],
      "source": [
        "atom = Rubidium()\n",
        "pqn = np.arange(10,60,2)\n",
        "\n",
        "nstar1 = []; nP_lifetime = []\n",
        "nstar2 = []; circular_state_lifetime = []\n",
        "\n",
        "for n in pqn:\n",
        "    nstar1.append(n - atom.getQuantumDefect(n,1,1.0+0.5))\n",
        "    nP_lifetime.append(atom.getStateLifetime(n,1,1.0+0.5))\n",
        "\n",
        "    nstar2.append(n - atom.getQuantumDefect(n,n-1,n-1.5))\n",
        "    circular_state_lifetime.append(atom.getStateLifetime(n,n-1,n-0.5))\n",
        "\n",
        "nstar1 = np.array(nstar1); nP_lifetime = np.array(nP_lifetime)\n",
        "nstar2 = np.array(nstar2); circular_state_lifetime = np.array(circular_state_lifetime)\n",
        "\n",
        "f = plt.figure()\n",
        "ax = f.add_subplot(1,1,1)\n",
        "ax.loglog(nstar1,nP_lifetime,\"b.\")\n",
        "ax.loglog(nstar2,circular_state_lifetime,\"rv\")\n",
        "\n",
        "\n",
        "# fitting n^3 dependance for nP state lifetime\n",
        "def func3(x, a):\n",
        "    return a+3*x\n",
        "popt, pcov = curve_fit(func3, np.log(nstar1), np.log(nP_lifetime))\n",
        "ax.loglog(nstar1,np.exp(func3(np.log(nstar1),*popt)),\"b:\")\n",
        "\n",
        "# fitting n^5 dependance for n,l=n-1 streatched state lifetime\n",
        "def func5(x, a):\n",
        "    return a+5*x\n",
        "popt, pcov = curve_fit(func5, np.log(nstar2), np.log(circular_state_lifetime))\n",
        "ax.loglog(nstar2,np.exp(func5(np.log(nstar2),*popt)),\"r:\")\n",
        "\n",
        "ax.set_title(\"Lifetime scaling\")\n",
        "ax.legend([r\"$|n,P,j=3/2\\rangle$ states\",r\"$|n,\\ell=n-1,j=n-0.5\\rangle$ circular states\"],loc=2,fontsize=10)\n",
        "ax.text(20,1e-3,r\"$\\propto n_*^5$\",fontsize=12)\n",
        "ax.text(30,3e-5,r\"$\\propto n_*^3$\",fontsize=12)\n",
        "ax.set_xlim(7,61)\n",
        "ax.set_xlabel(\"Scaled principal quantum number, $n_*$\")\n",
        "ax.set_ylabel(\"State lifetime (s$^{-1}$)\")\n",
        "plt.tight_layout()\n",
        "\n"
      ]
    },
    {
      "cell_type": "markdown",
      "metadata": {
        "id": "QQqgQhmYvSAj"
      },
      "source": [
        "## Creating highly excited states\n",
        "\n",
        "Rydberg atoms are highly excited atoms. If the excitation is done in single step necessary energy would typically correspond to UV radition. For example, in Caesium $6 S_{1/2} \\rightarrow 60 P_{3/2}$ requred transition wavelength and frequencies are"
      ]
    },
    {
      "cell_type": "code",
      "execution_count": null,
      "metadata": {
        "id": "GLLkGVtcvSAj"
      },
      "outputs": [],
      "source": [
        "atom = Caesium()\n",
        "print(\"Cs Excitation 6S_{1/2} -> 60P_{3/2}\")\n",
        "n1=6;l1=0;j1=0.5; #Initial State\n",
        "n2=60;l2=1;j2=1.5; #Final State\n",
        "print(\"lambda = %.3f nm\" % (atom.getTransitionWavelength(n1,l1,j1,n2,l2,j2)*1e9))\n",
        "print(\"omega/2pi = %.3f THz\" % (atom.getTransitionFrequency(n1,l1,j1,n2,l2,j2)*1e-12))"
      ]
    },
    {
      "cell_type": "markdown",
      "metadata": {
        "id": "SkdhJE1yvSAk"
      },
      "source": [
        "#### Rabi Frequency\n",
        "The transition strength is characterised by the Rabi frequency $\\Omega=d\\cdot\\mathcal{E}/\\hbar$, where $d$ is the dipole matrix element calcualte above and $\\mathcal{E}$ is the electric field of the laser driving the excitation. Recalling that for a Gaussian beam with $1/e^2$ radius of $w_0$ and power $P$, the intensity is given by\n",
        "\\begin{equation}\n",
        "I=\\frac{2P}{\\pi w_0^2},\n",
        "\\end{equation}\n",
        "which is related to the electric field by $I=(1/2)c\\epsilon_0\\vert \\mathcal{E}\\vert ^2$, resulting in the Rabi frequency of\n",
        "\n",
        "\\begin{equation}\n",
        "\\Omega = \\sqrt{\\frac{4P}{\\epsilon_0c\\pi w_0^2}}\\frac{\\langle n,\\ell,j,m_j\\vert r_q \\vert n',\\ell',j',m_j' \\rangle}{\\hbar}.\n",
        "\\end{equation}\n",
        "\n",
        "Due to the weak overlap between the ground and highly excited Rydberg states (which scales as $\\sim n^{*-3/2}$), the resulting matrix elements are relatively small meaning large intensities are required. As an example, consider a 1 W UV laser driving the transition above with a $1/e^2$ waist of 50 $\\mu$m. The resulting Rabi frequency is only $\\Omega/2\\pi=10$ MHz!"
      ]
    },
    {
      "cell_type": "code",
      "execution_count": null,
      "metadata": {
        "scrolled": true,
        "id": "c7MtxiFAvSAk"
      },
      "outputs": [],
      "source": [
        "#Laser Parameters\n",
        "waist = 50.e-6 # 50 mu m\n",
        "P = 1000.e-3 # 500 mW\n",
        "\n",
        "mj1=0.5;\n",
        "mj2=1.5;\n",
        "q=+1; #Light Polarisation (sigma+)\n",
        "\n",
        "rabiFreq = atom.getRabiFrequency(n1,l1,j1,mj1,n2,l2,j2,q,P,waist)\n",
        "print(\"rabi Frequency = 2 pi x %.2f MHz\" %(rabiFreq/(2*pi)*1e-6))"
      ]
    },
    {
      "cell_type": "markdown",
      "metadata": {
        "id": "LG4NIO6yvSAk"
      },
      "source": [
        "An alternative way to reach these highly excited states is to use a mutli-step excitation scheme with a number of lasers of different wavelength. This enables use of transitions with favourable or convenient wavelengths (for example standard diode/fiber laser sources) with high power or strong transitions. The most commonly used is a two-step excitation via the D-line transition in the alkali's, with the added benefit of enabling electromagnetically induced transparency (EIT) to be engineered for mapping strong Rydberg interactions onto optical photons. In Rubidium, typically the $5 S_{1/2} \\rightarrow 5 P_{3/2} \\rightarrow 60 S_{1/2}$ transition is favoured, whose properties are"
      ]
    },
    {
      "cell_type": "code",
      "execution_count": null,
      "metadata": {
        "id": "968biRBHvSAk"
      },
      "outputs": [],
      "source": [
        "atom = Rubidium()\n",
        "print(\"5 S_{1/2} -> 5 P_{3/2}\")\n",
        "print(\"%.3f nm \" % (atom.getTransitionWavelength(5,0,0.5,5,1,1.5)*1e9))\n",
        "print(\"%.3f THz \" % (atom.getTransitionFrequency(5,0,0.5,5,1,1.5)*1e-12))\n",
        "print(\"5 P_{3/2} -> 60 S_{1/2}\")\n",
        "print(\"%.3f nm \" % (atom.getTransitionWavelength(5,1,1.5,60,0,0.5)*1e9))\n",
        "print(\"%.3f THz \" % (atom.getTransitionFrequency(5,1,1.5,60,0,0.5)*1e-12))"
      ]
    },
    {
      "cell_type": "markdown",
      "metadata": {
        "id": "YABAZ_ByvSAk"
      },
      "source": [
        "One can use even more involved schemes, for example in Ceasium three lasers can be used $6 S_{1/2} \\rightarrow 6 P_{3/2} \\rightarrow 7 S_{1/2} \\rightarrow 60 P_{3/2}$. Note that now all the lasers are conveniantly in the near infrared (NIR) range!"
      ]
    },
    {
      "cell_type": "code",
      "execution_count": null,
      "metadata": {
        "id": "dXvdaUVsvSAk"
      },
      "outputs": [],
      "source": [
        "atom = Caesium()\n",
        "print(\"6 S_{1/2} -> 6 P_{3/2}\")\n",
        "print(\"%.3f nm \" % (atom.getTransitionWavelength(6,0,0.5,6,1,1.5)*1e9))\n",
        "print(\"%.3f THz \" % (atom.getTransitionFrequency(6,0,0.5,6,1,1.5)*1e-12))\n",
        "print(\"6 P_{3/2} -> 7 S_{1/2}\")\n",
        "print(\"%.3f nm \" % (atom.getTransitionWavelength(6,1,1.5,7,0,0.5)*1e9))\n",
        "print(\"%.3f THz \" % (atom.getTransitionFrequency(6,1,1.5,7,0,0.5)*1e-12))\n",
        "print(\"7 S_{1/2} -> 60 P_{3/2}\")\n",
        "print(\"%.3f nm \" % (atom.getTransitionWavelength(7,0,0.5,60,1,1.5)*1e9))\n",
        "print(\"%.3f THz \" % (atom.getTransitionFrequency(7,0,0.5,60,1,1.5)*1e-12))"
      ]
    },
    {
      "cell_type": "markdown",
      "metadata": {
        "id": "_xWapKw7vSAk"
      },
      "source": [
        "Or, even four lasers can be achieved in order to couple to Rydberg states. For example [reference] $6 S_{1/2} \\rightarrow 6P_{3/2} \\rightarrow 7S_{1/2} \\rightarrow 8 P_{1/2} \\rightarrow 52 D_{3/2}$"
      ]
    },
    {
      "cell_type": "code",
      "execution_count": null,
      "metadata": {
        "id": "BBdS861-vSAl"
      },
      "outputs": [],
      "source": [
        "print(\"6 S_{1/2} -> 6 P_{3/2}\")\n",
        "print(\"%.3f nm \" % (atom.getTransitionWavelength(6,0,0.5,6,1,1.5)*1e9))\n",
        "print(\"%.3f THz \" % (atom.getTransitionFrequency(6,0,0.5,6,1,1.5)*1e-12))\n",
        "print(\"6 P_{3/2} -> 7 S_{1/2}\")\n",
        "print(\"%.3f nm \" % (atom.getTransitionWavelength(6,1,1.5,7,0,0.5)*1e9))\n",
        "print(\"%.3f THz \" % (atom.getTransitionFrequency(6,1,1.5,7,0,0.5)*1e-12))\n",
        "print(\"7 S_{1/2} -> 8 P_{3/2}\")\n",
        "print(\"%.3f nm \" % (atom.getTransitionWavelength(7,0,0.5,8,1,1.5)*1e9))\n",
        "print(\"%.3f THz \" % (atom.getTransitionFrequency(7,0,0.5,8,1,1.5)*1e-12))\n",
        "print(\"8 P_{1/2} -> 52 D_{3/2}\")\n",
        "print(\"%.3f nm \" % (atom.getTransitionWavelength(8,1,0.5,52,2,1.5)*1e9))\n",
        "print(\"%.3f THz \" % (atom.getTransitionFrequency(8,1,0.5,52,2,1.5)*1e-12))"
      ]
    },
    {
      "cell_type": "markdown",
      "metadata": {
        "id": "kflna_F5vSAl"
      },
      "source": [
        "Now even with moderate laser powers we can reach highly-excited states. For example for 10 mW laser focused down to 50 $\\mu$m driving $8~P_{1/2}~m_j=1/2 \\rightarrow 52~D_{3/2}~m_j=1/2$ we achieve"
      ]
    },
    {
      "cell_type": "code",
      "execution_count": null,
      "metadata": {
        "id": "-PvYEPn7vSAl"
      },
      "outputs": [],
      "source": [
        "waist = 50e-6 # 50 mu m\n",
        "P = 10.e-3 # 10 mW\n",
        "rabiFreq = atom.getRabiFrequency(8,1,1.5,0.5,52,2,1.5,0.5,P,2*waist)\n",
        "print(\"rabi Frequency = 2 pi x %.2f MHz\" %(rabiFreq/(2*pi)*1e-6))"
      ]
    },
    {
      "cell_type": "markdown",
      "metadata": {
        "id": "v_JKyq6SvSAl"
      },
      "source": [
        "### Quadrupole matrix elements"
      ]
    },
    {
      "cell_type": "markdown",
      "metadata": {
        "id": "5Kb1NWvBvSAl"
      },
      "source": [
        "We can also obtain quadrupole matrix elements. For example, $5 S_{1/2}\\rightarrow n D_{5/2}$ transitions, that have been also calculated in [D. Tong et.al, PRA **79**, 052509 (2009)](https://doi.org/10.1103/PhysRevA.79.052509) (see Table I there), we can obtain by calling\n"
      ]
    },
    {
      "cell_type": "code",
      "execution_count": null,
      "metadata": {
        "id": "sRoyBGH7vSAl"
      },
      "outputs": [],
      "source": [
        "atom = Rubidium()\n",
        "nList = [24,27,29,34,39,44,47,49,54,59]\n",
        "for n in nList:\n",
        "    print(\"%.2e e^2 a_0^4\" % atom.getQuadrupoleMatrixElement(5,0,0.5,n,2,2.5)**2)"
      ]
    },
    {
      "cell_type": "markdown",
      "metadata": {
        "collapsed": true,
        "id": "elEu-5DPvSAl"
      },
      "source": [
        "## Rydberg Atom Stark Shifts\n",
        "\n",
        "The large dipole moment of the Rydberg states makes them highly polarisable. For an atom in a d.c. electromagnetic field $\\mathcal{E}$ directed along the $z$-axis, the interaction leads to a coupling given by\n",
        "\n",
        "\\begin{equation}\n",
        "\\mathcal{H} = \\mathcal{H}_0 + \\mathcal{E}\\hat{z},\n",
        "\\end{equation}\n",
        "\n",
        "where $\\mathcal{H}_0$ is the Hamiltonian for the unperturbed energy levels and $\\hat{z}\\equiv r_0$ in the spherical basis resulting in a selection rule $\\Delta m_j=0$ and a shift dependent on $\\vert m_j \\vert$. For the low-$\\ell$ states, the quantum defects cause the first-order Stark-shift to vanish, resulting in a second-order energy shift $\\Delta E = -\\frac{1}{2}\\alpha_0\\mathcal{E}^2$ where the polarizability for state $\\vert n \\ell j m_j\\rangle$ is given by\n",
        "\n",
        "\\begin{equation}\n",
        "\\alpha_0 = 2 e^2\\displaystyle\\sum_{n'\\ell'j'\\neq n\\ell j} \\frac{\\vert \\langle n,\\ell,j,m_j\\vert r_0 \\vert n',\\ell',j',m_j' \\rangle \\vert^2}{E_{n'\\ell' j'}-E_{n\\ell j}}.\n",
        "\\end{equation}\n",
        "\n",
        "Since the dipole matrix elements scale as $n^{2}$, and the energy difference scales as $n^{-3}$ the scalar polarizability $\\alpha_0\\propto n^7$. States with $\\ell>3$ are degenerate, and therefore experience a linear Stark shift.\n",
        "\n",
        "The evaluation of polarisability using second-order perturbation theory is limited, and only valid at weak fields. Instead, Stark maps accurate to all orders can be obtained by direct diagonalisatoin of the Hamiltonian $\\mathcal{H}$, taking care to include a large enough set of basis states to achieve divergence. As well as revealing the exact energies of the Stark-coupled states, this permits extraction of the mixed electric field eigenstates which are relevant when considering optical excitation of a given Rydberg state which is now mixed into neighbouring energy levels.\n",
        "\n",
        "The code below provides an example Stark map for the $35S_{1/2},\\vert m_j\\vert=1/2$ state in Cesium. After identifying the target state, a range of basis states are defined before running the diagonalisation for the range of E-fields specified, returning the desired Stark map. To show the effect of state mixing, the levels are coloured proportional to the fraction of the target state present in each eigenstate. This knowledge can also be used to determine the effective polarisability by extracting the energy level of the eigenstate with a contribution of at least 90% of the original target state.\n",
        "\n",
        "For high $n$, the range of basis states may need to be increased due to the reduction in energy spacings but this can easily be checked for convergence by running twice with a larger basis set.\n"
      ]
    },
    {
      "cell_type": "code",
      "execution_count": null,
      "metadata": {
        "id": "Kt-NXEkLvSAl"
      },
      "outputs": [],
      "source": [
        "#Stark Map Caclulator\n",
        "#====================\n",
        "#Initialise a Stark-shift Solver for Caesium\n",
        "calc = StarkMap(Caesium())\n",
        "\n",
        "#Target state\n",
        "n0=35;l0=0;j0=0.5;mj0=0.5;\n",
        "#Define max/min n values in basis\n",
        "nmax=40\n",
        "nmin=30\n",
        "#Maximum value of l to include (l~20 gives good convergence for states with l<5)\n",
        "lmax=20\n",
        "\n",
        "#Initialise Basis States for Solver : progressOutput=True gives verbose output\n",
        "calc.defineBasis(n0, l0, j0, mj0, nmin, nmax, lmax, progressOutput=True)\n",
        "\n",
        "Emin=0. #Min E field (V/m)\n",
        "Emax=20000. #Max E field (V/m)\n",
        "N=1001 #Number of Points\n",
        "\n",
        "#Generate Stark Map\n",
        "calc.diagonalise(np.linspace(Emin,Emax,N), progressOutput=True)\n",
        "#Show Sark Map\n",
        "calc.plotLevelDiagram(progressOutput=True,units=1,highlighState = True)\n",
        "calc.showPlot(interactive = False)\n",
        "#Return Polarizability of target state\n",
        "print(\"%.5f MHz cm^2 / V^2 \" % calc.getPolarizability(showPlot=True, minStateContribution=0.9))\n"
      ]
    },
    {
      "cell_type": "markdown",
      "metadata": {
        "id": "uDMjMcfIvSAm"
      },
      "source": [
        "We can compare values for the polarizability with the measurements in the literature. For example, we can get theoretical predictions for results cited in Ref. [M. S. O'Sullivan and B. P. Stoicheff, PRA **31**, 2718 (1985)](https://doi.org/10.1103/PhysRevA.31.2718) (see Table I there) by calling the following"
      ]
    },
    {
      "cell_type": "code",
      "execution_count": null,
      "metadata": {
        "id": "REN1HTNqvSAn"
      },
      "outputs": [],
      "source": [
        "calc = StarkMap(Rubidium())\n",
        "\n",
        "\n",
        "stateN = [15,20,25,30,35,40,45,50,55,60,63,65,67,70,75,80]\n",
        "eFieldRange = np.array([[90,492],[28,188],[19,75],[4,28],[4,14],\\\n",
        "                        [1,5],[1.4,3.2],[0.7,2],[0.6,1],[0.15,0.7],\\\n",
        "                        [0.35,0.7],[0.2,0.7],[0.15,0.45],[0.15,0.3],\\\n",
        "                        [0.003,0.2],[0.1,0.16]])*1.e2 # V/m ranges\n",
        "polarizabilityList = []\n",
        "print(\"State\\t\\tPolarizability (MHz cm^2 / V^2)\\t\\tElectric field range (V/cm)\")\n",
        "\n",
        "for i in xrange(len(stateN)):\n",
        "    n = stateN[i]\n",
        "    calc.defineBasis(n, 0, 0.5, 0.5, n-5, n+5, 20) #,progressOutput=True)\n",
        "    minEfield = eFieldRange[i][0]\n",
        "    maxEfield = eFieldRange[i][1]\n",
        "    calc.diagonalise(np.linspace(minEfield,maxEfield,100)) # ,progressOutput=True)\n",
        "    p = calc.getPolarizability( minStateContribution=0.9)\n",
        "    print(\"%s\\t%.3e\\t\\t\\t\\t%.2f-%.2f\" % \\\n",
        "        (printStateString(n,0, 0.5), p, minEfield/100.,maxEfield/100.))\n",
        "    polarizabilityList.append(p)\n"
      ]
    },
    {
      "cell_type": "markdown",
      "metadata": {
        "id": "7cvpAMUVvSAn"
      },
      "source": [
        "This data can be compared also with analytical fit function that they recommend as a polarizability estimate."
      ]
    },
    {
      "cell_type": "code",
      "execution_count": null,
      "metadata": {
        "id": "MIz86-HEvSAn"
      },
      "outputs": [],
      "source": [
        "ax = plt.subplot(1,1,1)\n",
        "ax.semilogy(stateN,polarizabilityList,\"b.\")\n",
        "ax.set_xlabel(r\"Principal quantum number, $n$\")\n",
        "ax.set_ylabel(r\"Scalar polarizability, $\\alpha_0$ (MHz cm$^2$/ V$^2$)\")\n",
        "\n",
        "def functionFromReference_Rb_S_states(atom,n):\n",
        "    # recommended fit function from M. S. O'Sullivan and B. P. Stoicheff, PRA 31, 2718 (1985)\n",
        "    scaledPQN = n - atom.getQuantumDefect(n,0,0.5)\n",
        "    return 2.202*1.e-9*scaledPQN**6 + 5.53*1.e-11*scaledPQN**7\n",
        "\n",
        "nValues = np.arange(10,80)\n",
        "referenceFunction = [functionFromReference_Rb_S_states(calc.atom,n) for n in nValues]\n",
        "ax.semilogy(nValues,referenceFunction,\"k:\")\n",
        "plt.legend((\"calculation\",\"reference function\"),loc=4,fontsize=10)\n",
        "plt.show()"
      ]
    },
    {
      "cell_type": "markdown",
      "metadata": {
        "id": "GRwV7JjxvSAn"
      },
      "source": [
        "We can also compare our calculations with recent calculations and measurements from [J. Grimmel et.al, NJP **17**, 053005 (2015)](http://iopscience.iop.org/article/10.1088/1367-2630/17/5/053005/meta) for Rubidium $35 S_{1/2}$ and $70 S_{1/2}$ states"
      ]
    },
    {
      "cell_type": "code",
      "execution_count": null,
      "metadata": {
        "scrolled": false,
        "id": "mzNeCMFfvSAn"
      },
      "outputs": [],
      "source": [
        "\n",
        "\n",
        "calc = StarkMap(Rubidium())\n",
        "\n",
        "nRange = 13\n",
        "noOfEigVectors = 500\n",
        "\n",
        "calc.defineBasis(35, 2, 2.5, 0.5, 35-nRange, 35+nRange, 35,progressOutput=True)\n",
        "calc.diagonalise(np.linspace(0,235*1.e2,noOfEigVectors),drivingFromState=[5, 1, 1.5, 1.5, -1],\\\n",
        "                 progressOutput=True)\n",
        "calc.plotLevelDiagram(units=2,highlighState = True,highlightColour=\"red\")\n",
        "\n",
        "calc.defineBasis(35, 2, 2.5, 1.5, 35-nRange, 35+nRange, 35,progressOutput=True)\n",
        "calc.diagonalise(np.linspace(0,235*1.e2,noOfEigVectors),drivingFromState=[5, 1, 1.5, 1.5, 0],\\\n",
        "                 progressOutput=True)\n",
        "calc.plotLevelDiagram(units=2,highlighState = True,highlightColour=\"green\")\n",
        "\n",
        "calc.defineBasis(35, 2, 2.5, 2.5, 35-nRange, 35+nRange, 35,progressOutput=True)\n",
        "\n",
        "calc.diagonalise(np.linspace(0,235*1.e2,noOfEigVectors),drivingFromState=[5, 1, 1.5, 1.5, +1],\\\n",
        "                 progressOutput=True)\n",
        "calc.plotLevelDiagram(units=2,highlighState = True,highlightColour=\"blue\")\n",
        "\n",
        "stateEnergy = calc.atom.getEnergy(35,0,0.5)*C_e/(C_h*1.e9)\n",
        "calc.ax.set_ylim(stateEnergy-21,stateEnergy+7)\n",
        "calc.showPlot(interactive = False)\n",
        "\n"
      ]
    },
    {
      "cell_type": "markdown",
      "metadata": {
        "id": "r1TmrbjbvSAn"
      },
      "source": [
        "# Rydberg atom interactions\n",
        "\n",
        "As described above, the Rydberg states have extremely large dipole moments making them ideal candidates for controlled long-range interactions in quantum information processing and for studying effects such as resonant energy transfer or superradiance.\n",
        "\n",
        "For two atoms separated by distance $\\textbf{R}$ the dipole-dipole interaction is given by\n",
        "\n",
        "\\begin{equation}\n",
        "V(\\textbf{R}) =  \\frac{\\textbf{$\\mu$}_1\\cdot\\textbf{$\\mu$}_2}{R^3} -\\frac{3(\\textbf{$\\mu$}_1\\cdot\\textbf{R})(\\textbf{$\\mu$}_2\\cdot\\textbf{R})}{R^5},\n",
        "\\end{equation}\n",
        "\n",
        "where the dipole matrix elements $\\mathbf{\\mu}_{1,2}$ describe transitions from the initial Rydberg states $\\vert r \\rangle$ to other dipole-coupled states $\\vert r'\\rangle,\\vert r''\\rangle$ respectively. The dipole-coupled pair-states have an energy difference $\\Delta$ give by\n",
        "\n",
        "\\begin{equation}\n",
        "\\Delta = E_{r'}+E_{r''}-2E_{r},\n",
        "\\end{equation}\n",
        "\n",
        "with the dominant contribution to the atom-atom interaction arising from the pair state of with smallest absolute defect $\\vert \\Delta \\vert$. Reducing this to a simple two-pair problem, the Hamiltonian for the states $\\vert r r\\rangle,\\vert r'r''\\rangle$ is given by\n",
        "\n",
        "\\begin{equation}\n",
        "\\mathcal{H} = \\begin{pmatrix}\n",
        "0 &V(R) \\\\\n",
        "V(R)&\\Delta\n",
        "\\end{pmatrix},\n",
        "\\end{equation}\n",
        "\n",
        "which has the eigenvalues\n",
        "\n",
        "\\begin{equation}\n",
        "\\lambda_\\pm = \\frac{\\Delta\\pm\\sqrt{\\Delta^2+4V(R)^2}}{2}.\n",
        "\\end{equation}\n",
        "\n",
        "This results in two asympotitic limits for the atom-atom interactions:\n",
        "\n",
        "   **i) Long-range ($V(R)\\ll\\Delta$)**\n",
        "    \n",
        "   In this limit, also known as the Van der Waals regime, pair-state energy is shifted by $-V(R)^2/\\Delta\\equiv - C_6/R^6$. The sign of the interaction (attractive/repulsive) is determined by $\\Delta$, and the interaction scales as $C_6\\propto n^{11}$.\n",
        "    \n",
        "   **ii) Short-range ($V(R)\\gg\\Delta$)**\n",
        "    \n",
        "   This is known as the resonant dipole-dipole regime with $\\lambda=\\pm C_3/R^3$ where $C_3\\propto n^4$, resulting in significant state mixing.\n",
        "    \n",
        "    \n",
        "The transition between these two regimes is known as the Van der Waals radius occuring at $V(R_\\mathrm{vdW})=\\Delta$, with $R_\\mathrm{vdW}=\\sqrt[6]{C_6/\\vert\\Delta\\vert}$.\n",
        "    \n",
        "Typically $\\Delta\\neq0$ for the Rydberg states, however for small $\\Delta$ an external electric field can be used to Stark-shift the pair states into resonance known as a Förster resonance, resulting in resonant $C_3/R^3$ behaviour at all radii.\n",
        "\n"
      ]
    },
    {
      "cell_type": "code",
      "execution_count": null,
      "metadata": {
        "id": "Tk6wJv39vSAo"
      },
      "outputs": [],
      "source": [
        "# calcualtion of energy defects and c3 terms for atom-pairs\n",
        "atom = Rubidium()\n",
        "\n",
        "\n",
        "nlist=np.arange(25,100,1)\n",
        "\n",
        "\n",
        "fig, axes = plt.subplots(1, 1, figsize=(10,6))\n",
        "\n",
        "l1 = 1 ; j1 = 1.5 #  P_{3/2}\n",
        "l2 = 0 ; j2 = 0.5 # S_{1/2}\n",
        "energyDefect = []\n",
        "for n in nlist:\n",
        "    energyDefect.append(atom.getEnergyDefect2(n,l1,j1,n,l1,j1,n+1,l2,j2,n,l2,j2)/(C_h)*1e-9)\n",
        "axes.plot(nlist,energyDefect,'r.',\\\n",
        "          label=r\"$|n%s_{%d/2},n%s_{%d/2}\\rangle\\rightarrow\\\n",
        "              |(n+1) %s_{%d/2},n %s_{%d/2}\\rangle$\"%\\\n",
        "              (printStateLetter(l1),int(2*j1),printStateLetter(l1),int(2*j1),\\\n",
        "              printStateLetter(l2),int(2*j2),printStateLetter(l2),int(2*j2)))\n",
        "\n",
        "l1 = 1 ; j1 = 0.5 #  P_{3/2}\n",
        "l2 = 0 ; j2 = 0.5 # S_{1/2}\n",
        "energyDefect = []\n",
        "for n in nlist:\n",
        "    energyDefect.append(atom.getEnergyDefect2(n,l1,j1,n,l1,j1,n+1,l2,j2,n,l2,j2)/(C_h)*1e-9)\n",
        "axes.plot(nlist,energyDefect,'g.',\\\n",
        "          label=r\"$|n%s_{%d/2},n%s_{%d/2}\\rangle\\rightarrow\\\n",
        "              |(n+1) %s_{%d/2},n %s_{%d/2}\\rangle$\"%\\\n",
        "              (printStateLetter(l1),int(2*j1),printStateLetter(l1),int(2*j1),\\\n",
        "              printStateLetter(l2),int(2*j2),printStateLetter(l2),int(2*j2)))\n",
        "\n",
        "l1 = 1 ; j1 = 1.5 #  P_{3/2}\n",
        "l2 = 0 ; j2 = 0.5 # S_{1/2}\n",
        "energyDefect = []\n",
        "for n in nlist:\n",
        "    energyDefect.append(atom.getEnergyDefect2(n,l1,j1,n,l1,j1,n+2,l2,j2,n-1,l2,j2)/(C_h)*1e-9)\n",
        "axes.plot(nlist,energyDefect,'k.',\\\n",
        "          label=r\"$|n%s_{%d/2},n%s_{%d/2}\\rangle\\rightarrow\\\n",
        "              |(n+2) %s_{%d/2},(n_1) %s_{%d/2}\\rangle$\"%\\\n",
        "              (printStateLetter(l1),int(2*j1),printStateLetter(l1),int(2*j1),\\\n",
        "              printStateLetter(l2),int(2*j2),printStateLetter(l2),int(2*j2)))\n",
        "\n",
        "l1 = 1 ; j1 = 0.5 #  P_{3/2}\n",
        "l2 = 0 ; j2 = 0.5 # S_{1/2}\n",
        "energyDefect = []\n",
        "for n in nlist:\n",
        "    energyDefect.append(atom.getEnergyDefect2(n,l1,j1,n,l1,j1,n+2,l2,j2,n-1,l2,j2)/(C_h)*1e-9)\n",
        "axes.plot(nlist,energyDefect,'b.',\\\n",
        "          label=r\"$|n%s_{%d/2},n%s_{%d/2}\\rangle\\rightarrow\\\n",
        "              |(n+2) %s_{%d/2},(n_1) %s_{%d/2}\\rangle$\"%\\\n",
        "              (printStateLetter(l1),int(2*j1),printStateLetter(l1),int(2*j1),\\\n",
        "              printStateLetter(l2),int(2*j2),printStateLetter(l2),int(2*j2)))\n",
        "\n",
        "\n",
        "axes.set_ylim(-4,4)\n",
        "axes.set_xlim(0,100)\n",
        "axes.legend(loc=0,fontsize=10)\n",
        "axes.set_ylabel(\"Energy defect, $\\Delta$ (GHz)\")\n",
        "axes.set_xlabel(\"Principal quantum number, $n$\")\n",
        "axes.grid()\n",
        "plt.legend\n",
        "plt.show()"
      ]
    },
    {
      "cell_type": "markdown",
      "metadata": {
        "id": "Ss5BItxIvSAo"
      },
      "source": [
        "The obtained plot can be compared with Fig. 8 (for Rb) in Ref. [Thad G. Walker and M. Saffman, PRA **77**, 032723 (2008)](https://doi.org/10.1103/PhysRevA.77.032723). Similar paper provides $C_6$ calculations for individual coulping channels. We can reproduce examples corresponding to Eq. (50a-c) in the same reference simply by calling:"
      ]
    },
    {
      "cell_type": "code",
      "execution_count": null,
      "metadata": {
        "id": "8I6wtPMcvSAo"
      },
      "outputs": [],
      "source": [
        "channels = [[70,0,0.5, 70, 1,1.5, 69,1, 1.5],\\\n",
        "            [70,0,0.5, 70, 1,1.5, 69,1, 0.5],\\\n",
        "            [70,0,0.5, 69, 1,1.5, 70,1, 0.5],\\\n",
        "            [70,0,0.5, 70, 1,0.5, 69,1, 0.5]]\n",
        "\n",
        "print(\" = = = Caesium = = = \")\n",
        "atom = Caesium()\n",
        "for channel in channels:\n",
        "    print(\"%.0f  GHz (mu m)^6\" % ( atom.getC6term(*channel)/C_h*1.e27 ))\n",
        "\n",
        "print(\"\\n = = = Rubidium  = = =\")\n",
        "\n",
        "atom = Rubidium()\n",
        "for channel in channels:\n",
        "    print(\"%.0f  GHz (mu m)^6\" % ( atom.getC6term(*channel)/C_h*1.e27 ))"
      ]
    },
    {
      "cell_type": "markdown",
      "metadata": {
        "id": "Y28ZPoi-vSAo"
      },
      "source": [
        "## Dispersion Coefficients\n",
        "\n",
        "For the long-range limit, the $C_6$ dispersion coefficient can be calculated using second-order petubation theory valid for $R>R_\\mathrm{vdW}$ and taking a sum over all dipole-coupled pair-states using the equation\n",
        "\n",
        "\\begin{equation}\n",
        "C_6 = \\displaystyle\\sum_{r'r''} \\frac{\\left| \\langle r'r''\\vert V(R) \\vert rr\\rangle\\right|^2}{\\Delta_{r',r''}}.\n",
        "\\end{equation}\n",
        "\n",
        "As well as the dependence upon the sign of $\\Delta$ for attractive/repulsive interactions, the form of the dipole interaction above is anisotropic leading to a strong angular sensitivity. Defining an angle $(\\theta,\\phi)$ in spherical basis between the quantization axis and the interatomic separation vector $\\textbf{R}$, the plots below highlight the difference in interaction strength of the different $\\ell$ states. As a general rule, for the alkali atoms $ns$ states are repulsive ($C_6<0$) and relatively isotropic, whilst $nd$ states are attractive ($C_6>0$) and highly anisotropic.\n",
        "\n",
        "Note: Typically, this sum is constrained to include only pair states up to a maximum value of $\\Delta$ to minimise computational overhead, and this can be set to achieve convergence."
      ]
    },
    {
      "cell_type": "code",
      "execution_count": null,
      "metadata": {
        "colab": {
          "base_uri": "https://localhost:8080/",
          "height": 216
        },
        "id": "A8_uA7tivSAo",
        "outputId": "3cc1fd91-fe63-451f-c151-b235cb76350b"
      },
      "outputs": [
        {
          "output_type": "error",
          "ename": "NameError",
          "evalue": "name 'PairStateInteractions' is not defined",
          "traceback": [
            "\u001b[0;31m---------------------------------------------------------------------------\u001b[0m",
            "\u001b[0;31mNameError\u001b[0m                                 Traceback (most recent call last)",
            "\u001b[0;32m<ipython-input-2-6186ab70b745>\u001b[0m in \u001b[0;36m<cell line: 0>\u001b[0;34m()\u001b[0m\n\u001b[1;32m      9\u001b[0m \u001b[0;34m\u001b[0m\u001b[0m\n\u001b[1;32m     10\u001b[0m \u001b[0;31m#Set target-state and extract value\u001b[0m\u001b[0;34m\u001b[0m\u001b[0;34m\u001b[0m\u001b[0m\n\u001b[0;32m---> 11\u001b[0;31m \u001b[0mcalculation\u001b[0m \u001b[0;34m=\u001b[0m \u001b[0mPairStateInteractions\u001b[0m\u001b[0;34m(\u001b[0m\u001b[0mRubidium\u001b[0m\u001b[0;34m(\u001b[0m\u001b[0;34m)\u001b[0m\u001b[0;34m,\u001b[0m \u001b[0mn0\u001b[0m\u001b[0;34m,\u001b[0m\u001b[0ml0\u001b[0m\u001b[0;34m,\u001b[0m\u001b[0mj0\u001b[0m\u001b[0;34m,\u001b[0m\u001b[0mn0\u001b[0m\u001b[0;34m,\u001b[0m\u001b[0ml0\u001b[0m\u001b[0;34m,\u001b[0m\u001b[0mj0\u001b[0m\u001b[0;34m,\u001b[0m \u001b[0mmj0\u001b[0m\u001b[0;34m,\u001b[0m\u001b[0mmj0\u001b[0m\u001b[0;34m)\u001b[0m\u001b[0;34m\u001b[0m\u001b[0;34m\u001b[0m\u001b[0m\n\u001b[0m\u001b[1;32m     12\u001b[0m \u001b[0mC6\u001b[0m \u001b[0;34m=\u001b[0m \u001b[0mcalculation\u001b[0m\u001b[0;34m.\u001b[0m\u001b[0mgetC6perturbatively\u001b[0m\u001b[0;34m(\u001b[0m\u001b[0mtheta\u001b[0m\u001b[0;34m,\u001b[0m\u001b[0mphi\u001b[0m\u001b[0;34m,\u001b[0m \u001b[0mdn\u001b[0m\u001b[0;34m,\u001b[0m \u001b[0mdeltaMax\u001b[0m\u001b[0;34m)\u001b[0m\u001b[0;34m\u001b[0m\u001b[0;34m\u001b[0m\u001b[0m\n\u001b[1;32m     13\u001b[0m \u001b[0mprint\u001b[0m\u001b[0;34m(\u001b[0m\u001b[0;34m\"C6 [%s] = %.2f GHz (mum)^6\"\u001b[0m \u001b[0;34m%\u001b[0m \u001b[0;34m(\u001b[0m\u001b[0mprintStateString\u001b[0m\u001b[0;34m(\u001b[0m\u001b[0mn0\u001b[0m\u001b[0;34m,\u001b[0m\u001b[0ml0\u001b[0m\u001b[0;34m,\u001b[0m\u001b[0mj0\u001b[0m\u001b[0;34m)\u001b[0m\u001b[0;34m,\u001b[0m\u001b[0mC6\u001b[0m\u001b[0;34m)\u001b[0m\u001b[0;34m)\u001b[0m\u001b[0;34m\u001b[0m\u001b[0;34m\u001b[0m\u001b[0m\n",
            "\u001b[0;31mNameError\u001b[0m: name 'PairStateInteractions' is not defined"
          ]
        }
      ],
      "source": [
        "#Dipole-Interaction Dispersion Coefficient:60S1/2\n",
        "#================================================\n",
        "#Evaluation of the Cs 60S_1/2 C6 coefficient using perturbation theory (Theta=0,phi=0)\n",
        "n0=60;l0=0;j0=0.5;mj0=0.5; #Target State\n",
        "theta=0; #Polar Angle [0-pi]\n",
        "phi=0; #Azimuthal Angle [0-2pi]\n",
        "dn = 5; #Range of n to consider (n0-dn:n0+dn)\n",
        "deltaMax = 25e9 #Max pair-state energy difference [Hz]\n",
        "\n",
        "#Set target-state and extract value\n",
        "calculation = PairStateInteractions(Rubidium(), n0,l0,j0,n0,l0,j0, mj0,mj0)\n",
        "C6 = calculation.getC6perturbatively(theta,phi, dn, deltaMax)\n",
        "print(\"C6 [%s] = %.2f GHz (mum)^6\" % (printStateString(n0,l0,j0),C6))\n",
        "\n",
        "\n",
        "#Angular Coupling\n",
        "#================\n",
        "#Evaluate C6 as a function of angle\n",
        "thetaList = np.linspace(0,2*pi,55)\n",
        "ax = plt.subplot(111, projection='polar')\n",
        "ax.set_theta_zero_location(\"N\")\n",
        "line = []\n",
        "\n",
        "c6 = []\n",
        "for t in thetaList:\n",
        "    C6 = calculation.getC6perturbatively(t,phi, dn, deltaMax)\n",
        "    c6.append(abs(C6))\n",
        "\n",
        "# plot results\n",
        "lineLegend, = plt.plot(thetaList,c6,\"-\",color=\"r\",label=(\"mj=%d/2\"%int(2*mj0)) )\n",
        "line.append(lineLegend)\n",
        "\n",
        "plt.legend(handles=line,fontsize=10)\n",
        "plt.title(\"Rb, pairstate  60 $S_{1/2}$, $|C_6|$ in GHz $\\mu$m$^{6}$\",fontsize=10)\n",
        "plt.show()"
      ]
    },
    {
      "cell_type": "code",
      "execution_count": null,
      "metadata": {
        "id": "PanCOcxyvSAo"
      },
      "outputs": [],
      "source": [
        "#Dipole-Interaction Dispersion Coefficient:60SD5/2\n",
        "#=================================================\n",
        "n0=60;l0=2;j0=2.5;#Target State\n",
        "phi=0; #Azimuthal Angle [0-pi]\n",
        "dn = 5; #Range of n to consider (n0-dn:n0+dn)\n",
        "deltaMax = 25e9 #Max pair-state energy difference [Hz]\n",
        "\n",
        "thetaList = np.linspace(0,2*pi,71)\n",
        "mj = [0.5,1.5,2.5]\n",
        "colourList = [\"b\",\"g\",\"r\"]\n",
        "\n",
        "ax = plt.subplot(111, projection='polar')\n",
        "ax.set_theta_zero_location(\"N\")\n",
        "line = []\n",
        "\n",
        "for i in [0,1,2]:\n",
        "    calculation = PairStateInteractions(Rubidium(), n0,l0,j0,n0,l0,j0, mj[i], mj[i])\n",
        "    c6 = []\n",
        "    for t in thetaList:\n",
        "        C6=calculation.getC6perturbatively(t,phi, dn, deltaMax);\n",
        "        c6.append(abs(C6))\n",
        "\n",
        "    # plot results\n",
        "    lineLegend, = plt.plot(thetaList,c6,\"-\",color=colourList[i],label=(\"mj=%d/2\"%int(2*mj[i])))\n",
        "    line.append(lineLegend)\n",
        "\n",
        "plt.legend(handles=line,fontsize=10)\n",
        "plt.title(\"Rb, pairstate  60 $D_{5/2}$, $|C_6|$ in GHz $\\mu$m$^{6}$\",fontsize=10)\n",
        "plt.show()"
      ]
    },
    {
      "cell_type": "code",
      "execution_count": null,
      "metadata": {
        "id": "UiTlcWpovSAo"
      },
      "outputs": [],
      "source": [
        "thetaList = np.linspace(0,2*pi,71)\n",
        "mj = [0.5,1.5]\n",
        "colourList = [\"b\",\"g\",\"r\"]\n",
        "\n",
        "ax = plt.subplot(111, projection='polar')\n",
        "ax.set_theta_zero_location(\"N\")\n",
        "line = []\n",
        "\n",
        "for i in [0,1]:\n",
        "    calculation1 = PairStateInteractions(Rubidium(), 60, 1, 1.5, 60, 1, 1.5, mj[i], mj[i])\n",
        "    c6 = []\n",
        "    for t in thetaList:\n",
        "        c6.append(calculation1.getC6perturbatively(t,0, 5, 25e9))\n",
        "\n",
        "    # plot results\n",
        "    lineLegend, = plt.plot(thetaList,c6,\"-\",color=colourList[i],label=(\"mj=%d/2\"%int(2*mj[i])) )\n",
        "    line.append(lineLegend)\n",
        "\n",
        "plt.legend(handles=line,fontsize=10)\n",
        "plt.title(\"Rb, pairstate  60 $P_{3/2}$, $|C_6|$ in GHz $\\mu$m$^{6}$\",fontsize=10)\n",
        "plt.show()"
      ]
    },
    {
      "cell_type": "markdown",
      "metadata": {
        "id": "RzV-QZQ6vSAo"
      },
      "source": [
        "For example, we can obtain get results for $C_6$ for Rubidium D states, for which calculations and measurements are presented in Ref. [L.Béguin et.al, PRL **110**, 263201 (2013)](https://doi.org/10.1103/PhysRevLett.110.263201) (see Table I there) simply by calling:"
      ]
    },
    {
      "cell_type": "code",
      "execution_count": null,
      "metadata": {
        "id": "kxxyw9dwvSAp"
      },
      "outputs": [],
      "source": [
        "for n in [53,62,82]:\n",
        "    calculation1 = PairStateInteractions(Rubidium(), n, 2, 1.5, n, 2, 1.5, 1.5, 1.5)\n",
        "    state = printStateString(n,2,1.5)+\" m_j= 3/2\"\n",
        "    c6 = calculation1.getC6perturbatively(0,0, 5, 25e9)\n",
        "    print(\"C_6 [%s] = %.0f GHz (mu m)^6\" % (state,c6))"
      ]
    },
    {
      "cell_type": "markdown",
      "metadata": {
        "id": "tE7g1ONzvSAp"
      },
      "source": [
        "And we can compare calculation results for anisotropic interactions between the two $82 D_{3/2}$ atoms at 12 $\\mu$m distance, with measurements reported in [D. Barredo et.al, PRL **112**, 183002 (2014)](https://doi.org/10.1103/PhysRevLett.112.183002) (see Fig. 3 there)"
      ]
    },
    {
      "cell_type": "code",
      "execution_count": null,
      "metadata": {
        "scrolled": false,
        "id": "AWJpan-EvSAp"
      },
      "outputs": [],
      "source": [
        "# specification of question\n",
        "\n",
        "calculation = PairStateInteractions(Rubidium(), 82,2,1.5,82,2,1.5, 1.5, 1.5)\n",
        "thetaList = np.linspace(0,pi/2.,20)  # orientations of the two atoms\n",
        "atomDistance = 12. # mu m\n",
        "\n",
        "# do calculation\n",
        "interactionVeff = []\n",
        "for t in thetaList:\n",
        "    c6 = calculation.getC6perturbatively(t,0.,5,25e9)\n",
        "    interactionVeff.append((c6/atomDistance**6)*1.e3)\n",
        "\n",
        "# now plotting\n",
        "ax = plt.subplot(111)\n",
        "ax.plot(thetaList/pi*180,interactionVeff,\"b-\")\n",
        "# symetric plot for 0- >-90\n",
        "ax.plot(-thetaList/pi*180,interactionVeff,\"b-\")\n",
        "ax.set_xlabel(r\"Angle, $\\theta (^\\circ)$\")\n",
        "ax.set_ylabel(r\"Interactions, $|V_{\\rm eff}|/h$ (MHz)\")\n",
        "ax.set_xlim(-90,90)\n",
        "plt.title(\"Rb, pairstate  82 $D_{3/2}$, $V(12 \\mu$m$)/h$ in MHz\",fontsize=10)\n",
        "plt.show()"
      ]
    },
    {
      "cell_type": "markdown",
      "metadata": {
        "id": "827S7cVlvSAp"
      },
      "source": [
        "Similarly one can get interactions in Potassium (or Lithium6, Lithium7, Sodium...), simply by changing atom in the calculation initialization. For example for $66 S_{1/2}$ states used in Ref. [S. Helmrich, A. Arias, S. Whitlock, arXiv:1605.08609](https://arxiv.org/abs/1605.08609) by calling"
      ]
    },
    {
      "cell_type": "code",
      "execution_count": null,
      "metadata": {
        "id": "atvLLJHovSAp"
      },
      "outputs": [],
      "source": [
        "calculation1 = PairStateInteractions(Potassium(),66, 0, 0.5, 66, 0, 0.5, 0.5, 0.5)\n",
        "c6 = calculation1.getC6perturbatively(0,0, 5, 30e9)\n",
        "state = printStateString(66,0,0.5)+\" m_j= 1/2\"\n",
        "print(\"C_6 [%s] = %.0f GHz (mu m)^6\" % (state,c6))"
      ]
    },
    {
      "cell_type": "markdown",
      "metadata": {
        "id": "i5Nuxh7hvSAp"
      },
      "source": [
        "## Short-range interactions\n",
        "\n",
        "For $R<R_\\mathrm{vdW}$ it is no longer possible to calculate the interactions using perturbation theory, and instead (as with Stark-shift) it is necessary to diagonalize the pair-state interaction Hamiltionian, taking into account all pair states in the vicinity of the target pair state.\n"
      ]
    },
    {
      "cell_type": "code",
      "execution_count": null,
      "metadata": {
        "scrolled": false,
        "id": "lVyBd7OmvSAp"
      },
      "outputs": [],
      "source": [
        "#Interaction Potential for 60S1/2\n",
        "#=================================\n",
        "n0=60;l0=0;j0=0.5;mj0=0.5; #Target State\n",
        "theta=0; #Polar Angle [0-2pi]\n",
        "phi=0; #Azimuthal Angle [0-pi]\n",
        "dn = 5; #Range of n to consider (n0-dn:n0+dn)\n",
        "dl = 5; #Range of l values\n",
        "deltaMax = 25e9 #Max pair-state energy difference [Hz]\n",
        "\n",
        "#R array (um)\n",
        "r=np.linspace(0.5,10.0,400)\n",
        "\n",
        "#Set target-state\n",
        "calc = PairStateInteractions(Rubidium(), n0,l0,j0,n0,l0,j0, mj0,mj0,interactionsUpTo = 1)\n",
        "\n",
        "rvdw = calc.getLeRoyRadius()\n",
        "print(\"LeRoy radius = %.1f mum\" % rvdw)\n",
        "#R array (um)\n",
        "r=np.append(np.linspace(rvdw,3,300),np.linspace(3.01,10.0,300))\n",
        "\n",
        "#Generate pair-state interaction Hamiltonian\n",
        "calc.defineBasis(theta,phi, dn,dl, deltaMax,progressOutput=True)\n",
        "#Diagonalise\n",
        "nEig=250 #Number of eigenstates to extract\n",
        "calc.diagonalise(r,nEig,progressOutput=True)\n",
        "#Plot\n",
        "calc.plotLevelDiagram()\n",
        "#Zoom-on on pair state\n",
        "calc.ax.set_xlim(1.0,10.0)\n",
        "calc.ax.set_ylim(-2,2)\n",
        "calc.showPlot()  # by default program will plot interactive plots\n",
        "# however plots are interactive only if open oin standard window\n",
        "# and not in the %inline mode of the notebooks\n"
      ]
    },
    {
      "cell_type": "markdown",
      "metadata": {
        "id": "88ihWNwovSAq"
      },
      "source": [
        "Obtained plot can be compared with Fig.2(a) in Ref. [N. Sibalic et.al, PRA **94**, 011401(R) (2016)](https://doi.org/10.1103/PhysRevA.94.011401). Continuing with the same calculation, we can now use the build-in funcitions to extract van der Waals range, and values of $C_3$ and $C_6$"
      ]
    },
    {
      "cell_type": "code",
      "execution_count": null,
      "metadata": {
        "scrolled": false,
        "id": "3uNwStQlvSAq"
      },
      "outputs": [],
      "source": [
        "rvdw = calc.getVdwFromLevelDiagram(1.000000,8.000000,minStateContribution=0.6,showPlot=True)\n",
        "calc.getC3fromLevelDiagram(1.8, rvdw*0.99,showPlot=True,minStateContribution=0.5)\n",
        "calc.getC6fromLevelDiagram(1.3*rvdw, 5.,showPlot=True,minStateContribution=0.5)"
      ]
    },
    {
      "cell_type": "markdown",
      "metadata": {
        "id": "CZt2KmGQvSAq"
      },
      "source": [
        "Interesting situation with energy levels at short distances are avoided crossings that form potential wells."
      ]
    },
    {
      "cell_type": "code",
      "execution_count": null,
      "metadata": {
        "scrolled": false,
        "id": "jF2acmJCvSAq"
      },
      "outputs": [],
      "source": [
        "calculation1 = PairStateInteractions(Rubidium(), 43, 1, 1.5, 43, 1, 1.5, 1.5, -1.5,interactionsUpTo = 1)\n",
        "calculation1.defineBasis( 0., 0., 5, 5,25e9,progressOutput=True)\n",
        "calculation1.diagonalise(np.linspace(0.5,2.6,400),100,progressOutput=True)\n",
        "\n",
        "calculation1.plotLevelDiagram()\n",
        "calculation1.ax.set_xlim(0.5,2.6)\n",
        "calculation1.ax.set_ylim(-1.0,0.8)\n",
        "calculation1.showPlot(interactive=False)"
      ]
    },
    {
      "cell_type": "markdown",
      "metadata": {
        "id": "fOIBo4dlvSAq"
      },
      "source": [
        "This potential wells can be used for interaction-enhanced dressing discussed in Ref. [R.M.W van Bijnen and T. Pohl, PRL **114**, 243002 (2015)](http://journals.aps.org/prl/abstract/10.1103/PhysRevLett.114.243002). This plot can be compared with $M=0$ states on Fig. 1(c) in the same reference."
      ]
    },
    {
      "cell_type": "markdown",
      "metadata": {
        "id": "L16xRfEovSAq"
      },
      "source": [
        "At very short range the energy levels are strongly mixed, creating highly complex molecular potentials and requiring a very large basis set to acheive convergence. This effect, also referred to as 'spheghetti', also requires going beyond dipole-dipole interactions and instead include higher-order dipole-quadrupole and quadrupole-quadrupole. This is done using the \"interactionsUpTo = 2\" command, but is only significant for evaluation of the interaction potential within the dense spheghetti of mode.\n"
      ]
    },
    {
      "cell_type": "code",
      "execution_count": null,
      "metadata": {
        "id": "8NOGi62dvSAq"
      },
      "outputs": [],
      "source": [
        "calculation1 = PairStateInteractions(Caesium(), 32, 0, 0.5, 32, 0, 0.5, 0.5, -0.5,interactionsUpTo = 2)\n",
        "calculation1.defineBasis( 0., 0., 5, 5,25e9,progressOutput=True)\n",
        "calculation1.diagonalise(np.linspace(0.3,1.0,400),300,progressOutput=True)\n",
        "\n",
        "calculation1.plotLevelDiagram()\n",
        "calculation1.ax.set_xlim(0.3,1.0)\n",
        "calculation1.ax.set_ylim(-4.0,4.0)\n",
        "calculation1.showPlot(interactive=False)"
      ]
    },
    {
      "cell_type": "markdown",
      "metadata": {
        "id": "IkRfxQFDvSAq"
      },
      "source": [
        "## Resonant interactions"
      ]
    },
    {
      "cell_type": "markdown",
      "metadata": {
        "id": "ieOMHmRWvSAq"
      },
      "source": [
        "When to pair states are resonant, they interact with that scales as $\\propto R^{-3}$. This is for example the case for $|dd\\rangle \\equiv |59~ D_{3/2} ~m_j=3/2, ~59 D_{3/2}~ m_j=3/2 \\rangle$ and $|pf\\rangle \\equiv | 61~ P_{1/2} ~m_j = 1/2, 57~ F_{5/2}~m_j=5/2\\rangle$ pair states of Rubidium when the relative pair-staets energies are tuned via the DC Stark effect, applying the external electric field of 32 mV$^{-1}$ cm$^{-1}$. We can obtain theoretical prediction for $C_3$ between these two states, used in [Sylvain R. et. al, Nature Physics **10**, 914 (2014)](dx.doi.org/10.1038/nphys3119), simply by calling"
      ]
    },
    {
      "cell_type": "code",
      "execution_count": null,
      "metadata": {
        "id": "ms0Q8TgGvSAq"
      },
      "outputs": [],
      "source": [
        "atom = Rubidium()\n",
        "# coupling od 59 D_{3/2} m_j = 3/2 -> 51 P_{1/2} m_j = 1/2\n",
        "dpDME = atom.getDipoleMatrixElement(59, 2, 1.5, 1.5, 61, 1, 0.5, 0.5, -1)\n",
        "# coupling od 59 D_{3/2} m_j = 3/2 -> 57 F_{5/2} m_j = 5/2\n",
        "dfDME = atom.getDipoleMatrixElement(59, 2, 1.5, 1.5, 57, 3, 2.5, 2.5, +1)\n",
        "c3  = 1/(4.0*pi*epsilon_0)*dpDME*dfDME*C_e**2*\\\n",
        "                (physical_constants[\"Bohr radius\"][0])**2\n",
        "print(\"C_3 = %.3f GHz (mu m)^3 \" % (abs(c3)/C_h*1.e9  ))"
      ]
    },
    {
      "cell_type": "markdown",
      "metadata": {
        "id": "PXvfTaP4vSAq"
      },
      "source": [
        "Another example where one expects to see resonant transfer of excitations is the case where one of the atoms is excited into the state that has opposite parirty compared to other atoms in it's environment. For example, experiment described in [Daniel Barredo et. al, PRL **114**, 113002 (2015)](https://doi.org/10.1103/PhysRevLett.114.113002) explores chain of Rubidium atoms in $|63~P_{1/2} m_j=1/2\\rangle$, and one atom in $|62~D_{3/2}~m_j = 3/2\\rangle$ that would be \"spin excitation\". This excitation will travel along the chain, due to the resonant dipole-dipole interactins, hopping between the atoms with frequency $V(R)/h = \\frac{C_3}{h R^3}$. We can obtain prediction for $C_3$ simply by calling"
      ]
    },
    {
      "cell_type": "code",
      "execution_count": null,
      "metadata": {
        "id": "FbZAmUoBvSAr"
      },
      "outputs": [],
      "source": [
        "atom = Rubidium()\n",
        "# coupling of |63 P_{1/2} m_j=1/2, 62 D_{3/2} m_j=3/2> to |62 D_{3/2} m_j=3/2 , 63 P_{1/2} m_j=1/2>\n",
        "dme = atom.getDipoleMatrixElement(63, 1, 0.5, 0.5, 62, 2, 1.5, 1.5, +1)\n",
        "c3  = 1/(4.0*pi*epsilon_0)*dme*dme*C_e**2*\\\n",
        "                (physical_constants[\"Bohr radius\"][0])**2\n",
        "print(\"C_3 = %.3f GHz (mu m)^3 \" % (abs(c3)/C_h*1.e9  ))"
      ]
    },
    {
      "cell_type": "markdown",
      "metadata": {
        "id": "kmkFg-r9vSAr"
      },
      "source": [
        "## Tuning the interaction strength with electric fields"
      ]
    },
    {
      "cell_type": "markdown",
      "metadata": {
        "id": "S6hh1Ju0vSAr"
      },
      "source": [
        "External electric fields can be used to bring some pair-states in resonance with another pair of states. This allows tuning of atom interactions from short range van-der Waals interactions ($\\propto R^{-6}$), to stronger, long-range resonant dipole-dipole interactions ($\\propto R^{-3}$). ARC provides high-level interface for finding these states through StarkMapResonances calculation class. For example if we want to find states that are resonant with Rubidium $44 D_{5/2} m_j = 5/2$ pair-state, we simply call"
      ]
    },
    {
      "cell_type": "code",
      "execution_count": null,
      "metadata": {
        "scrolled": false,
        "id": "kdGHQdBpvSAr"
      },
      "outputs": [],
      "source": [
        "calculation = StarkMapResonances(Rubidium(),[44,2,2.5,2.5],Rubidium(),[44,2,2.5,2.5])\n",
        "calculation.findResonances(39,49,20,np.linspace(0,100,200),energyRange=[-0.8e9,4.e9])\n",
        "calculation.showPlot()"
      ]
    },
    {
      "cell_type": "markdown",
      "metadata": {
        "id": "e49NnH6BvSAr"
      },
      "source": [
        "This generates relevant Stark maps, using:\n",
        "\n",
        "* states in range n=39-49,\n",
        "* for electric field range of 0-1 V/cm (0-100 V/m),\n",
        "* show only energy range [-0.8 GHz, 4 GHz].\n",
        "\n",
        "Function will automaticaly extract states whose dominant contribution is dipole coulped to  the initial pair-state.\n",
        "\n",
        "On the plot above, red line corresponds to the original pair-state, and the black points correspond to the states whose dominant contribution (remember that electric field mixes states from initial basis) are dipole coupled to the original pair state. This is useful for interactive use, when one can obtain the contribution of the states resonant with the original pair-state (black dots that are crossing the red line) simply by clicking on them. State composition will then be shown in. Note that this interactive features cannot be used if one calls this from Jupyter (IPython) notebook with $\\verb|%matplotlib inline|$ turned on."
      ]
    },
    {
      "cell_type": "markdown",
      "metadata": {
        "id": "OKafJEiivSAr"
      },
      "source": [
        "### Comparison with experiments\n",
        "\n",
        "As an example, we can easily find Förster resonances explored in [H. Gorniaczyk et.al, *Nature Comm.* **7**, 12480 (2016)](https://dx.doi.org/10.1038/ncomms12480). Note that plots below don't account for additional 1G magnetic field that was applied in experiment, that caused a small splitting of $m_j$ states ($\\sim 5~$MHz) that can be seen on Figure 1b-1c."
      ]
    },
    {
      "cell_type": "code",
      "execution_count": null,
      "metadata": {
        "colab": {
          "base_uri": "https://localhost:8080/",
          "height": 180
        },
        "id": "tBAKv-ANvSAr",
        "outputId": "df2bcaa4-b15c-4553-b6df-0bbbe0ec6a4e"
      },
      "outputs": [
        {
          "output_type": "error",
          "ename": "NameError",
          "evalue": "name 'StarkMapResonances' is not defined",
          "traceback": [
            "\u001b[0;31m---------------------------------------------------------------------------\u001b[0m",
            "\u001b[0;31mNameError\u001b[0m                                 Traceback (most recent call last)",
            "\u001b[0;32m<ipython-input-3-4bf79993adbf>\u001b[0m in \u001b[0;36m<cell line: 0>\u001b[0;34m()\u001b[0m\n\u001b[0;32m----> 1\u001b[0;31m \u001b[0mcalculation\u001b[0m \u001b[0;34m=\u001b[0m \u001b[0mStarkMapResonances\u001b[0m\u001b[0;34m(\u001b[0m\u001b[0mRubidium\u001b[0m\u001b[0;34m(\u001b[0m\u001b[0;34m)\u001b[0m\u001b[0;34m,\u001b[0m\u001b[0;34m[\u001b[0m\u001b[0;36m66\u001b[0m\u001b[0;34m,\u001b[0m\u001b[0;36m0\u001b[0m\u001b[0;34m,\u001b[0m\u001b[0;36m0.5\u001b[0m\u001b[0;34m,\u001b[0m\u001b[0;36m0.5\u001b[0m\u001b[0;34m]\u001b[0m\u001b[0;34m,\u001b[0m\u001b[0mRubidium\u001b[0m\u001b[0;34m(\u001b[0m\u001b[0;34m)\u001b[0m\u001b[0;34m,\u001b[0m\u001b[0;34m[\u001b[0m\u001b[0;36m64\u001b[0m\u001b[0;34m,\u001b[0m\u001b[0;36m0\u001b[0m\u001b[0;34m,\u001b[0m\u001b[0;36m0.5\u001b[0m\u001b[0;34m,\u001b[0m\u001b[0;36m0.5\u001b[0m\u001b[0;34m]\u001b[0m\u001b[0;34m)\u001b[0m\u001b[0;34m\u001b[0m\u001b[0;34m\u001b[0m\u001b[0m\n\u001b[0m\u001b[1;32m      2\u001b[0m \u001b[0mcalculation\u001b[0m\u001b[0;34m.\u001b[0m\u001b[0mfindResonances\u001b[0m\u001b[0;34m(\u001b[0m\u001b[0;36m61\u001b[0m\u001b[0;34m,\u001b[0m\u001b[0;36m71\u001b[0m\u001b[0;34m,\u001b[0m\u001b[0;36m20\u001b[0m\u001b[0;34m,\u001b[0m\u001b[0mnp\u001b[0m\u001b[0;34m.\u001b[0m\u001b[0mlinspace\u001b[0m\u001b[0;34m(\u001b[0m\u001b[0;36m10\u001b[0m\u001b[0;34m,\u001b[0m\u001b[0;36m25\u001b[0m\u001b[0;34m,\u001b[0m\u001b[0;36m200\u001b[0m\u001b[0;34m)\u001b[0m\u001b[0;34m,\u001b[0m\u001b[0menergyRange\u001b[0m\u001b[0;34m=\u001b[0m\u001b[0;34m[\u001b[0m\u001b[0;34m-\u001b[0m\u001b[0;36m50.e6\u001b[0m\u001b[0;34m,\u001b[0m\u001b[0;36m10.e6\u001b[0m\u001b[0;34m]\u001b[0m\u001b[0;34m)\u001b[0m\u001b[0;34m\u001b[0m\u001b[0;34m\u001b[0m\u001b[0m\n\u001b[1;32m      3\u001b[0m \u001b[0mcalculation\u001b[0m\u001b[0;34m.\u001b[0m\u001b[0mshowPlot\u001b[0m\u001b[0;34m(\u001b[0m\u001b[0;34m)\u001b[0m\u001b[0;34m\u001b[0m\u001b[0;34m\u001b[0m\u001b[0m\n",
            "\u001b[0;31mNameError\u001b[0m: name 'StarkMapResonances' is not defined"
          ]
        }
      ],
      "source": [
        "calculation = StarkMapResonances(Rubidium(),[66,0,0.5,0.5],Rubidium(),[64,0,0.5,0.5])\n",
        "calculation.findResonances(61,71,20,np.linspace(10,25,200),energyRange=[-50.e6,10.e6])\n",
        "calculation.showPlot()"
      ]
    },
    {
      "cell_type": "code",
      "execution_count": null,
      "metadata": {
        "id": "JszOZV4QvSAr"
      },
      "outputs": [],
      "source": [
        "calculation = StarkMapResonances(Rubidium(),[50,0,0.5,0.5],Rubidium(),[48,0,0.5,0.5])\n",
        "calculation.findResonances(43,55,20,np.linspace(0,100,200),energyRange=[-50.e6,10.e6])\n",
        "calculation.showPlot()"
      ]
    },
    {
      "cell_type": "markdown",
      "metadata": {
        "id": "qnUvIv6AvSAr"
      },
      "source": [
        "# General atomic properties"
      ]
    },
    {
      "cell_type": "markdown",
      "metadata": {
        "id": "V_jTF75DvSAr"
      },
      "source": [
        "For atomic vapours, we can calculate atomic density and average interatomic spacing."
      ]
    },
    {
      "cell_type": "code",
      "execution_count": null,
      "metadata": {
        "id": "8MJB67KXvSAr"
      },
      "outputs": [],
      "source": [
        "atom = Caesium()\n",
        "temperature = np.linspace(273.15+0,273.15+140,300)\n",
        "numberDensity = []\n",
        "interatomicSpacing = []\n",
        "for t in temperature:\n",
        "    numberDensity.append(atom.getNumberDensity(t)*1e-6) # 1e-6 factor converts result to 1/cm^3\n",
        "    interatomicSpacing.append(atom.getAverageInteratomicSpacing(t)*1e6) #1e6 for um\n",
        "\n",
        "# plotting results\n",
        "fig,ax = plt.subplots(1, 2,figsize=(9,3.5))\n",
        "ax[0].semilogy(temperature-273.15,numberDensity,\"b-\")\n",
        "ax[0].set_xlabel(\"Temperature ($^{\\circ}$C)\")\n",
        "ax[0].set_ylabel(\"Number density (cm$^{-3}$)\")\n",
        "ax[0].grid()\n",
        "\n",
        "ax[1].semilogy(temperature-273.15,interatomicSpacing,\"r-\")\n",
        "ax[1].set_xlabel(\"Temperature ($^{\\circ}$C)\")\n",
        "ax[1].set_ylabel(\"Average interatomic spacing ($\\mu$m)\")\n",
        "ax[1].set_ylim(0.1,10)\n",
        "plt.tight_layout()\n",
        "plt.show()\n"
      ]
    },
    {
      "cell_type": "markdown",
      "metadata": {
        "id": "d2i4nbkdvSAs"
      },
      "source": [
        "Quick comparison of vapour pressures for different alkali metals:"
      ]
    },
    {
      "cell_type": "code",
      "execution_count": null,
      "metadata": {
        "id": "Ol1q2X7mvSAs"
      },
      "outputs": [],
      "source": [
        "temperature = np.linspace(-5+273.15,210+273.15,100)\n",
        "atomList = [Lithium6(),Sodium(),Potassium(),Rubidium(),Caesium()]\n",
        "symbolList = [\"k-\",\"g-\",\"b-\",\"r-\",\"y-\"]\n",
        "numberDensity = []\n",
        "\n",
        "\n",
        "for i in xrange(len(atomList)):\n",
        "    nd = []\n",
        "    for t in temperature:\n",
        "        nd.append(atomList[i].getNumberDensity(t))\n",
        "    numberDensity.append(np.array(nd))\n",
        "\n",
        "fig = plt.figure(figsize=(7,4.5))\n",
        "ax = fig.add_subplot(1,1,1)\n",
        "\n",
        "for i in xrange(len(atomList)):\n",
        "    ax.semilogy(temperature-273.15,numberDensity[i]/1.e6,symbolList[i])\n",
        "\n",
        "ax.legend((\"Li\",\"Na\",\"K\",\"Rb\",\"Cs\"),loc=2)\n",
        "ax.set_ylabel(r\"Number density (cm$^{-3}$)\")\n",
        "ax.set_xlabel(\"Temperature (C)\")\n",
        "ax.set_xlim(0,200)\n",
        "ax.set_ylim(1e5,1e16)\n",
        "\n",
        "plt.tight_layout()\n",
        "plt.show()"
      ]
    },
    {
      "cell_type": "markdown",
      "metadata": {
        "collapsed": true,
        "id": "zfRirYYKvSB_"
      },
      "source": [
        "# Advanced Rydberg examples"
      ]
    },
    {
      "cell_type": "markdown",
      "metadata": {
        "collapsed": true,
        "id": "67HYV2x-vSB_"
      },
      "source": [
        "## Scalling of Rydberg blockade with principal quantum number"
      ]
    },
    {
      "cell_type": "code",
      "execution_count": null,
      "metadata": {
        "id": "hwDneYC-vSB_"
      },
      "outputs": [],
      "source": [
        "laserLinewidth = 0.003 # in GHz\n",
        "nList = np.arange(60,91)\n",
        "c6List = []\n",
        "blockadeRadiusList = []\n",
        "for n in nList:\n",
        "    calculation1 = PairStateInteractions(Rubidium(), n, 0, 0.5, n, 0, 0.5, 0.5, 0.5)\n",
        "    state = printStateString(n,0,0.5)+\" m_j= 1/2\"\n",
        "    c6 = calculation1.getC6perturbatively(0,0, 5, 35e9)\n",
        "    blockade = (abs(c6/laserLinewidth))**(1/6.)\n",
        "    print(\"C_6 [%s] = %.0f GHz (mu m)^6\\t%.1f mu m\" % (state,c6,blockade))\n",
        "    c6List.append(c6)\n",
        "    blockadeRadiusList.append(blockade)"
      ]
    },
    {
      "cell_type": "code",
      "execution_count": null,
      "metadata": {
        "id": "_UyVnaD8vSCA"
      },
      "outputs": [],
      "source": [
        "ax = plt.subplot(2,1,1)\n",
        "ax.plot(nList,blockadeRadiusList,\"b.\")\n",
        "ax.set_xlabel(r\"Principal quantum number, $n$\")\n",
        "ax.set_ylabel(r\"Blockade radius, $r_b$ ($\\mu$m)\")\n",
        "ax.set_title(r\"Scaling of blockade radius with $n$ for laser linewidth %.1f MHz\"% \\\n",
        "             (laserLinewidth*1.e3), fontsize=10)\n",
        "ax = plt.subplot(2,1,2)\n",
        "ax.semilogy(nList,abs(np.array(c6List)),\"r.\")\n",
        "ax.set_xlabel(r\"Principal quantum number, $n$\")\n",
        "ax.set_ylabel(r\"$C_6$ (GHz $\\mu$m$^6$)\")\n",
        "plt.tight_layout()\n",
        "plt.show()"
      ]
    },
    {
      "cell_type": "markdown",
      "metadata": {
        "id": "S5h_Y8iYvSCA"
      },
      "source": [
        "## Calculation of Le Roy radius\n",
        "Below charateristic distance $R_\\mathrm{LR}=2(\\langle r^2_1 \\rangle^{1/2}+\\langle r^2_2 \\rangle^{1/2})$ where $r_1$ and $r_2$ are electron coordinatese for the first and the second of the two interacting atoms, there is a significant overlap between the two electron wavefunctions, and calculations based on diagonalization of the pair-states become invalid. Below we calculate the Le Roy radius for pairs of Caesium $n$ $S_{1/2}$ atoms, indicating lower interatomic distance for which PairStateInteractions calculations are correct."
      ]
    },
    {
      "cell_type": "code",
      "execution_count": null,
      "metadata": {
        "id": "1GDDijoivSCA"
      },
      "outputs": [],
      "source": [
        "nrange = [7,17,27,37,47,57,67,77,87,97,107]\n",
        "leRoyRadius = []\n",
        "for n in nrange:\n",
        "    calc = PairStateInteractions(Caesium(), n, 0, 0.5, n, 0, 0.5, 0.5, -0.5)\n",
        "    leRoyRadius.append( calc.getLeRoyRadius() )\n"
      ]
    },
    {
      "cell_type": "code",
      "execution_count": null,
      "metadata": {
        "id": "rM6pobrwvSCA"
      },
      "outputs": [],
      "source": [
        "f = plt.figure()\n",
        "ax = f.add_subplot(1,1,1)\n",
        "ax.plot(nrange,leRoyRadius,\"bo\")\n",
        "ax.set_xlabel(r\"Principal quantum number $n$\")\n",
        "ax.set_ylabel(r\"Le Roy radius ($\\mu$m)\")\n",
        "ax.set_title(r\"Interaction of caesium $n$ $S_{1/2}$, $n$ $S_{1/2}$ states\")"
      ]
    },
    {
      "cell_type": "markdown",
      "metadata": {
        "id": "OoSB2r0JvSCA"
      },
      "source": [
        "## Off-resonant excitation\n",
        "\n",
        "If we are interested in pair-state energy levels at some fixed detuning for the non-interacting pair-state energy, we can look at plots like the ones shown in [Short range interactions](#Short-range-interactions). However, we can also directly look at, for example, 25 eigenstates that are closest to 1 GHz detuning from the non-interacting pair-state energy. For this we will set number of requested eigenvectors *nEig* to 25, and use optional parameter *eigenstateDetuning* = 1.e9 (detuning in GHz). We see below that we directly, and more faster, obtain levels at particular detuning (compare plot below with plot in [Short range interactions](#Short-range-interactions) )."
      ]
    },
    {
      "cell_type": "code",
      "execution_count": null,
      "metadata": {
        "id": "b7kbz4jdvSCA"
      },
      "outputs": [],
      "source": [
        "#Interaction Potential for 60S1/2\n",
        "#=================================\n",
        "n0=60;l0=0;j0=0.5;mj0=0.5; #Target State\n",
        "theta=0; #Polar Angle [0-2pi]\n",
        "phi=0; #Azimuthal Angle [0-pi]\n",
        "dn = 5; #Range of n to consider (n0-dn:n0+dn)\n",
        "dl = 5; #Range of l values\n",
        "deltaMax = 25e9 #Max pair-state energy difference [Hz]\n",
        "\n",
        "\n",
        "#Set target-state\n",
        "calc = PairStateInteractions(Rubidium(), n0,l0,j0,n0,l0,j0, mj0,mj0,interactionsUpTo = 1)\n",
        "rvdw = calc.getLeRoyRadius()\n",
        "print(\"LeRoy radius = %.1f mum\" % rvdw)\n",
        "#R array (um)\n",
        "r=np.append(np.linspace(rvdw,3,300),np.linspace(3.01,10.0,300))\n",
        "#Generate pair-state interaction Hamiltonian\n",
        "calc.defineBasis(theta,phi, dn,dl, deltaMax,progressOutput=True)\n",
        "#Diagonalise\n",
        "nEig=25 #Number of eigenstates to extract\n",
        "calc.diagonalise(r,nEig,progressOutput=True, eigenstateDetuning = 1.e9)\n",
        "#Plot\n",
        "calc.plotLevelDiagram()\n",
        "#Zoom-on on pair state\n",
        "calc.ax.set_xlim(1.0,10.0)\n",
        "calc.ax.set_ylim(-2,2)\n",
        "calc.showPlot()  # by default program will plot interactive plots\n",
        "# however plots are interactive only if open oin standard window\n",
        "# and not in the %inline mode of the notebooks\n"
      ]
    },
    {
      "cell_type": "markdown",
      "metadata": {
        "id": "cr7fKJ2xvSCA"
      },
      "source": [
        "We see that for $1~$GHz blue-detuned laser, there is facilitation sphere in excitation dynamics at inter-atomic distance of about 2.1-2.2$~\\mu$m."
      ]
    },
    {
      "cell_type": "markdown",
      "metadata": {
        "id": "TlJo9VjcvSCA"
      },
      "source": [
        "## Calculation of dipole matrix elements between states in static electric field\n",
        "\n",
        "As we have seen in [Stark map calculation section](#Rydberg-Atom-Stark-Shifts), eigen-states in the electric field are strongly admixed bare states. Here we provide a way of calculating dipole matrix elements between two states in electric field. Firstly, we will write calculation class, demonstrating how one can access and reconstruct directly Stark Hamiltonian from provided class variables. Then we will present an example of calculation of d.m.e. in electric field."
      ]
    },
    {
      "cell_type": "code",
      "execution_count": null,
      "metadata": {
        "collapsed": true,
        "id": "EBE1JbjcvSCA"
      },
      "outputs": [],
      "source": [
        "from scipy.sparse import csr_matrix\n",
        "\n",
        "class MatrixElementsEfield:\n",
        "\n",
        "    def __init__(self,StarkMap1,StarkMap2, progressOutput = False):\n",
        "        \"\"\"\n",
        "            calculates dipolar coupling between the two original target states\n",
        "            of the two Stark Maps\n",
        "\n",
        "            Note:\n",
        "                StarkMaps have to have **defined basis**\n",
        "                AND\n",
        "                StarkMaps have to be calculated **for the same atom**\n",
        "        \"\"\"\n",
        "        # save pointers to Stark maps for later\n",
        "        self.StarkMap1 = StarkMap1\n",
        "        self.StarkMap2 = StarkMap2\n",
        "\n",
        "        # construct and save CSV sparce matrix of couplings\n",
        "        matrixDMEcoupling = [[],[],[]]\n",
        "\n",
        "        for i in range(len(StarkMap1.basisStates)):\n",
        "            if progressOutput:\n",
        "                sys.stdout.write(\"\\r%d%%\" % (float(i)/float(len(StarkMap1.basisStates)-1)*100))\n",
        "                sys.stdout.flush()\n",
        "            for j in range(len(StarkMap2.basisStates)):\n",
        "                # if dipole coupled, add to coupling\n",
        "                dl = abs(StarkMap1.basisStates[i][1]-StarkMap2.basisStates[j][1])\n",
        "                dj = abs(StarkMap1.basisStates[i][2]-StarkMap2.basisStates[j][2])\n",
        "                if dl==1 and (dj<1.1):\n",
        "                    dme = StarkMap1.atom.getDipoleMatrixElement(\\\n",
        "                                          StarkMap1.basisStates[i][0],StarkMap1.basisStates[i][1],\\\n",
        "                                          StarkMap1.basisStates[i][2], StarkMap1.basisStates[i][3],\\\n",
        "                                          StarkMap2.basisStates[j][0], StarkMap2.basisStates[j][1],\\\n",
        "                                          StarkMap2.basisStates[j][2], StarkMap2.basisStates[j][3],\\\n",
        "                                          q)\n",
        "                    matrixDMEcoupling[0].append(dme)\n",
        "                    matrixDMEcoupling[1].append(i)\n",
        "                    matrixDMEcoupling[2].append(j)\n",
        "\n",
        "        self.matrixDMEcoupling = csr_matrix((matrixDMEcoupling[0], \\\n",
        "                                 (matrixDMEcoupling[1], matrixDMEcoupling[2])),\\\n",
        "                                shape=(len(StarkMap1.basisStates), len(StarkMap2.basisStates)) )\n",
        "\n",
        "\n",
        "    def getDipolarCoupling(self,eField):\n",
        "        \"\"\"\n",
        "            find dipolar coupling and transition frequency between target states\n",
        "\n",
        "            Target states are specified during the initialization procedure of the StarkMap1 and StarkMap2\n",
        "        \"\"\"\n",
        "\n",
        "        # find first state in electric field\n",
        "        m = self.StarkMap1.mat1 + self.StarkMap1.mat2 * eField\n",
        "        ev,egvector = eigh(m)\n",
        "\n",
        "        # locate which of the eigenvectors has biggest contribution of the orginal state\n",
        "        # and save that state composition\n",
        "        # NOTE: advanced users might want to change this close to avoided crossings\n",
        "        state1index = np.argmax( np.absolute( egvector[self.StarkMap1.indexOfCoupledState,:] ) )\n",
        "        state1composition = egvector[:,state1index]\n",
        "        energy1 = ev[state1index]\n",
        "\n",
        "        # find second state in electric field\n",
        "        m = self.StarkMap2.mat1 + self.StarkMap2.mat2 * eField\n",
        "        ev,egvector = eigh(m)\n",
        "\n",
        "        # locate which of the eigenvectors has biggest contribution of the orginal state, and save that state composition\n",
        "        state2index = np.argmax( np.absolute( egvector[self.StarkMap2.indexOfCoupledState,:] ) )\n",
        "        state2composition = egvector[:,state2index]\n",
        "        energy2 = ev[state2index]\n",
        "\n",
        "        # find coupling between the states\n",
        "\n",
        "        coupling = self.matrixDMEcoupling.dot(state2composition).dot(state1composition)\n",
        "\n",
        "        return abs(coupling),abs(energy1-energy2)\n"
      ]
    },
    {
      "cell_type": "markdown",
      "metadata": {
        "id": "2LcE7J4OvSCB"
      },
      "source": [
        "Now let's use above defined class to calculate coupling between caesium Rydberg states in electric field"
      ]
    },
    {
      "cell_type": "code",
      "execution_count": null,
      "metadata": {
        "id": "Z_UBNh3KvSCB"
      },
      "outputs": [],
      "source": [
        "# Stark map for the first state\n",
        "mj1 = 0.5\n",
        "mj2 = 0.5\n",
        "q = 0 # pi transistions\n",
        "\n",
        "atom = Caesium()\n",
        "\n",
        "deltaN = 5\n",
        "maxL = 20\n",
        "\n",
        "print(\"1:\")\n",
        "stMap1 = StarkMap(atom)\n",
        "stMap1.defineBasis(21,1,1.5, mj1,21-deltaN,21+deltaN,maxL,progressOutput = True)\n",
        "print(\"2:\")\n",
        "stMap2 = StarkMap(atom)\n",
        "stMap2.defineBasis(21,0,0.5, mj2,21-deltaN,21+deltaN+1,maxL,progressOutput = True)\n",
        "\n",
        "\n",
        "calc = MatrixElementsEfield(stMap1,stMap2, progressOutput = True)\n",
        "c,f = calc.getDipolarCoupling(500.e2)\n",
        "\n",
        "couplingList = []\n",
        "frequencyList = []\n",
        "eFieldList = np.linspace(0,500.e2,51)\n",
        "for eField in eFieldList:\n",
        "    c, f = calc.getDipolarCoupling(eField)\n",
        "    couplingList.append(c )\n",
        "    frequencyList.append(f)\n"
      ]
    },
    {
      "cell_type": "markdown",
      "metadata": {
        "id": "DgpP2o-fvSCB"
      },
      "source": [
        "And let's plot obtained couplings and frequencies over the range of electric fields"
      ]
    },
    {
      "cell_type": "code",
      "execution_count": null,
      "metadata": {
        "id": "4iQQWFouvSCB"
      },
      "outputs": [],
      "source": [
        "plt.plot(eFieldList/1e2,couplingList,\"o--\")\n",
        "plt.xlabel(\"Electric field (V/cm)\")\n",
        "plt.ylabel(r\"Coupling dipole matrix element ($a_0 e$)\")\n",
        "plt.show()\n",
        "\n",
        "plt.plot(eFieldList/1e2,np.array(frequencyList)/1.e3,\"o--\")\n",
        "plt.xlabel(\"Electric field (V/cm)\")\n",
        "plt.ylabel(r\"Frequency (THz)\")\n",
        "plt.show()"
      ]
    },
    {
      "cell_type": "markdown",
      "metadata": {
        "collapsed": true,
        "id": "OaZfRgK-vSCC"
      },
      "source": [
        "# Advanced use of ARC package: interfacing and expansions\n",
        "\n",
        "Here we describe way to further interface your calculation projects with ARC.\n",
        "\n",
        "## Saving and retrieving calculations\n",
        "\n",
        "If you want to save and load and continue calculation on another computer, or at later time, this is the option you are looking for. See documentation (and examples in documentation) about [saving calculations](http://arc-alkali-rydberg-calculator.readthedocs.io/en/latest/alkali_atom_functions.html#arc.alkali_atom_functions.saveCalculation) and [loading saved calculations](http://arc-alkali-rydberg-calculator.readthedocs.io/en/latest/alkali_atom_functions.html#arc.alkali_atom_functions.loadSavedCalculation).\n",
        "\n",
        "## Export of data in .csv\n",
        "\n",
        "If you want to export graph data for use in another non-Python program, this is the option you are looking for. See documentation about [exporting Stark map calculation data](http://arc-alkali-rydberg-calculator.readthedocs.io/en/latest/calculations_atoms_single.html#arc.calculations_atom_single.StarkMap.exportData) and about [exporting pair-state interactions data](http://arc-alkali-rydberg-calculator.readthedocs.io/en/latest/calculations_atom_pairstate.html#arc.calculations_atom_pairstate.PairStateInteractions.exportData). If, however, you want more detailed export of data (not just graph data), check the next option.\n",
        "\n",
        "## Using calculated matrices and basis states in your own projects\n",
        "\n",
        "If you want to access matrices used in calculation and corresponding basis states, to incorporate them in you Python program, or in order to make custom data outputs, this is the option you are looking for.\n",
        "\n",
        "For StarkMap calculations check documentation of [defineBasis](http://arc-alkali-rydberg-calculator.readthedocs.io/en/latest/calculations_atoms_single.html#arc.calculations_atom_single.StarkMap.defineBasis) and **Advanced interfacing of Stark map calculations (StarkMap class)** example in [StarkMap class initalization documentation](http://arc-alkali-rydberg-calculator.readthedocs.io/en/latest/calculations_atoms_single.html#arc.calculations_atom_single.StarkMap).\n",
        "\n",
        "For PairStateInteractions calculations check documentation of [defineBasis](http://arc-alkali-rydberg-calculator.readthedocs.io/en/latest/calculations_atom_pairstate.html#arc.calculations_atom_pairstate.PairStateInteractions.defineBasis) and **Advanced interfacing of pair-state interactions calculations (PairStateInteractions class)** example in [PairStateInteractions class initalization documentation](http://arc-alkali-rydberg-calculator.readthedocs.io/en/latest/calculations_atom_pairstate.html#arc.calculations_atom_pairstate.PairStateInteractions).\n",
        "\n",
        "Also check documentation about all the accessible variables from both classes and, if that is not enough, feel free do dig into the code! There are additional comments in the code that should help you with navigation there.\n",
        "\n",
        "An example of building up a calculation by directly accessing the Stark Hamiltonian is provided in [this advanced example](#Calculation-of-dipole-matrix-elements-between-states-in-static-electric-field) of matrix elements calculations for states in electric field."
      ]
    }
  ],
  "metadata": {
    "anaconda-cloud": {},
    "kernelspec": {
      "display_name": "Python [conda env:py35]",
      "language": "python",
      "name": "conda-env-py35-py"
    },
    "language_info": {
      "codemirror_mode": {
        "name": "ipython",
        "version": 3
      },
      "file_extension": ".py",
      "mimetype": "text/x-python",
      "name": "python",
      "nbconvert_exporter": "python",
      "pygments_lexer": "ipython3",
      "version": "3.5.2"
    },
    "nbpresent": {
      "slides": {
        "08f3ddbc-293d-45ba-b1cd-8e05fff6ed36": {
          "id": "08f3ddbc-293d-45ba-b1cd-8e05fff6ed36",
          "prev": "53d1ef95-32c4-4eb0-9b21-c42de1b77cee",
          "regions": {
            "2e207cae-5f9d-41dc-8c0f-06cf66df8cbf": {
              "attrs": {
                "height": 0.8,
                "width": 0.8,
                "x": 0.1,
                "y": 0.1
              },
              "content": {
                "cell": "3883d28d-03f0-4c06-a58b-7bad909d1c34",
                "part": "whole"
              },
              "id": "2e207cae-5f9d-41dc-8c0f-06cf66df8cbf"
            }
          }
        },
        "0cf10881-69f2-4d6d-bfdf-4d2ec3c86ce0": {
          "id": "0cf10881-69f2-4d6d-bfdf-4d2ec3c86ce0",
          "prev": "840d0eb6-3afd-4e43-9350-801fd23f1807",
          "regions": {
            "594daaf3-f5d0-4723-b36f-f2d2f92393f1": {
              "attrs": {
                "height": 0.8,
                "width": 0.8,
                "x": 0.1,
                "y": 0.1
              },
              "content": {
                "cell": "77ef944d-6eff-4967-a4b9-6c5a79a1ee41",
                "part": "whole"
              },
              "id": "594daaf3-f5d0-4723-b36f-f2d2f92393f1"
            }
          }
        },
        "1c83a5fd-62ce-4ebd-94fa-7e12f351dd27": {
          "id": "1c83a5fd-62ce-4ebd-94fa-7e12f351dd27",
          "prev": "2d3120be-2d28-41f2-8e53-b168ff8da3e0",
          "regions": {
            "35c91f26-540b-4414-bd08-cc2228c9f1a0": {
              "attrs": {
                "height": 1,
                "width": 1,
                "x": 0,
                "y": 0
              },
              "id": "35c91f26-540b-4414-bd08-cc2228c9f1a0"
            }
          }
        },
        "290a2c2d-d6e4-4064-ba60-2fa40bd5143c": {
          "id": "290a2c2d-d6e4-4064-ba60-2fa40bd5143c",
          "prev": "d02b4f15-7d6e-4c7e-93b8-6270c53b23df",
          "regions": {
            "fdc1cbf0-1c7b-4d8c-9d52-1613cf6103c7": {
              "attrs": {
                "height": 0.8,
                "width": 0.8,
                "x": 0.1,
                "y": 0.1
              },
              "content": {
                "cell": "3def8c65-56d0-4816-b955-331e0c5dca00",
                "part": "whole"
              },
              "id": "fdc1cbf0-1c7b-4d8c-9d52-1613cf6103c7"
            }
          }
        },
        "2d3120be-2d28-41f2-8e53-b168ff8da3e0": {
          "id": "2d3120be-2d28-41f2-8e53-b168ff8da3e0",
          "prev": "84ecd2e3-1a42-4ba8-aa19-47a893ae21dd",
          "regions": {
            "5a984b25-0d4d-4fff-81ba-505a228795c4": {
              "attrs": {
                "height": 0.8,
                "width": 0.8,
                "x": 0.1,
                "y": 0.1
              },
              "content": {
                "cell": "cb2fd144-e59d-48e5-bfea-a5d5e6dbfd42",
                "part": "whole"
              },
              "id": "5a984b25-0d4d-4fff-81ba-505a228795c4"
            }
          }
        },
        "32307c0d-9587-4cb8-8822-b5eeba422040": {
          "id": "32307c0d-9587-4cb8-8822-b5eeba422040",
          "prev": "8b3d1d6f-c90d-4268-9c54-eadfd4f458c3",
          "regions": {
            "64c21e10-5872-4fea-bb53-1350cb18c69b": {
              "attrs": {
                "height": 0.8,
                "width": 0.8,
                "x": 0.1,
                "y": 0.1
              },
              "content": {
                "cell": "bc647040-f2d4-4dea-8d0e-e4adef32f7ec",
                "part": "whole"
              },
              "id": "64c21e10-5872-4fea-bb53-1350cb18c69b"
            }
          }
        },
        "44481ae5-799d-4f2e-8a9a-d9bd19ff755c": {
          "id": "44481ae5-799d-4f2e-8a9a-d9bd19ff755c",
          "prev": "8c9b43b4-5147-4e53-ae00-a87c16b0e10f",
          "regions": {
            "c721c365-a311-4d8b-bb8c-4d0738736ba7": {
              "attrs": {
                "height": 0.8,
                "width": 0.8,
                "x": 0.1,
                "y": 0.1
              },
              "content": {
                "cell": "0b9624c4-859f-476a-93d3-5216c2409f4e",
                "part": "whole"
              },
              "id": "c721c365-a311-4d8b-bb8c-4d0738736ba7"
            }
          }
        },
        "45aec6bd-bc22-4b4c-8093-d7877b9494fe": {
          "id": "45aec6bd-bc22-4b4c-8093-d7877b9494fe",
          "prev": "290a2c2d-d6e4-4064-ba60-2fa40bd5143c",
          "regions": {
            "6b666808-9a12-4885-ab22-37ca5f60bf7b": {
              "attrs": {
                "height": 0.8,
                "width": 0.8,
                "x": 0.1,
                "y": 0.1
              },
              "content": {
                "cell": "ec13bcce-8185-4702-a56f-2c50f8eebb8b",
                "part": "whole"
              },
              "id": "6b666808-9a12-4885-ab22-37ca5f60bf7b"
            }
          }
        },
        "527ea654-9470-4253-b907-f6440a6ffb93": {
          "id": "527ea654-9470-4253-b907-f6440a6ffb93",
          "prev": "cde170ea-9a1c-4b3b-9657-b4fc4e7191d8",
          "regions": {
            "ea50fe04-a910-4882-b5c6-0945ad88c842": {
              "attrs": {
                "height": 0.8,
                "width": 0.8,
                "x": 0.1,
                "y": 0.1
              },
              "content": {
                "cell": "fb03370e-bcbc-4b59-8a95-659e8df5d31c",
                "part": "whole"
              },
              "id": "ea50fe04-a910-4882-b5c6-0945ad88c842"
            }
          }
        },
        "53d1ef95-32c4-4eb0-9b21-c42de1b77cee": {
          "id": "53d1ef95-32c4-4eb0-9b21-c42de1b77cee",
          "prev": "6fb67eb3-dcd2-4c5d-bc4a-992d70511433",
          "regions": {
            "abb06c80-2a51-415e-8884-627e5d0ac0cc": {
              "attrs": {
                "height": 0.8,
                "width": 0.8,
                "x": 0.1,
                "y": 0.1
              },
              "content": {
                "cell": "4be46058-843e-401d-8897-311032566919",
                "part": "whole"
              },
              "id": "abb06c80-2a51-415e-8884-627e5d0ac0cc"
            }
          }
        },
        "55bac83b-4cfc-42c3-8e94-223b32e2e9e5": {
          "id": "55bac83b-4cfc-42c3-8e94-223b32e2e9e5",
          "prev": "c880101e-328f-45a8-9cd7-f6f21b8dcf64",
          "regions": {
            "0b7e374b-30c5-473f-9adc-72fa8ccbb470": {
              "attrs": {
                "height": 0.3296394019349165,
                "width": 0.33403693931398415,
                "x": 0.04591029023746703,
                "y": 0.0906185869246555
              },
              "content": {
                "cell": "f2c7610c-f9b0-4989-9307-83f8907acf57",
                "part": "whole"
              },
              "id": "0b7e374b-30c5-473f-9adc-72fa8ccbb470"
            },
            "2c91e9fc-7ccf-45be-ab75-45c7dcfd38b5": {
              "attrs": {
                "height": 0.36481970096745825,
                "width": 0.3300791556728232,
                "x": 0.0432717678100264,
                "y": 0.5140721196130167
              },
              "content": {
                "cell": "6f00499f-b2fc-4eaf-a649-39e93263c0d5",
                "part": "whole"
              },
              "id": "2c91e9fc-7ccf-45be-ab75-45c7dcfd38b5"
            },
            "65078240-0fd4-455f-b93f-9545845d1f43": {
              "attrs": {
                "height": 0.3343301084725887,
                "width": 0.5068601583113457,
                "x": 0.39313984168865435,
                "y": 0.1
              },
              "content": {
                "cell": "36e7fe38-a2ad-4204-9bef-17ecdd3cbbe4",
                "part": "whole"
              },
              "id": "65078240-0fd4-455f-b93f-9545845d1f43"
            },
            "efa6e997-740a-41c9-b4bd-053029e2da2f": {
              "attrs": {
                "height": 0.36481970096745825,
                "width": 0.5042216358839051,
                "x": 0.39577836411609496,
                "y": 0.5304895924948695
              },
              "content": {
                "cell": "4772a6a4-bc28-42ec-8a90-7ab42bf41dd4",
                "part": "whole"
              },
              "id": "efa6e997-740a-41c9-b4bd-053029e2da2f"
            }
          }
        },
        "6fb67eb3-dcd2-4c5d-bc4a-992d70511433": {
          "id": "6fb67eb3-dcd2-4c5d-bc4a-992d70511433",
          "prev": "b4b05496-6703-40f7-8689-9d0e889333ef",
          "regions": {
            "97163c88-2c70-44ea-a6ba-d81e48fe0845": {
              "attrs": {
                "height": 0.8,
                "width": 0.8,
                "x": 0.1,
                "y": 0.1
              },
              "content": {
                "cell": "5c133a4a-d58e-441f-b3a0-99198670c1b3",
                "part": "whole"
              },
              "id": "97163c88-2c70-44ea-a6ba-d81e48fe0845"
            }
          }
        },
        "7a3abc92-618c-4bdf-8d6a-020ed7aa760a": {
          "id": "7a3abc92-618c-4bdf-8d6a-020ed7aa760a",
          "prev": "88734387-b043-4075-9425-95c395b8db49",
          "regions": {
            "7699feb7-5f9e-4bc1-8d99-a74089f0e80d": {
              "attrs": {
                "height": 0.8,
                "width": 0.8,
                "x": 0.1,
                "y": 0.1
              },
              "content": {
                "cell": "c4408c93-5673-4739-9265-9b024eab857b",
                "part": "whole"
              },
              "id": "7699feb7-5f9e-4bc1-8d99-a74089f0e80d"
            }
          }
        },
        "7bda9e4b-174b-4e04-8e8d-33f1dd9d5726": {
          "id": "7bda9e4b-174b-4e04-8e8d-33f1dd9d5726",
          "prev": "44481ae5-799d-4f2e-8a9a-d9bd19ff755c",
          "regions": {
            "b7854807-16a6-4f39-b8c8-b5b5ee530fc7": {
              "attrs": {
                "height": 0.8,
                "width": 0.8,
                "x": 0.1,
                "y": 0.1
              },
              "content": {
                "cell": "e58eabf2-7ab8-4fc7-a68b-eb9df66d6c88",
                "part": "whole"
              },
              "id": "b7854807-16a6-4f39-b8c8-b5b5ee530fc7"
            }
          }
        },
        "7ead7e7e-bf04-4a2b-a7d7-97dcaef1d5fb": {
          "id": "7ead7e7e-bf04-4a2b-a7d7-97dcaef1d5fb",
          "prev": "f2f309e7-2615-434e-8901-cd533abadd5d",
          "regions": {
            "5687a715-5838-4d4c-9582-3bac70a236ad": {
              "attrs": {
                "height": 0.8,
                "width": 0.8,
                "x": 0.1,
                "y": 0.1
              },
              "content": {
                "cell": "31d0155e-516a-4f26-a7f4-2ce8ecb6699b",
                "part": "whole"
              },
              "id": "5687a715-5838-4d4c-9582-3bac70a236ad"
            }
          }
        },
        "840d0eb6-3afd-4e43-9350-801fd23f1807": {
          "id": "840d0eb6-3afd-4e43-9350-801fd23f1807",
          "prev": "7bda9e4b-174b-4e04-8e8d-33f1dd9d5726",
          "regions": {
            "3b26005f-564a-41b9-b053-5096a5cdf0fd": {
              "attrs": {
                "height": 0.8,
                "width": 0.8,
                "x": 0.1,
                "y": 0.1
              },
              "content": {
                "cell": "04ca36b7-4020-4828-bb95-2d5962decc84",
                "part": "whole"
              },
              "id": "3b26005f-564a-41b9-b053-5096a5cdf0fd"
            }
          }
        },
        "84ecd2e3-1a42-4ba8-aa19-47a893ae21dd": {
          "id": "84ecd2e3-1a42-4ba8-aa19-47a893ae21dd",
          "prev": "7a3abc92-618c-4bdf-8d6a-020ed7aa760a",
          "regions": {
            "ce92e872-40d9-492a-9ecb-afb5e96d5aaf": {
              "attrs": {
                "height": 0.8,
                "width": 0.8,
                "x": 0.1,
                "y": 0.1
              },
              "content": {
                "cell": "13b6df79-5319-43f7-8a78-65eff9242303",
                "part": "whole"
              },
              "id": "ce92e872-40d9-492a-9ecb-afb5e96d5aaf"
            }
          }
        },
        "88734387-b043-4075-9425-95c395b8db49": {
          "id": "88734387-b043-4075-9425-95c395b8db49",
          "prev": "32307c0d-9587-4cb8-8822-b5eeba422040",
          "regions": {
            "35b778cc-9a08-4b2b-83cc-2b2410c3dbc5": {
              "attrs": {
                "height": 0.8,
                "width": 0.8,
                "x": 0.1,
                "y": 0.1
              },
              "content": {
                "cell": "05037c26-3934-4950-9003-51248cf482a4",
                "part": "whole"
              },
              "id": "35b778cc-9a08-4b2b-83cc-2b2410c3dbc5"
            }
          }
        },
        "8b3d1d6f-c90d-4268-9c54-eadfd4f458c3": {
          "id": "8b3d1d6f-c90d-4268-9c54-eadfd4f458c3",
          "prev": "a3adc74a-c182-4b56-bf32-7951ef8fab8d",
          "regions": {
            "8896fd0f-83c6-4730-a83a-3e00b38dd88e": {
              "attrs": {
                "height": 0.8,
                "width": 0.8,
                "x": 0.1,
                "y": 0.1
              },
              "content": {
                "cell": "8913f133-a899-4d7a-aed7-4f9c84411ee8",
                "part": "whole"
              },
              "id": "8896fd0f-83c6-4730-a83a-3e00b38dd88e"
            }
          }
        },
        "8c9b43b4-5147-4e53-ae00-a87c16b0e10f": {
          "id": "8c9b43b4-5147-4e53-ae00-a87c16b0e10f",
          "prev": "45aec6bd-bc22-4b4c-8093-d7877b9494fe",
          "regions": {
            "fa80ab38-8786-4847-8f14-1506af132e7f": {
              "attrs": {
                "height": 0.8,
                "width": 0.8,
                "x": 0.1,
                "y": 0.1
              },
              "content": {
                "cell": "67c9d1c1-7ab5-4bc7-a6b8-b02742e62254",
                "part": "whole"
              },
              "id": "fa80ab38-8786-4847-8f14-1506af132e7f"
            }
          }
        },
        "a3adc74a-c182-4b56-bf32-7951ef8fab8d": {
          "id": "a3adc74a-c182-4b56-bf32-7951ef8fab8d",
          "prev": "08f3ddbc-293d-45ba-b1cd-8e05fff6ed36",
          "regions": {
            "185e81c0-1939-4ef2-84b7-78518e0b654e": {
              "attrs": {
                "height": 0.8,
                "width": 0.8,
                "x": 0.1,
                "y": 0.1
              },
              "content": {
                "cell": "58341fe8-7b5e-4888-af38-d1743a1b4353",
                "part": "whole"
              },
              "id": "185e81c0-1939-4ef2-84b7-78518e0b654e"
            }
          }
        },
        "b4b05496-6703-40f7-8689-9d0e889333ef": {
          "id": "b4b05496-6703-40f7-8689-9d0e889333ef",
          "prev": "7ead7e7e-bf04-4a2b-a7d7-97dcaef1d5fb",
          "regions": {
            "f7f32d4b-ac65-49cd-892d-b78960c66918": {
              "attrs": {
                "height": 0.8,
                "width": 0.8,
                "x": 0.1,
                "y": 0.1
              },
              "content": {
                "cell": "0270e547-49b9-41bd-8a53-c2af0340788e",
                "part": "whole"
              },
              "id": "f7f32d4b-ac65-49cd-892d-b78960c66918"
            }
          }
        },
        "ba33f861-b7f7-4236-a5d0-555b289eeeae": {
          "id": "ba33f861-b7f7-4236-a5d0-555b289eeeae",
          "prev": "1c83a5fd-62ce-4ebd-94fa-7e12f351dd27",
          "regions": {
            "5430d54a-c92c-4cca-a4b9-0caaed738875": {
              "attrs": {
                "height": 0.8,
                "width": 0.8,
                "x": 0.1,
                "y": 0.1
              },
              "content": {
                "cell": "5b25b7e6-ff48-4c3f-a615-f68e70b7a5db",
                "part": "whole"
              },
              "id": "5430d54a-c92c-4cca-a4b9-0caaed738875"
            }
          }
        },
        "c880101e-328f-45a8-9cd7-f6f21b8dcf64": {
          "id": "c880101e-328f-45a8-9cd7-f6f21b8dcf64",
          "prev": null,
          "regions": {
            "e479c569-1420-4a58-99c0-20bf1b574f2b": {
              "attrs": {
                "height": 0.8,
                "width": 0.8,
                "x": 0.1,
                "y": 0.1
              },
              "content": {
                "cell": "8a7447ef-64dc-4e8b-ae5c-b563b2bc2faf",
                "part": "source"
              },
              "id": "e479c569-1420-4a58-99c0-20bf1b574f2b"
            }
          }
        },
        "ca0b3728-ae13-449f-87f2-4a998b68c90a": {
          "id": "ca0b3728-ae13-449f-87f2-4a998b68c90a",
          "prev": "ba33f861-b7f7-4236-a5d0-555b289eeeae",
          "regions": {
            "8f91fc19-2f90-4446-9df8-a5ff2779dcf8": {
              "attrs": {
                "height": 0.8,
                "width": 0.8,
                "x": 0.1,
                "y": 0.1
              },
              "content": {
                "cell": "d08ca7ca-3347-408a-afd0-5e8b1c414250",
                "part": "whole"
              },
              "id": "8f91fc19-2f90-4446-9df8-a5ff2779dcf8"
            }
          }
        },
        "cde170ea-9a1c-4b3b-9657-b4fc4e7191d8": {
          "id": "cde170ea-9a1c-4b3b-9657-b4fc4e7191d8",
          "prev": "ef109871-5d8a-4c88-96c2-3154d969c23b",
          "regions": {
            "34468221-072d-4f7c-a59b-b8ead14a7094": {
              "attrs": {
                "height": 0.8,
                "width": 0.8,
                "x": 0.1,
                "y": 0.1
              },
              "content": {
                "cell": "13f3063f-6f53-4d2b-bc1e-43f4be5e1eeb",
                "part": "whole"
              },
              "id": "34468221-072d-4f7c-a59b-b8ead14a7094"
            }
          }
        },
        "d02b4f15-7d6e-4c7e-93b8-6270c53b23df": {
          "id": "d02b4f15-7d6e-4c7e-93b8-6270c53b23df",
          "prev": "527ea654-9470-4253-b907-f6440a6ffb93",
          "regions": {
            "5192188d-c1f3-485c-b26b-f785241ff818": {
              "attrs": {
                "height": 0.8,
                "width": 0.8,
                "x": 0.1,
                "y": 0.1
              },
              "content": {
                "cell": "5d243094-1317-44ef-8e7b-bf4cdd2673f4",
                "part": "whole"
              },
              "id": "5192188d-c1f3-485c-b26b-f785241ff818"
            }
          }
        },
        "e3c8897b-7a8a-494c-a630-061d47760601": {
          "id": "e3c8897b-7a8a-494c-a630-061d47760601",
          "prev": "ca0b3728-ae13-449f-87f2-4a998b68c90a",
          "regions": {
            "20307749-4f78-4096-a211-111d33a19f76": {
              "attrs": {
                "height": 0.8,
                "width": 0.8,
                "x": 0.1,
                "y": 0.1
              },
              "content": {
                "cell": "bd5c5868-06be-4826-a531-461e3688ecbf",
                "part": "whole"
              },
              "id": "20307749-4f78-4096-a211-111d33a19f76"
            }
          }
        },
        "ef109871-5d8a-4c88-96c2-3154d969c23b": {
          "id": "ef109871-5d8a-4c88-96c2-3154d969c23b",
          "layout": "grid",
          "prev": "55bac83b-4cfc-42c3-8e94-223b32e2e9e5",
          "regions": {}
        },
        "f2f309e7-2615-434e-8901-cd533abadd5d": {
          "id": "f2f309e7-2615-434e-8901-cd533abadd5d",
          "prev": "0cf10881-69f2-4d6d-bfdf-4d2ec3c86ce0",
          "regions": {
            "0010a397-4a75-46cb-b68a-7355a015d09e": {
              "attrs": {
                "height": 0.8,
                "width": 0.8,
                "x": 0.1,
                "y": 0.1
              },
              "content": {
                "cell": "d5cf6da0-cfac-4c5a-974d-ba087c3ff29f",
                "part": "whole"
              },
              "id": "0010a397-4a75-46cb-b68a-7355a015d09e"
            }
          }
        }
      },
      "themes": {
        "default": "26a1d427-68c2-4b80-ac7f-dc63f5344d14",
        "theme": {
          "26a1d427-68c2-4b80-ac7f-dc63f5344d14": {
            "id": "26a1d427-68c2-4b80-ac7f-dc63f5344d14",
            "palette": {
              "19cc588f-0593-49c9-9f4b-e4d7cc113b1c": {
                "id": "19cc588f-0593-49c9-9f4b-e4d7cc113b1c",
                "rgb": [
                  252,
                  252,
                  252
                ]
              },
              "31af15d2-7e15-44c5-ab5e-e04b16a89eff": {
                "id": "31af15d2-7e15-44c5-ab5e-e04b16a89eff",
                "rgb": [
                  68,
                  68,
                  68
                ]
              },
              "50f92c45-a630-455b-aec3-788680ec7410": {
                "id": "50f92c45-a630-455b-aec3-788680ec7410",
                "rgb": [
                  155,
                  177,
                  192
                ]
              },
              "c5cc3653-2ee1-402a-aba2-7caae1da4f6c": {
                "id": "c5cc3653-2ee1-402a-aba2-7caae1da4f6c",
                "rgb": [
                  43,
                  126,
                  184
                ]
              },
              "efa7f048-9acb-414c-8b04-a26811511a21": {
                "id": "efa7f048-9acb-414c-8b04-a26811511a21",
                "rgb": [
                  25.118061674008803,
                  73.60176211453744,
                  107.4819383259912
                ]
              }
            },
            "rules": {
              "blockquote": {
                "color": "50f92c45-a630-455b-aec3-788680ec7410"
              },
              "code": {
                "font-family": "Anonymous Pro"
              },
              "h1": {
                "color": "c5cc3653-2ee1-402a-aba2-7caae1da4f6c",
                "font-family": "Lato",
                "font-size": 8
              },
              "h2": {
                "color": "c5cc3653-2ee1-402a-aba2-7caae1da4f6c",
                "font-family": "Lato",
                "font-size": 6
              },
              "h3": {
                "color": "50f92c45-a630-455b-aec3-788680ec7410",
                "font-family": "Lato",
                "font-size": 5.5
              },
              "h4": {
                "color": "c5cc3653-2ee1-402a-aba2-7caae1da4f6c",
                "font-family": "Lato",
                "font-size": 5
              },
              "h5": {
                "font-family": "Lato"
              },
              "h6": {
                "font-family": "Lato"
              },
              "h7": {
                "font-family": "Lato"
              },
              "pre": {
                "font-family": "Anonymous Pro",
                "font-size": 4
              }
            },
            "text-base": {
              "font-family": "Merriweather",
              "font-size": 4
            }
          }
        }
      }
    },
    "colab": {
      "provenance": [],
      "include_colab_link": true
    }
  },
  "nbformat": 4,
  "nbformat_minor": 0
}