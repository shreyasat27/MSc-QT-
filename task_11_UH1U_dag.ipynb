{
  "nbformat": 4,
  "nbformat_minor": 0,
  "metadata": {
    "colab": {
      "provenance": [],
      "authorship_tag": "ABX9TyNkZoBYzSn+wZ2VGQD3Rp4j",
      "include_colab_link": true
    },
    "kernelspec": {
      "name": "python3",
      "display_name": "Python 3"
    },
    "language_info": {
      "name": "python"
    }
  },
  "cells": [
    {
      "cell_type": "markdown",
      "metadata": {
        "id": "view-in-github",
        "colab_type": "text"
      },
      "source": [
        "<a href=\"https://colab.research.google.com/github/shreyasat27/MSc-QT-/blob/main/task_11_UH1U_dag.ipynb\" target=\"_parent\"><img src=\"https://colab.research.google.com/assets/colab-badge.svg\" alt=\"Open In Colab\"/></a>"
      ]
    },
    {
      "cell_type": "code",
      "source": [
        "import sympy as sp\n",
        "\n",
        "# Define symbolic variables\n",
        "a, adag, g_a, g_b = sp.symbols('a adag g_a g_b', commutative=False)\n",
        "phi_p, phi_m = sp.symbols('phi_p phi_m', real=True)\n",
        "\n",
        "# Define trigonometric terms\n",
        "cp = sp.cos(phi_p/2)\n",
        "sp_ = sp.sin(phi_p/2)\n",
        "cm = sp.cos(phi_m/2)\n",
        "sm = sp.sin(phi_m/2)\n",
        "\n",
        "# Define R matrix (spin rotation)\n",
        "R = sp.Matrix([\n",
        "    [cp,    0,     0,    sp_],\n",
        "    [0,    cm,    sm,     0],\n",
        "    [0,   -sm,    cm,     0],\n",
        "    [-sp_, 0,     0,     cp]\n",
        "])\n",
        "\n",
        "# Define spin operators (in photon × spin basis)\n",
        "sigma_plus = sp.Matrix([[0,1,0,0],[0,0,0,0],[0,0,0,1],[0,0,0,0]])\n",
        "sigma_minus = sigma_plus.H\n",
        "tau_plus = sp.Matrix([[0,0,1,0],[0,0,0,1],[0,0,0,0],[0,0,0,0]])\n",
        "tau_minus = tau_plus.H\n",
        "tau_z = sp.diag(1,1,-1,-1)\n",
        "\n",
        "# Define H1\n",
        "H1 = g_a * tau_z * (sigma_plus * a + sigma_minus * adag) + g_b * (tau_plus * a + tau_minus * adag)\n",
        "\n",
        "# Compute R H1 R†\n",
        "H_rotated = R * H1 * R.H\n",
        "H_rotated"
      ],
      "metadata": {
        "colab": {
          "base_uri": "https://localhost:8080/",
          "height": 159
        },
        "id": "NwVNOmXZlpCv",
        "outputId": "423c43fc-a91d-4b9b-a45f-00d0d8cda399"
      },
      "execution_count": 15,
      "outputs": [
        {
          "output_type": "execute_result",
          "data": {
            "text/plain": [
              "Matrix([\n",
              "[                                                                                                                      0,  sin(phi_m/2)*(-sin(phi_p/2)*g_a*adag + cos(phi_p/2)*g_b*a) + cos(phi_m/2)*(sin(phi_p/2)*g_b*adag + cos(phi_p/2)*g_a*a),  -sin(phi_m/2)*(sin(phi_p/2)*g_b*adag + cos(phi_p/2)*g_a*a) + cos(phi_m/2)*(-sin(phi_p/2)*g_a*adag + cos(phi_p/2)*g_b*a),                                                                                                                        0],\n",
              "[ sin(phi_p/2)*(-sin(phi_m/2)*g_a*a + cos(phi_m/2)*g_b*a) + cos(phi_p/2)*(sin(phi_m/2)*g_b*adag + cos(phi_m/2)*g_a*adag),                                                                                                                       0,                                                                                                                        0,  -sin(phi_p/2)*(sin(phi_m/2)*g_b*adag + cos(phi_m/2)*g_a*adag) + cos(phi_p/2)*(-sin(phi_m/2)*g_a*a + cos(phi_m/2)*g_b*a)],\n",
              "[sin(phi_p/2)*(-sin(phi_m/2)*g_b*a - cos(phi_m/2)*g_a*a) + cos(phi_p/2)*(-sin(phi_m/2)*g_a*adag + cos(phi_m/2)*g_b*adag),                                                                                                                       0,                                                                                                                        0, -sin(phi_p/2)*(-sin(phi_m/2)*g_a*adag + cos(phi_m/2)*g_b*adag) + cos(phi_p/2)*(-sin(phi_m/2)*g_b*a - cos(phi_m/2)*g_a*a)],\n",
              "[                                                                                                                      0, sin(phi_m/2)*(-sin(phi_p/2)*g_b*a - cos(phi_p/2)*g_a*adag) + cos(phi_m/2)*(-sin(phi_p/2)*g_a*a + cos(phi_p/2)*g_b*adag), -sin(phi_m/2)*(-sin(phi_p/2)*g_a*a + cos(phi_p/2)*g_b*adag) + cos(phi_m/2)*(-sin(phi_p/2)*g_b*a - cos(phi_p/2)*g_a*adag),                                                                                                                        0]])"
            ],
            "text/latex": "$\\displaystyle \\left[\\begin{matrix}0 & \\sin{\\left(\\frac{\\phi_{m}}{2} \\right)} \\left(- \\sin{\\left(\\frac{\\phi_{p}}{2} \\right)} g_{a} adag + \\cos{\\left(\\frac{\\phi_{p}}{2} \\right)} g_{b} a\\right) + \\cos{\\left(\\frac{\\phi_{m}}{2} \\right)} \\left(\\sin{\\left(\\frac{\\phi_{p}}{2} \\right)} g_{b} adag + \\cos{\\left(\\frac{\\phi_{p}}{2} \\right)} g_{a} a\\right) & - \\sin{\\left(\\frac{\\phi_{m}}{2} \\right)} \\left(\\sin{\\left(\\frac{\\phi_{p}}{2} \\right)} g_{b} adag + \\cos{\\left(\\frac{\\phi_{p}}{2} \\right)} g_{a} a\\right) + \\cos{\\left(\\frac{\\phi_{m}}{2} \\right)} \\left(- \\sin{\\left(\\frac{\\phi_{p}}{2} \\right)} g_{a} adag + \\cos{\\left(\\frac{\\phi_{p}}{2} \\right)} g_{b} a\\right) & 0\\\\\\sin{\\left(\\frac{\\phi_{p}}{2} \\right)} \\left(- \\sin{\\left(\\frac{\\phi_{m}}{2} \\right)} g_{a} a + \\cos{\\left(\\frac{\\phi_{m}}{2} \\right)} g_{b} a\\right) + \\cos{\\left(\\frac{\\phi_{p}}{2} \\right)} \\left(\\sin{\\left(\\frac{\\phi_{m}}{2} \\right)} g_{b} adag + \\cos{\\left(\\frac{\\phi_{m}}{2} \\right)} g_{a} adag\\right) & 0 & 0 & - \\sin{\\left(\\frac{\\phi_{p}}{2} \\right)} \\left(\\sin{\\left(\\frac{\\phi_{m}}{2} \\right)} g_{b} adag + \\cos{\\left(\\frac{\\phi_{m}}{2} \\right)} g_{a} adag\\right) + \\cos{\\left(\\frac{\\phi_{p}}{2} \\right)} \\left(- \\sin{\\left(\\frac{\\phi_{m}}{2} \\right)} g_{a} a + \\cos{\\left(\\frac{\\phi_{m}}{2} \\right)} g_{b} a\\right)\\\\\\sin{\\left(\\frac{\\phi_{p}}{2} \\right)} \\left(- \\sin{\\left(\\frac{\\phi_{m}}{2} \\right)} g_{b} a - \\cos{\\left(\\frac{\\phi_{m}}{2} \\right)} g_{a} a\\right) + \\cos{\\left(\\frac{\\phi_{p}}{2} \\right)} \\left(- \\sin{\\left(\\frac{\\phi_{m}}{2} \\right)} g_{a} adag + \\cos{\\left(\\frac{\\phi_{m}}{2} \\right)} g_{b} adag\\right) & 0 & 0 & - \\sin{\\left(\\frac{\\phi_{p}}{2} \\right)} \\left(- \\sin{\\left(\\frac{\\phi_{m}}{2} \\right)} g_{a} adag + \\cos{\\left(\\frac{\\phi_{m}}{2} \\right)} g_{b} adag\\right) + \\cos{\\left(\\frac{\\phi_{p}}{2} \\right)} \\left(- \\sin{\\left(\\frac{\\phi_{m}}{2} \\right)} g_{b} a - \\cos{\\left(\\frac{\\phi_{m}}{2} \\right)} g_{a} a\\right)\\\\0 & \\sin{\\left(\\frac{\\phi_{m}}{2} \\right)} \\left(- \\sin{\\left(\\frac{\\phi_{p}}{2} \\right)} g_{b} a - \\cos{\\left(\\frac{\\phi_{p}}{2} \\right)} g_{a} adag\\right) + \\cos{\\left(\\frac{\\phi_{m}}{2} \\right)} \\left(- \\sin{\\left(\\frac{\\phi_{p}}{2} \\right)} g_{a} a + \\cos{\\left(\\frac{\\phi_{p}}{2} \\right)} g_{b} adag\\right) & - \\sin{\\left(\\frac{\\phi_{m}}{2} \\right)} \\left(- \\sin{\\left(\\frac{\\phi_{p}}{2} \\right)} g_{a} a + \\cos{\\left(\\frac{\\phi_{p}}{2} \\right)} g_{b} adag\\right) + \\cos{\\left(\\frac{\\phi_{m}}{2} \\right)} \\left(- \\sin{\\left(\\frac{\\phi_{p}}{2} \\right)} g_{b} a - \\cos{\\left(\\frac{\\phi_{p}}{2} \\right)} g_{a} adag\\right) & 0\\end{matrix}\\right]$"
          },
          "metadata": {},
          "execution_count": 15
        }
      ]
    }
  ]
}