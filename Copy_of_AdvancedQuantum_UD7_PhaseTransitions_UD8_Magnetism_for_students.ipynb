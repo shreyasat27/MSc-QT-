{
  "nbformat": 4,
  "nbformat_minor": 0,
  "metadata": {
    "colab": {
      "provenance": [],
      "include_colab_link": true
    },
    "kernelspec": {
      "name": "python3",
      "display_name": "Python 3"
    },
    "language_info": {
      "name": "python"
    }
  },
  "cells": [
    {
      "cell_type": "markdown",
      "metadata": {
        "id": "view-in-github",
        "colab_type": "text"
      },
      "source": [
        "<a href=\"https://colab.research.google.com/github/shreyasat27/MSc-QT-/blob/main/Copy_of_AdvancedQuantum_UD7_PhaseTransitions_UD8_Magnetism_for_students.ipynb\" target=\"_parent\"><img src=\"https://colab.research.google.com/assets/colab-badge.svg\" alt=\"Open In Colab\"/></a>"
      ]
    },
    {
      "cell_type": "markdown",
      "source": [
        "This notebook gives you some codes to play with in topics related to phase transitions.\n",
        "\n",
        "The first code calculates the order parameter M as a function of temperature from Landau Theory.\n",
        "\n",
        "How would you generalize the code to account for discontinuous phase transitions?"
      ],
      "metadata": {
        "id": "aFy9mHRecTjI"
      }
    },
    {
      "cell_type": "code",
      "source": [
        "#Landau theory simulation. Continuous phase transition\n",
        "import numpy as np\n",
        "import matplotlib.pyplot as plt\n",
        "from scipy.optimize import minimize\n",
        "\n",
        "# Define Landau free energy function.\n",
        "# Note that a here is A(T-Tc)\n",
        "def landau_free_energy(M, a, b, h):\n",
        "    return a * M**2 + b * M**4 - h* M\n",
        "\n",
        "# Minimize the Landau free energy to find equilibrium order parameter\n",
        "a_values = np.linspace(-0.5, 0.5, 100)  # Varying 'a' around the critical point\n",
        "b = 1  # Positive for continuous transition\n",
        "h = 0 # external field\n",
        "M_eq = []\n",
        "\n",
        "for a in a_values:\n",
        "    result = minimize(landau_free_energy, x0=0.1, args=(a, b, h))\n",
        "    M_eq.append(result.x[0])\n",
        "\n",
        "# Plot the results\n",
        "plt.figure(figsize=(8, 6))\n",
        "plt.plot(a_values, M_eq, label=\"Equilibrium Order Parameter\")\n",
        "plt.axvline(0, color='r', linestyle='--', label=\"Critical Point\")\n",
        "plt.xlabel(\"a (T - Tc)\")\n",
        "plt.ylabel(\"Order Parameter (M)\")\n",
        "plt.suptitle(\"Landau Theory: Continuous Phase Transition\")\n",
        "plt.title(f\"Parameters b = {b} and h={h}\", fontsize=12)\n",
        "plt.show()"
      ],
      "metadata": {
        "id": "Tnq3_54Bc-v0"
      },
      "execution_count": null,
      "outputs": []
    },
    {
      "cell_type": "markdown",
      "source": [
        "1. What is the effect of a finite external field h in the transition?\n",
        "\n",
        "2. How would you generalize the code to account for discontinuous phase transitions?\n",
        "\n",
        "3. And for a continuous symmetry?"
      ],
      "metadata": {
        "id": "QewuQKC4UBu4"
      }
    },
    {
      "cell_type": "markdown",
      "source": [
        "**Monte Carlo calculations**\n",
        "\n",
        "We can also calculate magnetization as a function of temperature with numerical methods. Here you have a simple code that uses the Monte Carlo Method to calculate the magnetization for an Ising Model in 2 dimensions.\n",
        "\n",
        "The Hamiltonian is\n",
        "\n",
        "$H=- J \\sum_{⟨ i,j ⟩} \\sigma_i^z \\sigma_j^z $\n",
        "\n",
        "with $\\sigma_i^z$ being $⇑$ (+1) or $⇓$ (-1).\n",
        "\n",
        "In equilibrium, the possible spin configurations have an ocurrence probability proportional to the Boltzmann factor. If you have two configurations, A and B, and P(A) and P(B) are the probabilities of their occurrence:\n",
        "\n",
        "$P(A)/P(B)= e^{-E_A/k_B T}/ e^{-E_B/k_B T}= e^{-(E_A-E_B)/k_B T}$.\n",
        "\n",
        "The Metropolis algorithm uses this quantity to explore the possible configurations as a function of temperature."
      ],
      "metadata": {
        "id": "gTClJXiEkYFW"
      }
    },
    {
      "cell_type": "code",
      "source": [
        "# Ising Model Simulation (2D) – Monte Carlo Method\n",
        "import numpy as np\n",
        "import matplotlib.pyplot as plt\n",
        "from matplotlib.animation import FuncAnimation\n",
        "\n",
        "# Ising Model Parameters\n",
        "L = 20  # Lattice size (LxL grid)  Small sizes lead to finite size effects.\n",
        "T = np.linspace(1.5, 3.5, 20)  # Temperature range, and number of points\n",
        "J = 1  # Interaction strength. J>0 would lead to ferromagnetism while J<0 to antiferromagnetism.\n",
        "thermal_steps = 2000 #number of updates per temperature\n",
        "\n",
        "# Initialize the lattice with random spins (+1 or -1)\n",
        "def initialize_lattice(L):\n",
        "    return np.random.choice([-1, 1], size=(L, L))\n",
        "\n",
        "# Calculate total energy of the system\n",
        "def calculate_energy(lattice):\n",
        "    energy = 0\n",
        "    for i in range(L):\n",
        "        for j in range(L):\n",
        "            S = lattice[i, j]\n",
        "            neighbors = lattice[(i+1)%L, j] + lattice[i, (j+1)%L] + lattice[(i-1)%L, j] + lattice[i, (j-1)%L]\n",
        "            energy += -J * S * neighbors\n",
        "    return energy / 2  # To account for double counting\n",
        "\n",
        "# Calculate magnetization\n",
        "def calculate_magnetization(lattice):\n",
        "    return np.sum(lattice)/(L*L) #normalize to system size\n",
        "\n",
        "# Metropolis algorithm\n",
        "# 1. Chooses a site randomly.\n",
        "# 2. Calculates the energy dE associated to flipping the spin at that site.\n",
        "# 3. If a random number is smaller than P(A)/P(B), the spin flip is accepted. Otherwise, the spin stays the same.\n",
        "def metropolis_step(lattice, beta):\n",
        "    for _ in range(L**2):  # Perform L^2 Monte Carlo steps.\n",
        "        i = np.random.randint(0, L)\n",
        "        j = np.random.randint(0, L)\n",
        "        S = lattice[i, j]\n",
        "        neighbors = lattice[(i+1)%L, j] + lattice[i, (j+1)%L] + lattice[(i-1)%L, j] + lattice[i, (j-1)%L]\n",
        "        dE = 2 * J * S * neighbors\n",
        "        if dE < 0 or np.random.rand() < np.exp(-dE * beta):\n",
        "            lattice[i, j] *= -1\n",
        "\n",
        "# Simulation\n",
        "energy_list = []\n",
        "magnetization_list = []\n",
        "\n",
        "# Initizalize\n",
        "lattice = initialize_lattice(L)\n",
        "\n",
        "for temp in T:\n",
        "    beta = 1 / temp\n",
        "    measurements_energy = []  # Store energy measurements\n",
        "    measurements_magnetization = []  # Store magnetization measurements\n",
        "\n",
        "    # Thermalization: First 500 steps\n",
        "    for _ in range(thermal_steps/2):\n",
        "        metropolis_step(lattice, beta)\n",
        "\n",
        "    # Collect measurements every 10 steps\n",
        "    for _ in range(thermal_steps/2)):  # Next 500 steps\n",
        "        metropolis_step(lattice, beta)\n",
        "        if _ % 10 == 0:  # Collect measurement every 10 steps\n",
        "            energy = calculate_energy(lattice)\n",
        "            magnetization = calculate_magnetization(lattice)\n",
        "            measurements_energy.append(energy)\n",
        "            measurements_magnetization.append(magnetization)\n",
        "\n",
        "    # Average measurements\n",
        "    avg_energy = np.mean(measurements_energy)\n",
        "    avg_magnetization = np.mean(measurements_magnetization)\n",
        "\n",
        "    # Append averages to the lists\n",
        "    energy_list.append(avg_energy)\n",
        "    magnetization_list.append(avg_magnetization)\n",
        "\n",
        "# After animation, show energy and magnetization plots\n",
        "plt.figure(figsize=(12, 6))\n",
        "\n",
        "# Energy plot\n",
        "plt.subplot(1, 2, 1)\n",
        "plt.plot(T, energy_list, 'o-', label=\"Energy\")\n",
        "plt.xlabel(\"Temperature\")\n",
        "plt.ylabel(\"Energy\")\n",
        "plt.title(\"Energy vs Temperature\")\n",
        "\n",
        "# Magnetization plot\n",
        "plt.subplot(1, 2, 2)\n",
        "plt.plot(T, np.abs(magnetization_list), 'o-', label=\"Magnetization\")\n",
        "plt.xlabel(\"Temperature\")\n",
        "plt.ylabel(\"Magnetization\")\n",
        "plt.title(\"Magnetization vs Temperature\")\n",
        "\n",
        "plt.tight_layout()\n",
        "plt.show()"
      ],
      "metadata": {
        "id": "tFy7m5Vxk9IP"
      },
      "execution_count": null,
      "outputs": []
    },
    {
      "cell_type": "markdown",
      "source": [
        "The following code gives you snapshots of possible spin configurations for the 2D Ising model above. **Download and run locally.** The images are saved in a gif file."
      ],
      "metadata": {
        "id": "ND8A56EkWRr7"
      }
    },
    {
      "cell_type": "code",
      "source": [
        "import numpy as np\n",
        "import matplotlib.pyplot as plt\n",
        "from matplotlib.animation import FuncAnimation, PillowWriter\n",
        "\n",
        "# Ising Model Parameters\n",
        "L = 20  # Lattice size (LxL grid)\n",
        "T = np.linspace(1.5, 3.5, 20)  # Temperature range\n",
        "J = 1  # Interaction strength\n",
        "\n",
        "# Initialize the lattice with random spins (+1 or -1)\n",
        "def initialize_lattice(L):\n",
        "    return np.random.choice([-1, 1], size=(L, L))\n",
        "\n",
        "# Metropolis algorithm\n",
        "def metropolis_step(lattice, beta):\n",
        "    for _ in range(L**2):  # Perform L^2 Monte Carlo steps\n",
        "        i = np.random.randint(0, L)\n",
        "        j = np.random.randint(0, L)\n",
        "        S = lattice[i, j]\n",
        "        neighbors = lattice[(i+1)%L, j] + lattice[i, (j+1)%L] + lattice[(i-1)%L, j] + lattice[i, (j-1)%L]\n",
        "        dE = 2 * J * S * neighbors\n",
        "        if dE < 0 or np.random.rand() < np.exp(-dE * beta):\n",
        "            lattice[i, j] *= -1\n",
        "\n",
        "# Prepare for animation\n",
        "lattice = initialize_lattice(L)\n",
        "\n",
        "# Create figure for animation\n",
        "fig, ax = plt.subplots(figsize=(6, 6))\n",
        "x, y = np.meshgrid(np.arange(L), np.arange(L))\n",
        "#quiver draws arrows\n",
        "quiver = ax.quiver(x, y, np.zeros_like(lattice), np.zeros_like(lattice), scale=1, scale_units='xy', pivot='middle')\n",
        "ax.set_title(\"Lattice Configuration\")\n",
        "ax.axis(\"off\")\n",
        "\n",
        "# Update function for the animation\n",
        "def update(frame):\n",
        "    global lattice\n",
        "    temp = T[frame]\n",
        "    beta = 1 / temp\n",
        "    for _ in range(1000):  # Update lattice\n",
        "        metropolis_step(lattice, beta)\n",
        "    # Update quiver plot\n",
        "    U = np.zeros_like(lattice)\n",
        "    V = lattice  # Spins (+1 or -1) determine arrow orientation\n",
        "    quiver.set_UVC(U, V)\n",
        "    ax.set_title(f\"Lattice Configuration at T = {temp:.2f}\")\n",
        "\n",
        "# Create animation\n",
        "ani = FuncAnimation(\n",
        "    fig, update, frames=len(T), repeat=False, interval=500  # 500ms per frame\n",
        ")\n",
        "\n",
        "# Save animation\n",
        "ani.save(\"animation_slowed.gif\", writer=PillowWriter(fps=1))\n",
        "\n",
        "print(\"Animation saved as 'animation_slowed.gif'.\")"
      ],
      "metadata": {
        "id": "VsfH6EzJVuTc"
      },
      "execution_count": null,
      "outputs": []
    },
    {
      "cell_type": "markdown",
      "source": [
        "How would you modify the code for the XY model? In this case the spin orientations are given by an angle $\\theta$ such that $S(\\mathbf r)= S (\\cos\\theta,\\sin\\theta)$"
      ],
      "metadata": {
        "id": "Q6vDRwJkU-Mw"
      }
    }
  ]
}