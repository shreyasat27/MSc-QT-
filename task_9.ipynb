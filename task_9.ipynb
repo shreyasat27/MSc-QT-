{
  "nbformat": 4,
  "nbformat_minor": 0,
  "metadata": {
    "colab": {
      "provenance": [],
      "authorship_tag": "ABX9TyO/pKqU/bff+TYFxetMNAIO",
      "include_colab_link": true
    },
    "kernelspec": {
      "name": "python3",
      "display_name": "Python 3"
    },
    "language_info": {
      "name": "python"
    }
  },
  "cells": [
    {
      "cell_type": "markdown",
      "metadata": {
        "id": "view-in-github",
        "colab_type": "text"
      },
      "source": [
        "<a href=\"https://colab.research.google.com/github/shreyasat27/MSc-QT-/blob/main/task_9.ipynb\" target=\"_parent\"><img src=\"https://colab.research.google.com/assets/colab-badge.svg\" alt=\"Open In Colab\"/></a>"
      ]
    },
    {
      "cell_type": "code",
      "execution_count": 1,
      "metadata": {
        "id": "rSmNadVXYyIt"
      },
      "outputs": [],
      "source": [
        "import sympy as sp\n",
        "import numpy as np"
      ]
    },
    {
      "cell_type": "code",
      "source": [
        "ga, gb, a, adagger, phip, phim = sp.symbols('ga gb a adagger phi_+ phi_-', real=True)"
      ],
      "metadata": {
        "id": "DuZDIlReY1I_"
      },
      "execution_count": 2,
      "outputs": []
    },
    {
      "cell_type": "code",
      "source": [
        "H1 = sp.Matrix([[0, ga*a, gb*a, 0], [ga*adagger, 0, 0, gb*a], [gb*adagger, 0, 0, -ga*a], [0, gb*adagger, -ga*adagger, 0]])"
      ],
      "metadata": {
        "id": "qJyKskMTY3mq"
      },
      "execution_count": 3,
      "outputs": []
    },
    {
      "cell_type": "code",
      "source": [
        "Unew = sp.simplify(\n",
        "    sp.Matrix([[sp.cos(phim/2),0,0,sp.sin(phim/2)],\n",
        "               [0,sp.cos(phip/2),-sp.sin(phip/2),0],\n",
        "               [0,-sp.sin(phip/2),-sp.cos(phip/2),0],\n",
        "              [sp.sin(phim/2),0,0,-sp.cos(phim/2)]]))"
      ],
      "metadata": {
        "id": "J8CIb4TPY5at"
      },
      "execution_count": 4,
      "outputs": []
    },
    {
      "cell_type": "code",
      "source": [
        "Hp = sp.simplify(sp.simplify(Unew @ H1 @ Unew.transpose()))\n",
        "Hp"
      ],
      "metadata": {
        "colab": {
          "base_uri": "https://localhost:8080/",
          "height": 159
        },
        "id": "KiatuNu4Y7Vk",
        "outputId": "e238ba96-e0a6-47b7-9df8-da0124a3999c"
      },
      "execution_count": 5,
      "outputs": [
        {
          "output_type": "execute_result",
          "data": {
            "text/plain": [
              "Matrix([\n",
              "[                                                                                                            0, (a*ga*cos(phi_-/2) + adagger*gb*sin(phi_-/2))*cos(phi_+/2) - (a*gb*cos(phi_-/2) - adagger*ga*sin(phi_-/2))*sin(phi_+/2), -(a*ga*cos(phi_-/2) + adagger*gb*sin(phi_-/2))*sin(phi_+/2) - (a*gb*cos(phi_-/2) - adagger*ga*sin(phi_-/2))*cos(phi_+/2),                                                                                                              0],\n",
              "[a*(ga*sin(phi_+/2) + gb*cos(phi_+/2))*sin(phi_-/2) + adagger*(ga*cos(phi_+/2) - gb*sin(phi_+/2))*cos(phi_-/2),                                                                                                                       0,                                                                                                                        0, -a*(ga*sin(phi_+/2) + gb*cos(phi_+/2))*cos(phi_-/2) + adagger*(ga*cos(phi_+/2) - gb*sin(phi_+/2))*sin(phi_-/2)],\n",
              "[a*(ga*cos(phi_+/2) - gb*sin(phi_+/2))*sin(phi_-/2) - adagger*(ga*sin(phi_+/2) + gb*cos(phi_+/2))*cos(phi_-/2),                                                                                                                       0,                                                                                                                        0, -a*(ga*cos(phi_+/2) - gb*sin(phi_+/2))*cos(phi_-/2) - adagger*(ga*sin(phi_+/2) + gb*cos(phi_+/2))*sin(phi_-/2)],\n",
              "[                                                                                                            0, (a*ga*sin(phi_-/2) - adagger*gb*cos(phi_-/2))*cos(phi_+/2) - (a*gb*sin(phi_-/2) + adagger*ga*cos(phi_-/2))*sin(phi_+/2), -(a*ga*sin(phi_-/2) - adagger*gb*cos(phi_-/2))*sin(phi_+/2) - (a*gb*sin(phi_-/2) + adagger*ga*cos(phi_-/2))*cos(phi_+/2),                                                                                                              0]])"
            ],
            "text/latex": "$\\displaystyle \\left[\\begin{matrix}0 & \\left(a ga \\cos{\\left(\\frac{\\phi_{-}}{2} \\right)} + adagger gb \\sin{\\left(\\frac{\\phi_{-}}{2} \\right)}\\right) \\cos{\\left(\\frac{\\phi_{+}}{2} \\right)} - \\left(a gb \\cos{\\left(\\frac{\\phi_{-}}{2} \\right)} - adagger ga \\sin{\\left(\\frac{\\phi_{-}}{2} \\right)}\\right) \\sin{\\left(\\frac{\\phi_{+}}{2} \\right)} & - \\left(a ga \\cos{\\left(\\frac{\\phi_{-}}{2} \\right)} + adagger gb \\sin{\\left(\\frac{\\phi_{-}}{2} \\right)}\\right) \\sin{\\left(\\frac{\\phi_{+}}{2} \\right)} - \\left(a gb \\cos{\\left(\\frac{\\phi_{-}}{2} \\right)} - adagger ga \\sin{\\left(\\frac{\\phi_{-}}{2} \\right)}\\right) \\cos{\\left(\\frac{\\phi_{+}}{2} \\right)} & 0\\\\a \\left(ga \\sin{\\left(\\frac{\\phi_{+}}{2} \\right)} + gb \\cos{\\left(\\frac{\\phi_{+}}{2} \\right)}\\right) \\sin{\\left(\\frac{\\phi_{-}}{2} \\right)} + adagger \\left(ga \\cos{\\left(\\frac{\\phi_{+}}{2} \\right)} - gb \\sin{\\left(\\frac{\\phi_{+}}{2} \\right)}\\right) \\cos{\\left(\\frac{\\phi_{-}}{2} \\right)} & 0 & 0 & - a \\left(ga \\sin{\\left(\\frac{\\phi_{+}}{2} \\right)} + gb \\cos{\\left(\\frac{\\phi_{+}}{2} \\right)}\\right) \\cos{\\left(\\frac{\\phi_{-}}{2} \\right)} + adagger \\left(ga \\cos{\\left(\\frac{\\phi_{+}}{2} \\right)} - gb \\sin{\\left(\\frac{\\phi_{+}}{2} \\right)}\\right) \\sin{\\left(\\frac{\\phi_{-}}{2} \\right)}\\\\a \\left(ga \\cos{\\left(\\frac{\\phi_{+}}{2} \\right)} - gb \\sin{\\left(\\frac{\\phi_{+}}{2} \\right)}\\right) \\sin{\\left(\\frac{\\phi_{-}}{2} \\right)} - adagger \\left(ga \\sin{\\left(\\frac{\\phi_{+}}{2} \\right)} + gb \\cos{\\left(\\frac{\\phi_{+}}{2} \\right)}\\right) \\cos{\\left(\\frac{\\phi_{-}}{2} \\right)} & 0 & 0 & - a \\left(ga \\cos{\\left(\\frac{\\phi_{+}}{2} \\right)} - gb \\sin{\\left(\\frac{\\phi_{+}}{2} \\right)}\\right) \\cos{\\left(\\frac{\\phi_{-}}{2} \\right)} - adagger \\left(ga \\sin{\\left(\\frac{\\phi_{+}}{2} \\right)} + gb \\cos{\\left(\\frac{\\phi_{+}}{2} \\right)}\\right) \\sin{\\left(\\frac{\\phi_{-}}{2} \\right)}\\\\0 & \\left(a ga \\sin{\\left(\\frac{\\phi_{-}}{2} \\right)} - adagger gb \\cos{\\left(\\frac{\\phi_{-}}{2} \\right)}\\right) \\cos{\\left(\\frac{\\phi_{+}}{2} \\right)} - \\left(a gb \\sin{\\left(\\frac{\\phi_{-}}{2} \\right)} + adagger ga \\cos{\\left(\\frac{\\phi_{-}}{2} \\right)}\\right) \\sin{\\left(\\frac{\\phi_{+}}{2} \\right)} & - \\left(a ga \\sin{\\left(\\frac{\\phi_{-}}{2} \\right)} - adagger gb \\cos{\\left(\\frac{\\phi_{-}}{2} \\right)}\\right) \\sin{\\left(\\frac{\\phi_{+}}{2} \\right)} - \\left(a gb \\sin{\\left(\\frac{\\phi_{-}}{2} \\right)} + adagger ga \\cos{\\left(\\frac{\\phi_{-}}{2} \\right)}\\right) \\cos{\\left(\\frac{\\phi_{+}}{2} \\right)} & 0\\end{matrix}\\right]$"
          },
          "metadata": {},
          "execution_count": 5
        }
      ]
    }
  ]
}