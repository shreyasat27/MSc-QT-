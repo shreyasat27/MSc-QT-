{
  "cells": [
    {
      "cell_type": "markdown",
      "metadata": {
        "id": "view-in-github",
        "colab_type": "text"
      },
      "source": [
        "<a href=\"https://colab.research.google.com/github/shreyasat27/MSc-QT-/blob/main/task_7(Jose's%20version).ipynb\" target=\"_parent\"><img src=\"https://colab.research.google.com/assets/colab-badge.svg\" alt=\"Open In Colab\"/></a>"
      ]
    },
    {
      "cell_type": "code",
      "execution_count": null,
      "id": "2b8fd7c9",
      "metadata": {
        "id": "2b8fd7c9"
      },
      "outputs": [],
      "source": [
        "import numpy as np"
      ]
    },
    {
      "cell_type": "code",
      "execution_count": null,
      "id": "7941aa1d",
      "metadata": {
        "id": "7941aa1d"
      },
      "outputs": [],
      "source": [
        "import sympy as sp"
      ]
    },
    {
      "cell_type": "code",
      "execution_count": null,
      "id": "1298093f",
      "metadata": {
        "id": "1298093f",
        "colab": {
          "base_uri": "https://localhost:8080/"
        },
        "outputId": "79dcbefa-3f8a-405f-a6ea-70732a51f024"
      },
      "outputs": [
        {
          "output_type": "stream",
          "name": "stdout",
          "text": [
            "⎡   ⎛φ   π⎞       ⎛φ   π⎞⎤\n",
            "⎢cos⎜─ + ─⎟   -sin⎜─ + ─⎟⎥\n",
            "⎢   ⎝2   4⎠       ⎝2   4⎠⎥\n",
            "⎢                        ⎥\n",
            "⎢    ⎛φ   π⎞      ⎛φ   π⎞⎥\n",
            "⎢-sin⎜─ + ─⎟  -cos⎜─ + ─⎟⎥\n",
            "⎣    ⎝2   4⎠      ⎝2   4⎠⎦\n"
          ]
        }
      ],
      "source": [
        "# Charge qubit example\n",
        "# Define symbols\n",
        "E0, phi, tsc, tsf, eps, Z = sp.symbols('E0 phi t_{sc} t_{sf} epsilon Z ', real=True)\n",
        "\n",
        "# Define the matrix\n",
        "H = (E0 / 2) * sp.Matrix([[sp.sin(phi), sp.cos(phi)],\n",
        "                          [sp.cos(phi), -sp.sin(phi)]])\n",
        "\n",
        "# You can think of the following as a rotation of the Bloch sphere around the y axis with angle sp.pi/4+phi/2:\n",
        "P = sp.simplify(sp.Matrix([[sp.cos(sp.pi/4+phi/2),-sp.sin(sp.pi/4+phi/2)],[-sp.sin(sp.pi/4+phi/2),-sp.cos(sp.pi/4+phi/2)]]))\n",
        "\n",
        "# Again, due to how these packages normalize eigenvectors, I'd avoid reobtaining P from zero\n",
        "\n",
        "sp.pprint(sp.simplify(P))\n",
        "\n"
      ]
    },
    {
      "cell_type": "code",
      "source": [
        "sp.pprint(sp.simplify(H))"
      ],
      "metadata": {
        "colab": {
          "base_uri": "https://localhost:8080/"
        },
        "id": "K0KXx0lvgZ4T",
        "outputId": "71358e4d-023b-4344-ba10-dd80fc695fec"
      },
      "id": "K0KXx0lvgZ4T",
      "execution_count": null,
      "outputs": [
        {
          "output_type": "stream",
          "name": "stdout",
          "text": [
            "⎡E₀⋅sin(φ)   E₀⋅cos(φ) ⎤\n",
            "⎢─────────   ───────── ⎥\n",
            "⎢    2           2     ⎥\n",
            "⎢                      ⎥\n",
            "⎢E₀⋅cos(φ)  -E₀⋅sin(φ) ⎥\n",
            "⎢─────────  ───────────⎥\n",
            "⎣    2           2     ⎦\n"
          ]
        }
      ]
    },
    {
      "cell_type": "code",
      "execution_count": null,
      "id": "fb443c01",
      "metadata": {
        "colab": {
          "base_uri": "https://localhost:8080/",
          "height": 59
        },
        "id": "fb443c01",
        "outputId": "c0af6e76-58d1-432e-d212-6a8d4faaa388"
      },
      "outputs": [
        {
          "output_type": "execute_result",
          "data": {
            "text/plain": [
              "Matrix([\n",
              "[-E0/2,    0],\n",
              "[    0, E0/2]])"
            ],
            "text/latex": "$\\displaystyle \\left[\\begin{matrix}- \\frac{E_{0}}{2} & 0\\\\0 & \\frac{E_{0}}{2}\\end{matrix}\\right]$"
          },
          "metadata": {},
          "execution_count": 24
        }
      ],
      "source": [
        "sp.simplify(sp.simplify(P @ H @ P.transpose()))"
      ]
    },
    {
      "cell_type": "code",
      "execution_count": null,
      "id": "48024e87",
      "metadata": {
        "colab": {
          "base_uri": "https://localhost:8080/",
          "height": 101
        },
        "id": "48024e87",
        "outputId": "c751361f-e08c-409e-c7b6-35c0008ff568"
      },
      "outputs": [
        {
          "output_type": "execute_result",
          "data": {
            "text/plain": [
              "Matrix([\n",
              "[Z/2 - epsilon/2,                0,          t_{sc},           t_{sf}],\n",
              "[              0, -Z/2 - epsilon/2,         -t_{sf},           t_{sc}],\n",
              "[         t_{sc},          -t_{sf}, Z/2 + epsilon/2,                0],\n",
              "[         t_{sf},           t_{sc},               0, -Z/2 + epsilon/2]])"
            ],
            "text/latex": "$\\displaystyle \\left[\\begin{matrix}\\frac{Z}{2} - \\frac{\\epsilon}{2} & 0 & t_{sc} & t_{sf}\\\\0 & - \\frac{Z}{2} - \\frac{\\epsilon}{2} & - t_{sf} & t_{sc}\\\\t_{sc} & - t_{sf} & \\frac{Z}{2} + \\frac{\\epsilon}{2} & 0\\\\t_{sf} & t_{sc} & 0 & - \\frac{Z}{2} + \\frac{\\epsilon}{2}\\end{matrix}\\right]$"
          },
          "metadata": {},
          "execution_count": 26
        }
      ],
      "source": [
        "# Let's do some parts of our case:\n",
        "\n",
        "H0 = sp.Matrix([[-eps/2 + Z/2, 0, tsc, tsf], [0, -eps/2 -Z/2 , -tsf, tsc], [tsc, -tsf, eps/2 + Z/2, 0], [tsf, tsc, 0, eps/2 -Z/2]])\n",
        "H0"
      ]
    },
    {
      "cell_type": "code",
      "execution_count": null,
      "id": "13e1a04b",
      "metadata": {
        "colab": {
          "base_uri": "https://localhost:8080/",
          "height": 110
        },
        "id": "13e1a04b",
        "outputId": "95f458aa-351c-4da5-9614-07c7cb410fb5"
      },
      "outputs": [
        {
          "output_type": "execute_result",
          "data": {
            "text/plain": [
              "Matrix([\n",
              "[-Omega0*sin(theta0)/2 + Z/2,                           0,       Omega0*cos(theta0)/2,                     t_{sf}],\n",
              "[                          0, -Omega0*sin(theta0)/2 - Z/2,                    -t_{sf},       Omega0*cos(theta0)/2],\n",
              "[       Omega0*cos(theta0)/2,                     -t_{sf}, Omega0*sin(theta0)/2 + Z/2,                          0],\n",
              "[                     t_{sf},        Omega0*cos(theta0)/2,                          0, Omega0*sin(theta0)/2 - Z/2]])"
            ],
            "text/latex": "$\\displaystyle \\left[\\begin{matrix}- \\frac{\\Omega_{0} \\sin{\\left(\\theta_{0} \\right)}}{2} + \\frac{Z}{2} & 0 & \\frac{\\Omega_{0} \\cos{\\left(\\theta_{0} \\right)}}{2} & t_{sf}\\\\0 & - \\frac{\\Omega_{0} \\sin{\\left(\\theta_{0} \\right)}}{2} - \\frac{Z}{2} & - t_{sf} & \\frac{\\Omega_{0} \\cos{\\left(\\theta_{0} \\right)}}{2}\\\\\\frac{\\Omega_{0} \\cos{\\left(\\theta_{0} \\right)}}{2} & - t_{sf} & \\frac{\\Omega_{0} \\sin{\\left(\\theta_{0} \\right)}}{2} + \\frac{Z}{2} & 0\\\\t_{sf} & \\frac{\\Omega_{0} \\cos{\\left(\\theta_{0} \\right)}}{2} & 0 & \\frac{\\Omega_{0} \\sin{\\left(\\theta_{0} \\right)}}{2} - \\frac{Z}{2}\\end{matrix}\\right]$"
          },
          "metadata": {},
          "execution_count": 27
        }
      ],
      "source": [
        "Omega0, theta0 = sp.symbols('Omega0, theta0', real=True)\n",
        "\n",
        "H0subs = H0.subs({eps:Omega0*sp.sin(theta0), tsc:Omega0/2*sp.cos(theta0)})\n",
        "H0subs"
      ]
    },
    {
      "cell_type": "code",
      "execution_count": null,
      "id": "a4a458af",
      "metadata": {
        "colab": {
          "base_uri": "https://localhost:8080/",
          "height": 102
        },
        "id": "a4a458af",
        "outputId": "b6e93dfd-3aeb-42f7-cd0c-6ba6593e5093"
      },
      "outputs": [
        {
          "output_type": "execute_result",
          "data": {
            "text/plain": [
              "Matrix([\n",
              "[-Omega0/2 + Z/2,               0,              0,        -t_{sf}],\n",
              "[              0, -Omega0/2 - Z/2,         t_{sf},              0],\n",
              "[              0,          t_{sf}, Omega0/2 + Z/2,              0],\n",
              "[        -t_{sf},               0,              0, Omega0/2 - Z/2]])"
            ],
            "text/latex": "$\\displaystyle \\left[\\begin{matrix}- \\frac{\\Omega_{0}}{2} + \\frac{Z}{2} & 0 & 0 & - t_{sf}\\\\0 & - \\frac{\\Omega_{0}}{2} - \\frac{Z}{2} & t_{sf} & 0\\\\0 & t_{sf} & \\frac{\\Omega_{0}}{2} + \\frac{Z}{2} & 0\\\\- t_{sf} & 0 & 0 & \\frac{\\Omega_{0}}{2} - \\frac{Z}{2}\\end{matrix}\\right]$"
          },
          "metadata": {},
          "execution_count": 28
        }
      ],
      "source": [
        "# Let's adapt P to our 4x4 case (note that the signs of epsilon is different from our 2x2 example as well -> theta -> -theta)\n",
        "\n",
        "U0 = sp.simplify(\n",
        "    sp.Matrix([[sp.cos(sp.pi/4-theta0/2),0,-sp.sin(sp.pi/4-theta0/2),0],\n",
        "               [0,sp.cos(sp.pi/4-theta0/2),0,-sp.sin(sp.pi/4-theta0/2)],\n",
        "               [-sp.sin(sp.pi/4-theta0/2),0,-sp.cos(sp.pi/4-theta0/2),0],\n",
        "              [0,-sp.sin(sp.pi/4-theta0/2),0,-sp.cos(sp.pi/4-theta0/2)]]))\n",
        "\n",
        "H1 = sp.simplify(sp.simplify(U0 @ H0subs @ U0.transpose()))\n",
        "H1"
      ]
    },
    {
      "cell_type": "code",
      "source": [
        "sp.pprint(sp.simplify(U0))"
      ],
      "metadata": {
        "colab": {
          "base_uri": "https://localhost:8080/"
        },
        "id": "SyGVEiQFgnOd",
        "outputId": "e3923f9e-a9cf-465c-a193-c9a00918733f"
      },
      "id": "SyGVEiQFgnOd",
      "execution_count": null,
      "outputs": [
        {
          "output_type": "stream",
          "name": "stdout",
          "text": [
            "⎡   ⎛θ₀   π⎞                     ⎛θ₀   π⎞              ⎤\n",
            "⎢sin⎜── + ─⎟        0        -cos⎜── + ─⎟       0      ⎥\n",
            "⎢   ⎝2    4⎠                     ⎝2    4⎠              ⎥\n",
            "⎢                                                      ⎥\n",
            "⎢                 ⎛θ₀   π⎞                     ⎛θ₀   π⎞⎥\n",
            "⎢     0        sin⎜── + ─⎟        0        -cos⎜── + ─⎟⎥\n",
            "⎢                 ⎝2    4⎠                     ⎝2    4⎠⎥\n",
            "⎢                                                      ⎥\n",
            "⎢    ⎛θ₀   π⎞                    ⎛θ₀   π⎞              ⎥\n",
            "⎢-cos⎜── + ─⎟       0        -sin⎜── + ─⎟       0      ⎥\n",
            "⎢    ⎝2    4⎠                    ⎝2    4⎠              ⎥\n",
            "⎢                                                      ⎥\n",
            "⎢                  ⎛θ₀   π⎞                    ⎛θ₀   π⎞⎥\n",
            "⎢     0        -cos⎜── + ─⎟       0        -sin⎜── + ─⎟⎥\n",
            "⎣                  ⎝2    4⎠                    ⎝2    4⎠⎦\n"
          ]
        }
      ]
    },
    {
      "cell_type": "code",
      "execution_count": null,
      "id": "330a2ebf",
      "metadata": {
        "id": "330a2ebf"
      },
      "outputs": [],
      "source": [
        "#Next step is trickier because now you have two dependent definitions of the angles phi+ and phi-.\n",
        "#My take on it is to loop over the different rows to make the substitution"
      ]
    },
    {
      "cell_type": "code",
      "execution_count": null,
      "id": "db3066eb",
      "metadata": {
        "colab": {
          "base_uri": "https://localhost:8080/",
          "height": 110
        },
        "id": "db3066eb",
        "outputId": "100d6e9a-6f6f-404b-dc48-b53ae221b601"
      },
      "outputs": [
        {
          "output_type": "execute_result",
          "data": {
            "text/plain": [
              "Matrix([\n",
              "[-E_-*cos(phi_-)/2,                 0,                0, -E_-*sin(phi_-)/2],\n",
              "[                0, -E_+*cos(phi_+)/2, E_+*sin(phi_+)/2,                 0],\n",
              "[                0,  E_+*sin(phi_+)/2, E_+*cos(phi_+)/2,                 0],\n",
              "[-E_-*sin(phi_-)/2,                 0,                0,  E_-*cos(phi_-)/2]])"
            ],
            "text/latex": "$\\displaystyle \\left[\\begin{matrix}- \\frac{E_{-} \\cos{\\left(\\phi_{-} \\right)}}{2} & 0 & 0 & - \\frac{E_{-} \\sin{\\left(\\phi_{-} \\right)}}{2}\\\\0 & - \\frac{E_{+} \\cos{\\left(\\phi_{+} \\right)}}{2} & \\frac{E_{+} \\sin{\\left(\\phi_{+} \\right)}}{2} & 0\\\\0 & \\frac{E_{+} \\sin{\\left(\\phi_{+} \\right)}}{2} & \\frac{E_{+} \\cos{\\left(\\phi_{+} \\right)}}{2} & 0\\\\- \\frac{E_{-} \\sin{\\left(\\phi_{-} \\right)}}{2} & 0 & 0 & \\frac{E_{-} \\cos{\\left(\\phi_{-} \\right)}}{2}\\end{matrix}\\right]$"
          },
          "metadata": {},
          "execution_count": 31
        }
      ],
      "source": [
        "Eplus, Eminus, phip, phim = sp.symbols('E_+, E_-, phi_+, phi_-', real=True)\n",
        "H1sub = sp.Matrix.zeros(4, 4)\n",
        "\n",
        "subglobal={Omega0/2-Z/2:Eminus/2*sp.cos(phim), Omega0/2+Z/2:Eplus/2*sp.cos(phip)}\n",
        "sub03={tsf:Eminus/2*sp.sin(phim)}\n",
        "sub12={tsf:Eplus/2*sp.sin(phip)}\n",
        "\n",
        "for i in range(4):\n",
        "    row_sub = sub03 if i in [0, 3] else sub12\n",
        "    for j in range(4):\n",
        "        H1sub[i, j] = H1[i, j].subs(row_sub)\n",
        "\n",
        "H1sub = H1sub.subs(subglobal)\n",
        "H1sub"
      ]
    },
    {
      "cell_type": "code",
      "execution_count": null,
      "id": "9d141108",
      "metadata": {
        "colab": {
          "base_uri": "https://localhost:8080/",
          "height": 104
        },
        "id": "9d141108",
        "outputId": "0ce3cb86-3a17-40ec-d63d-8e307bf7b3d2"
      },
      "outputs": [
        {
          "output_type": "execute_result",
          "data": {
            "text/plain": [
              "Matrix([\n",
              "[-E_-/2,      0,     0,     0],\n",
              "[     0, -E_+/2,     0,     0],\n",
              "[     0,      0, E_+/2,     0],\n",
              "[     0,      0,     0, E_-/2]])"
            ],
            "text/latex": "$\\displaystyle \\left[\\begin{matrix}- \\frac{E_{-}}{2} & 0 & 0 & 0\\\\0 & - \\frac{E_{+}}{2} & 0 & 0\\\\0 & 0 & \\frac{E_{+}}{2} & 0\\\\0 & 0 & 0 & \\frac{E_{-}}{2}\\end{matrix}\\right]$"
          },
          "metadata": {},
          "execution_count": 58
        }
      ],
      "source": [
        "#Now you gotta be careful with the unitary since, compared to the previous case, we have some sine and cosine terms\n",
        "#elsewhere, some signs are different. By using properties of sines and cosines you should be able to get it:\n",
        "\n",
        "U1 = sp.simplify(\n",
        "    sp.Matrix([[sp.cos(phim/2),0,0,sp.sin(phim/2)],\n",
        "               [0,sp.cos(phip/2),-sp.sin(phip/2),0],\n",
        "               [0,-sp.sin(phip/2),-sp.cos(phip/2),0],\n",
        "              [sp.sin(phim/2),0,0,-sp.cos(phim/2)]]))\n",
        "H2 = sp.simplify(sp.simplify(U1 @ H1sub @ U1.transpose()))\n",
        "H2"
      ]
    },
    {
      "cell_type": "code",
      "source": [
        "U1"
      ],
      "metadata": {
        "colab": {
          "base_uri": "https://localhost:8080/",
          "height": 139
        },
        "id": "XZdCxVKisxvl",
        "outputId": "6277e000-a319-4cdc-dde8-acc45ddda16e"
      },
      "id": "XZdCxVKisxvl",
      "execution_count": null,
      "outputs": [
        {
          "output_type": "execute_result",
          "data": {
            "text/plain": [
              "Matrix([\n",
              "[cos(phi_-/2),             0,             0,  sin(phi_-/2)],\n",
              "[           0,  cos(phi_+/2), -sin(phi_+/2),             0],\n",
              "[           0, -sin(phi_+/2), -cos(phi_+/2),             0],\n",
              "[sin(phi_-/2),             0,             0, -cos(phi_-/2)]])"
            ],
            "text/latex": "$\\displaystyle \\left[\\begin{matrix}\\cos{\\left(\\frac{\\phi_{-}}{2} \\right)} & 0 & 0 & \\sin{\\left(\\frac{\\phi_{-}}{2} \\right)}\\\\0 & \\cos{\\left(\\frac{\\phi_{+}}{2} \\right)} & - \\sin{\\left(\\frac{\\phi_{+}}{2} \\right)} & 0\\\\0 & - \\sin{\\left(\\frac{\\phi_{+}}{2} \\right)} & - \\cos{\\left(\\frac{\\phi_{+}}{2} \\right)} & 0\\\\\\sin{\\left(\\frac{\\phi_{-}}{2} \\right)} & 0 & 0 & - \\cos{\\left(\\frac{\\phi_{-}}{2} \\right)}\\end{matrix}\\right]$"
          },
          "metadata": {},
          "execution_count": 59
        }
      ]
    },
    {
      "cell_type": "code",
      "execution_count": null,
      "id": "7ff15406",
      "metadata": {
        "colab": {
          "base_uri": "https://localhost:8080/",
          "height": 104
        },
        "id": "7ff15406",
        "outputId": "dd7515ea-e649-4da6-ce5f-b2b1e13ea231"
      },
      "outputs": [
        {
          "output_type": "execute_result",
          "data": {
            "text/plain": [
              "Matrix([\n",
              "[E_+/2,     0,      0,      0],\n",
              "[    0, E_-/2,      0,      0],\n",
              "[    0,     0, -E_-/2,      0],\n",
              "[    0,     0,      0, -E_+/2]])"
            ],
            "text/latex": "$\\displaystyle \\left[\\begin{matrix}\\frac{E_{+}}{2} & 0 & 0 & 0\\\\0 & \\frac{E_{-}}{2} & 0 & 0\\\\0 & 0 & - \\frac{E_{-}}{2} & 0\\\\0 & 0 & 0 & - \\frac{E_{+}}{2}\\end{matrix}\\right]$"
          },
          "metadata": {},
          "execution_count": 33
        }
      ],
      "source": [
        "#Finally, as a preference, I do a permutation so the GS is the 4th state, the 1st is the 3 excited, etc\n",
        "\n",
        "U2 = sp.Matrix([[0,0,1,0],[0,0,0,1],[1,0,0,0],[0,1,0,0]])\n",
        "H3 = sp.simplify(sp.simplify(U2 @ H2 @ U2.transpose()))\n",
        "H3"
      ]
    },
    {
      "cell_type": "code",
      "execution_count": null,
      "id": "67490b96",
      "metadata": {
        "id": "67490b96"
      },
      "outputs": [],
      "source": [
        "# The total unitary is, hence:\n",
        "Ufull = sp.simplify(sp.simplify(U2 @ U1 @ U0))"
      ]
    },
    {
      "cell_type": "code",
      "execution_count": null,
      "id": "7f15bf7a",
      "metadata": {
        "colab": {
          "base_uri": "https://localhost:8080/",
          "height": 144
        },
        "id": "7f15bf7a",
        "outputId": "c20ad579-145b-4f20-ce65-c88afb009eb4"
      },
      "outputs": [
        {
          "output_type": "execute_result",
          "data": {
            "text/plain": [
              "Matrix([\n",
              "[             sin(theta0)*cos(phi_+)/2,  sin(phi_+/2 - phi_-/2)*cos(theta0)/2, -cos(theta0)*cos(phi_+/2 - phi_-/2)/2,              sin(phi_+)*sin(theta0)/2],\n",
              "[ sin(phi_+/2 - phi_-/2)*cos(theta0)/2,              sin(theta0)*cos(phi_-)/2,             -sin(phi_-)*sin(theta0)/2, -cos(theta0)*cos(phi_+/2 - phi_-/2)/2],\n",
              "[-cos(theta0)*cos(phi_+/2 - phi_-/2)/2,             -sin(phi_-)*sin(theta0)/2,             -sin(theta0)*cos(phi_-)/2, -sin(phi_+/2 - phi_-/2)*cos(theta0)/2],\n",
              "[             sin(phi_+)*sin(theta0)/2, -cos(theta0)*cos(phi_+/2 - phi_-/2)/2, -sin(phi_+/2 - phi_-/2)*cos(theta0)/2,             -sin(theta0)*cos(phi_+)/2]])"
            ],
            "text/latex": "$\\displaystyle \\left[\\begin{matrix}\\frac{\\sin{\\left(\\theta_{0} \\right)} \\cos{\\left(\\phi_{+} \\right)}}{2} & \\frac{\\sin{\\left(\\frac{\\phi_{+}}{2} - \\frac{\\phi_{-}}{2} \\right)} \\cos{\\left(\\theta_{0} \\right)}}{2} & - \\frac{\\cos{\\left(\\theta_{0} \\right)} \\cos{\\left(\\frac{\\phi_{+}}{2} - \\frac{\\phi_{-}}{2} \\right)}}{2} & \\frac{\\sin{\\left(\\phi_{+} \\right)} \\sin{\\left(\\theta_{0} \\right)}}{2}\\\\\\frac{\\sin{\\left(\\frac{\\phi_{+}}{2} - \\frac{\\phi_{-}}{2} \\right)} \\cos{\\left(\\theta_{0} \\right)}}{2} & \\frac{\\sin{\\left(\\theta_{0} \\right)} \\cos{\\left(\\phi_{-} \\right)}}{2} & - \\frac{\\sin{\\left(\\phi_{-} \\right)} \\sin{\\left(\\theta_{0} \\right)}}{2} & - \\frac{\\cos{\\left(\\theta_{0} \\right)} \\cos{\\left(\\frac{\\phi_{+}}{2} - \\frac{\\phi_{-}}{2} \\right)}}{2}\\\\- \\frac{\\cos{\\left(\\theta_{0} \\right)} \\cos{\\left(\\frac{\\phi_{+}}{2} - \\frac{\\phi_{-}}{2} \\right)}}{2} & - \\frac{\\sin{\\left(\\phi_{-} \\right)} \\sin{\\left(\\theta_{0} \\right)}}{2} & - \\frac{\\sin{\\left(\\theta_{0} \\right)} \\cos{\\left(\\phi_{-} \\right)}}{2} & - \\frac{\\sin{\\left(\\frac{\\phi_{+}}{2} - \\frac{\\phi_{-}}{2} \\right)} \\cos{\\left(\\theta_{0} \\right)}}{2}\\\\\\frac{\\sin{\\left(\\phi_{+} \\right)} \\sin{\\left(\\theta_{0} \\right)}}{2} & - \\frac{\\cos{\\left(\\theta_{0} \\right)} \\cos{\\left(\\frac{\\phi_{+}}{2} - \\frac{\\phi_{-}}{2} \\right)}}{2} & - \\frac{\\sin{\\left(\\frac{\\phi_{+}}{2} - \\frac{\\phi_{-}}{2} \\right)} \\cos{\\left(\\theta_{0} \\right)}}{2} & - \\frac{\\sin{\\left(\\theta_{0} \\right)} \\cos{\\left(\\phi_{+} \\right)}}{2}\\end{matrix}\\right]$"
          },
          "metadata": {},
          "execution_count": 35
        }
      ],
      "source": [
        "# Now, we can define the dipole as we've mentioned in the past and calculate it in the new basis\n",
        "# You may compare the results with that of the paper (Eqs. S18)\n",
        "dipole0 = H0.subs({tsc:0,tsf:0,Z:0,eps:1})\n",
        "dipole = sp.simplify(sp.simplify(Ufull @ dipole0 @ Ufull.transpose()))\n",
        "dipole"
      ]
    },
    {
      "cell_type": "code",
      "execution_count": null,
      "id": "74498d78",
      "metadata": {
        "colab": {
          "base_uri": "https://localhost:8080/",
          "height": 144
        },
        "id": "74498d78",
        "outputId": "37c65a50-f180-4550-f9d0-358807d26838"
      },
      "outputs": [
        {
          "output_type": "execute_result",
          "data": {
            "text/plain": [
              "Matrix([\n",
              "[                        0,  sin(phi_+/2 - phi_-/2)/2, -cos(phi_+/2 - phi_-/2)/2,                         0],\n",
              "[ sin(phi_+/2 - phi_-/2)/2,                         0,                         0, -cos(phi_+/2 - phi_-/2)/2],\n",
              "[-cos(phi_+/2 - phi_-/2)/2,                         0,                         0, -sin(phi_+/2 - phi_-/2)/2],\n",
              "[                        0, -cos(phi_+/2 - phi_-/2)/2, -sin(phi_+/2 - phi_-/2)/2,                         0]])"
            ],
            "text/latex": "$\\displaystyle \\left[\\begin{matrix}0 & \\frac{\\sin{\\left(\\frac{\\phi_{+}}{2} - \\frac{\\phi_{-}}{2} \\right)}}{2} & - \\frac{\\cos{\\left(\\frac{\\phi_{+}}{2} - \\frac{\\phi_{-}}{2} \\right)}}{2} & 0\\\\\\frac{\\sin{\\left(\\frac{\\phi_{+}}{2} - \\frac{\\phi_{-}}{2} \\right)}}{2} & 0 & 0 & - \\frac{\\cos{\\left(\\frac{\\phi_{+}}{2} - \\frac{\\phi_{-}}{2} \\right)}}{2}\\\\- \\frac{\\cos{\\left(\\frac{\\phi_{+}}{2} - \\frac{\\phi_{-}}{2} \\right)}}{2} & 0 & 0 & - \\frac{\\sin{\\left(\\frac{\\phi_{+}}{2} - \\frac{\\phi_{-}}{2} \\right)}}{2}\\\\0 & - \\frac{\\cos{\\left(\\frac{\\phi_{+}}{2} - \\frac{\\phi_{-}}{2} \\right)}}{2} & - \\frac{\\sin{\\left(\\frac{\\phi_{+}}{2} - \\frac{\\phi_{-}}{2} \\right)}}{2} & 0\\end{matrix}\\right]$"
          },
          "metadata": {},
          "execution_count": 36
        }
      ],
      "source": [
        "#more specifically, at zero detuning we have:\n",
        "dipole.subs({theta0:0})"
      ]
    },
    {
      "cell_type": "code",
      "execution_count": null,
      "id": "ee84e8b1",
      "metadata": {
        "id": "ee84e8b1"
      },
      "outputs": [],
      "source": []
    }
  ],
  "metadata": {
    "kernelspec": {
      "display_name": "Python 3 (ipykernel)",
      "language": "python",
      "name": "python3"
    },
    "language_info": {
      "codemirror_mode": {
        "name": "ipython",
        "version": 3
      },
      "file_extension": ".py",
      "mimetype": "text/x-python",
      "name": "python",
      "nbconvert_exporter": "python",
      "pygments_lexer": "ipython3",
      "version": "3.11.7"
    },
    "colab": {
      "provenance": [],
      "include_colab_link": true
    }
  },
  "nbformat": 4,
  "nbformat_minor": 5
}